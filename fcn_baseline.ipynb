{
  "cells": [
    {
      "cell_type": "markdown",
      "metadata": {
        "id": "my7xkL9pnIlL"
      },
      "source": [
        "# ResNet FCN Pytorch\n",
        "In this notebook we will load a resnet model from [pytorch](https://pytorch.org/hub/pytorch_vision_resnet/) and train it on our image dataset."
      ]
    },
    {
      "cell_type": "code",
      "execution_count": 1,
      "metadata": {
        "colab": {
          "base_uri": "https://localhost:8080/"
        },
        "id": "I2IlRZUrodzf",
        "outputId": "70e975e4-cbbe-46ab-8f95-0750c8b53068"
      },
      "outputs": [
        {
          "name": "stdout",
          "output_type": "stream",
          "text": [
            "Drive already mounted at /content/drive; to attempt to forcibly remount, call drive.mount(\"/content/drive\", force_remount=True).\n"
          ]
        }
      ],
      "source": [
        "# Mount Google drive\n",
        "from google.colab import drive\n",
        "drive.mount('/content/drive')"
      ]
    },
    {
      "cell_type": "markdown",
      "metadata": {
        "id": "Wxjq8Qk8r_R5"
      },
      "source": [
        "**MUST RESTART RUNTIME AFTER THIS PILLOW INSTALL**"
      ]
    },
    {
      "cell_type": "code",
      "execution_count": 2,
      "metadata": {
        "colab": {
          "base_uri": "https://localhost:8080/"
        },
        "id": "OuG3ImmjopP6",
        "outputId": "28756020-547d-40ce-9ea9-d71df1cfb75b"
      },
      "outputs": [
        {
          "name": "stdout",
          "output_type": "stream",
          "text": [
            "/content/drive/MyDrive/02740/FinalProject\n",
            "/content/drive/MyDrive/02740/FinalProject\n",
            "Looking in indexes: https://pypi.org/simple, https://us-python.pkg.dev/colab-wheels/public/simple/\n",
            "Requirement already satisfied: pillow==8.2.0 in /usr/local/lib/python3.7/dist-packages (8.2.0)\n"
          ]
        }
      ],
      "source": [
        "# Path to project folder in Drive: /content/drive/MyDrive/02740/FinalProject\n",
        "%cd /content/drive/MyDrive/02740/FinalProject\n",
        "!pwd\n",
        "\n",
        "# Necessaey to avoid torch error: https://github.com/pytorch/pytorch/issues/61125\n",
        "%pip install pillow==8.2.0"
      ]
    },
    {
      "cell_type": "code",
      "execution_count": 7,
      "metadata": {
        "id": "2oR4kSwBp3Fs"
      },
      "outputs": [],
      "source": [
        "import sys\n",
        "sys.path.append('/content/drive/MyDrive/02740/FinalProject/code')\n",
        "# sys.path.append('/content/drive/MyDrive/02740/FinalProject/data/')"
      ]
    },
    {
      "cell_type": "code",
      "execution_count": 3,
      "metadata": {
        "id": "AjJkSLYwsL1a"
      },
      "outputs": [],
      "source": [
        "import numpy as np\n",
        "import random\n",
        "import time\n",
        "import copy\n",
        "from matplotlib import pyplot as plt\n",
        "import os"
      ]
    },
    {
      "cell_type": "code",
      "execution_count": 4,
      "metadata": {
        "id": "17NeLgn4nq01"
      },
      "outputs": [],
      "source": [
        "import torch\n",
        "import torch.nn as nn\n",
        "import torch.nn.functional as F\n",
        "import torch.optim as optim\n",
        "import torchvision\n",
        "import torchvision.transforms as transforms\n",
        "import torchvision.datasets as datasets"
      ]
    },
    {
      "cell_type": "code",
      "execution_count": 5,
      "metadata": {
        "id": "TMnejxW7sJcH"
      },
      "outputs": [],
      "source": [
        "SEED = 2740\n",
        "\n",
        "random.seed(SEED)\n",
        "np.random.seed(SEED)\n",
        "torch.manual_seed(SEED)\n",
        "torch.cuda.manual_seed(SEED)\n",
        "torch.backends.cudnn.deterministic = True"
      ]
    },
    {
      "cell_type": "code",
      "execution_count": 8,
      "metadata": {
        "id": "IaNBNe5ArwyX"
      },
      "outputs": [],
      "source": [
        "from custom_torch_dataset import *\n",
        "from eval_functions import *\n",
        "from transforms import *"
      ]
    },
    {
      "cell_type": "markdown",
      "metadata": {
        "id": "07o0t1HYsA9x"
      },
      "source": [
        "## Load Dataset"
      ]
    },
    {
      "cell_type": "markdown",
      "metadata": {
        "id": "2bFubkbItGDY"
      },
      "source": [
        "### Data Transformations\n"
      ]
    },
    {
      "cell_type": "markdown",
      "metadata": {
        "id": "tBFw3FDQtg8g"
      },
      "source": [
        "Resnet requires that images are loaded in a range [0,1] then normalized mean = [0.485, 0.456, 0.406] and std = [0.229, 0.224, 0.225]"
      ]
    },
    {
      "cell_type": "code",
      "execution_count": 10,
      "metadata": {
        "id": "EvejzoqZUGgS"
      },
      "outputs": [],
      "source": [
        "# train_preprocess = Compose([\n",
        "#     ToTensor(),\n",
        "#     Resize(256),\n",
        "#     RandomHorizontalFlip(0.5),\n",
        "#     Normalize(mean=[0.485, 0.456, 0.406], std=[0.229, 0.224, 0.225]),\n",
        "# ])\n",
        "\n",
        "# test_preprocess = Compose([\n",
        "#     ToTensor(),\n",
        "#     Resize(256),\n",
        "#     Normalize(mean=[0.485, 0.456, 0.406], std=[0.229, 0.224, 0.225]),\n",
        "# ])"
      ]
    },
    {
      "cell_type": "code",
      "execution_count": 14,
      "metadata": {
        "id": "lTHke5Hbyh5J"
      },
      "outputs": [],
      "source": [
        "data_transforms = {\n",
        "    'train': Compose([\n",
        "    ToTensor(),\n",
        "    Resize(256),\n",
        "    RandomHorizontalFlip(0.5),\n",
        "    Normalize(mean=[0.485, 0.456, 0.406], std=[0.229, 0.224, 0.225]),\n",
        "    ]),\n",
        "    'val': Compose([\n",
        "    ToTensor(),\n",
        "    Resize(256),\n",
        "    Normalize(mean=[0.485, 0.456, 0.406], std=[0.229, 0.224, 0.225]),\n",
        "    ]),\n",
        "}"
      ]
    },
    {
      "cell_type": "markdown",
      "metadata": {
        "id": "PFDn6sOetUuM"
      },
      "source": [
        "### Initialize Datasets"
      ]
    },
    {
      "cell_type": "code",
      "execution_count": 12,
      "metadata": {
        "id": "Jy_Ta3GpsuLy"
      },
      "outputs": [],
      "source": [
        "# Initialize custom dataset object\n",
        "# train_dataset = SegDataset(root_dir=train_data_dir,annot_csv=train_annot_path,transform=train_preprocess)\n",
        "# test_dataset = SegDataset(root_dir=test_data_dir,annot_csv=test_annot_path,transform=test_preprocess)\n",
        "# print('Train dataset size:',len(train_dataset))\n",
        "# print('Test dataset size:',len(test_dataset))"
      ]
    },
    {
      "cell_type": "code",
      "source": [
        "num_workers = 2\n",
        "batch_size = 8\n",
        "\n",
        "per_organ = True"
      ],
      "metadata": {
        "id": "dvSpZSvT72tB"
      },
      "execution_count": 13,
      "outputs": []
    },
    {
      "cell_type": "markdown",
      "source": [
        "Full Dataset"
      ],
      "metadata": {
        "id": "FAWVIQWp73fd"
      }
    },
    {
      "cell_type": "code",
      "execution_count": 11,
      "metadata": {
        "id": "GxUhs0PMsAMf"
      },
      "outputs": [],
      "source": [
        "# Paths to directory with training images and the annotation csv file\n",
        "train_data_dir = \"/content/drive/MyDrive/02740/FinalProject/data/hubmap-organ-segmentation/train_images\"\n",
        "train_annot_path = '/content/drive/MyDrive/02740/FinalProject/data/hubmap-organ-segmentation/train_70-30.csv'\n",
        "test_data_dir = \"/content/drive/MyDrive/02740/FinalProject/data/hubmap-organ-segmentation/train_images\"\n",
        "test_annot_path = '/content/drive/MyDrive/02740/FinalProject/data/hubmap-organ-segmentation/test_70-30.csv'"
      ]
    },
    {
      "cell_type": "code",
      "execution_count": 13,
      "metadata": {
        "id": "Sf-3le4xy66L"
      },
      "outputs": [],
      "source": [
        "if not per_organ:\n",
        "    # Create training and validation datasets\n",
        "    image_datasets = {'train': SegDataset(root_dir=train_data_dir,annot_csv=train_annot_path,transform=data_transforms['train']),\n",
        "                      'val': SegDataset(root_dir=test_data_dir,annot_csv=test_annot_path,transform=data_transforms['val']),\n",
        "    }\n",
        "\n",
        "    # Create training and validation dataloaders\n",
        "    dataloaders_dict = {'train': torch.utils.data.DataLoader(image_datasets['train'], batch_size=batch_size, \n",
        "                        shuffle=True, num_workers=num_workers),\n",
        "                        'val': torch.utils.data.DataLoader(image_datasets['val'],batch_size=8, \n",
        "                        shuffle=True, num_workers=num_workers),\n",
        "    }"
      ]
    },
    {
      "cell_type": "markdown",
      "source": [
        "Per Organ"
      ],
      "metadata": {
        "id": "5uX5yo7f76eg"
      }
    },
    {
      "cell_type": "code",
      "source": [
        "organ_data_dir = \"/content/drive/MyDrive/02740/FinalProject/data/hubmap-organ-segmentation/organ_csvs\""
      ],
      "metadata": {
        "id": "BkrTunNn8dvU"
      },
      "execution_count": 9,
      "outputs": []
    },
    {
      "cell_type": "code",
      "execution_count": 12,
      "metadata": {
        "id": "Sf-3le4xy66L"
      },
      "outputs": [],
      "source": [
        "if per_organ:   \n",
        "    organ_datasets = dict()\n",
        "    organ_dataloaders_dict = dict()\n",
        "\n",
        "    for dir in os.listdir(organ_data_dir):\n",
        "        organ_train_csv = organ_data_dir + f'/{dir}/train_70-30.csv'\n",
        "        organ_test_csv = organ_data_dir + f'/{dir}/test_70-30.csv'\n",
        "        # Create training and validation datasets\n",
        "        image_datasets = {'train': SegDataset(root_dir=train_data_dir,annot_csv=organ_train_csv,transform=data_transforms['train']),\n",
        "                          'val': SegDataset(root_dir=test_data_dir,annot_csv=organ_test_csv,transform=data_transforms['val']),\n",
        "        }\n",
        "\n",
        "        # Create training and validation dataloaders\n",
        "        dataloaders_dict = {'train': torch.utils.data.DataLoader(image_datasets['train'], batch_size=batch_size, \n",
        "                        shuffle=True, num_workers=num_workers),\n",
        "                        'val': torch.utils.data.DataLoader(image_datasets['val'],batch_size=8, \n",
        "                        shuffle=True, num_workers=num_workers),\n",
        "        }\n",
        "\n",
        "        # Add to organ data dictionaries\n",
        "        organ_datasets[dir] = image_datasets\n",
        "        organ_dataloaders_dict[dir] = dataloaders_dict\n"
      ],
      "metadata": {
        "id": "E94eBJya7-NZ"
      },
      "execution_count": 16,
      "outputs": []
    },
    {
      "cell_type": "code",
      "execution_count": 14,
      "metadata": {
        "id": "B2L3-zd-36HY"
      },
      "outputs": [],
      "source": [
        "# for inputs, labels, x in dataloaders_dict['train']:\n",
        "# for x in dataloaders_dict['train']:\n",
        "  # print(xs)\n",
        "  # print(type(inputs),inputs.size())\n",
        "  # print(type(labels),labels.size())\n",
        "  # print(type(x))\n",
        "\n",
        "  # break"
      ]
    },
    {
      "cell_type": "markdown",
      "metadata": {
        "id": "8_yaDzs6uKvS"
      },
      "source": [
        "Vizualize data"
      ]
    },
    {
      "cell_type": "code",
      "execution_count": 15,
      "metadata": {
        "id": "TKXGj6kauORP"
      },
      "outputs": [],
      "source": [
        "# for i in range(len(train_dataset)):\n",
        "#     img, mask, sample = train_dataset[i]\n",
        "#     print(img.shape,mask.shape)\n",
        "\n",
        "#     fig, axs = plt.subplots(1,2)\n",
        "#     fig.suptitle(f'{sample[\"id\"]}.tiff: {sample[\"data_source\"]} {sample[\"organ\"]}')\n",
        "#     axs[0].imshow(img.transpose(0,2))\n",
        "#     axs[1].imshow(mask.squeeze())\n",
        "#     plt.tight_layout()\n",
        "#     plt.show()\n",
        "\n",
        "#     if i == 1:\n",
        "#         break"
      ]
    },
    {
      "cell_type": "code",
      "execution_count": 16,
      "metadata": {
        "id": "C13Rru420BoN"
      },
      "outputs": [],
      "source": [
        "# for i in range(len(image_datasets['train'])):\n",
        "#     img, mask, sample = image_datasets['train'][i]\n",
        "#     print(img.shape,mask.shape)\n",
        "\n",
        "#     fig, axs = plt.subplots(1,2)\n",
        "#     fig.suptitle(f'{sample[\"id\"]}.tiff: {sample[\"data_source\"]} {sample[\"organ\"]}')\n",
        "#     axs[0].imshow(img.transpose(0,2))\n",
        "#     axs[1].imshow(mask.squeeze())\n",
        "#     plt.tight_layout()\n",
        "#     plt.show()\n",
        "\n",
        "#     if i == 1:\n",
        "#         break"
      ]
    },
    {
      "cell_type": "markdown",
      "metadata": {
        "id": "pIpK11rxtyR0"
      },
      "source": [
        "## Helper functions"
      ]
    },
    {
      "cell_type": "code",
      "execution_count": 17,
      "metadata": {
        "id": "o44oeltqukTY"
      },
      "outputs": [],
      "source": [
        "def set_parameter_requires_grad(model, feature_extracting):\n",
        "    if feature_extracting:\n",
        "        for param in model.parameters():\n",
        "            param.requires_grad = False"
      ]
    },
    {
      "cell_type": "code",
      "execution_count": 18,
      "metadata": {
        "id": "goO0sdj2u_Ln"
      },
      "outputs": [],
      "source": [
        "def train_model(model, dataloaders, criterion, optimizer, device, num_epochs=25, is_inception=False):\n",
        "    since = time.time()\n",
        "\n",
        "    train_loss_history = []\n",
        "    val_loss_history = []\n",
        "\n",
        "    best_model_wts = copy.deepcopy(model.state_dict())\n",
        "    best_loss = 0.\n",
        "\n",
        "    for epoch in range(num_epochs):\n",
        "        e_start = time.time()\n",
        "        print('Epoch {}/{}'.format(epoch+1, num_epochs))\n",
        "        print('-' * 10)\n",
        "\n",
        "        # Each epoch has a training and validation phase\n",
        "        for phase in ['train', 'val']:\n",
        "            if phase == 'train':\n",
        "                model.train()  # Set model to training mode\n",
        "            else:\n",
        "                model.eval()   # Set model to evaluate mode\n",
        "\n",
        "            running_loss = 0\n",
        "            # running_corrects = 0\n",
        "\n",
        "            # Iterate over data.\n",
        "            for inputs, labels, _ in dataloaders[phase]:\n",
        "                inputs = inputs.to(device)\n",
        "                labels = labels.to(device)\n",
        "\n",
        "                # zero the parameter gradients\n",
        "                optimizer.zero_grad()\n",
        "\n",
        "                # forward\n",
        "                # track history if only in train\n",
        "                with torch.set_grad_enabled(phase == 'train'):\n",
        "                    # Get model outputs and calculate loss\n",
        "                    # Special case for inception because in training it has an auxiliary output. In train\n",
        "                    #   mode we calculate the loss by summing the final output and the auxiliary output\n",
        "                    #   but in testing we only consider the final output.\n",
        "                    if is_inception and phase == 'train':\n",
        "                        # From https://discuss.pytorch.org/t/how-to-optimize-inception-model-with-auxiliary-classifiers/7958\n",
        "                        # outputs, aux_outputs = model(inputs)\n",
        "                        outputs = model(inputs)\n",
        "                        loss1 = criterion(outputs['out'], labels)\n",
        "                        loss2 = criterion(outputs['aux'], labels)\n",
        "                        loss = loss1 + 0.4*loss2\n",
        "                    else:\n",
        "                        # print(f'Intput size: {inputs.size()}')\n",
        "                        # outputs = model(inputs)['out'][:,1,:,:].unsqueeze(1) #.argmax(1).unsqueeze(1)\n",
        "                        outputs = model(inputs)['out'] #.argmax(1).unsqueeze(1)\n",
        "                        # print(f'Output size, label size: {outputs.size()} , {labels.size()}')\n",
        "                        loss = criterion(outputs.float(), labels.float())\n",
        "\n",
        "                        # _, preds = torch.max(outputs, 1)\n",
        "\n",
        "                    # backward + optimize only if in training phase\n",
        "                    if phase == 'train':\n",
        "                        # for param in model.parameters():\n",
        "                        #     param.retain_grad()\n",
        "                        loss.backward()\n",
        "                        optimizer.step()\n",
        "\n",
        "                # statistics\n",
        "                running_loss += loss.item() * inputs.size(0)\n",
        "                # running_corrects += torch.sum(preds == labels.data)\n",
        "\n",
        "            epoch_loss = running_loss / len(dataloaders[phase].dataset)\n",
        "            # epoch_acc = running_corrects.double() / len(dataloaders[phase].dataset)\n",
        "\n",
        "            e_elapsed = time.time() - e_start\n",
        "            print('{} Loss: {:.4f}'.format(phase, epoch_loss))\n",
        "\n",
        "            # deep copy the model\n",
        "            if phase == 'val' and epoch_loss > best_loss:\n",
        "                best_loss = epoch_loss\n",
        "                best_model_wts = copy.deepcopy(model.state_dict())\n",
        "            if phase == 'val':\n",
        "                val_loss_history.append(epoch_loss)\n",
        "            else:\n",
        "                train_loss_history.append(epoch_loss)\n",
        "\n",
        "\n",
        "        print(f'Epoch {epoch+1} took {int(e_elapsed // 60)}m {int(e_elapsed % 60)}s')\n",
        "        print()\n",
        "\n",
        "    time_elapsed = time.time() - since\n",
        "    print('Training complete in {:.0f}m {:.0f}s'.format(time_elapsed // 60, time_elapsed % 60))\n",
        "    print('Best val loss: {:4f}'.format(best_loss))\n",
        "\n",
        "    # load best model weights\n",
        "    model.load_state_dict(best_model_wts)\n",
        "    \n",
        "    return model, train_loss_history, val_loss_history\n"
      ]
    },
    {
      "cell_type": "code",
      "execution_count": 21,
      "metadata": {
        "id": "sX0PUZxSrb9l"
      },
      "outputs": [],
      "source": [
        "def initialize_model(model_name, num_classes, feature_extract, use_pretrained=True):\n",
        "    # Initialize these variables which will be set in this if statement. Each of these\n",
        "    #   variables is model specific.\n",
        "    model_ft = None\n",
        "\n",
        "    if model_name == \"fcn_resnet50\":\n",
        "        \"\"\" FCN-Resnet50\n",
        "        \"\"\"\n",
        "        model_ft = torch.hub.load('pytorch/vision:v0.10.0', 'fcn_resnet50', pretrained=use_pretrained)\n",
        "        set_parameter_requires_grad(model_ft, feature_extract)\n",
        "        model_ft.classifier[4] = nn.Conv2d(512, num_classes, kernel_size=(1, 1), stride=(1, 1))\n",
        "        if use_pretrained:\n",
        "          model_ft.aux_classifier[4] = nn.Conv2d(256, num_classes, kernel_size=(1, 1), stride=(1, 1))\n",
        "        # model_ft.classifier[5] = nn.Sigmoid()\n",
        "\n",
        "    elif model_name == \"fcn_resnet101\":\n",
        "        \"\"\" FCN-Resnet101\n",
        "        \"\"\"\n",
        "        model_ft = torch.hub.load('pytorch/vision:v0.10.0', 'fcn_resnet101', pretrained=use_pretrained)\n",
        "        set_parameter_requires_grad(model_ft, feature_extract)\n",
        "        model_ft.classifier[4] = nn.Conv2d(512, num_classes, kernel_size=(1, 1), stride=(1, 1))\n",
        "        if use_pretrained:\n",
        "          model_ft.aux_classifier[4] = nn.Conv2d(256, num_classes, kernel_size=(1, 1), stride=(1, 1))\n",
        "        # model_ft.classifier[5] = nn.Sigmoid()\n",
        "\n",
        "    else:\n",
        "        print(\"Invalid model name, exiting...\")\n",
        "        exit()\n",
        "\n",
        "    return model_ft\n"
      ]
    },
    {
      "cell_type": "markdown",
      "metadata": {
        "id": "JclKvrl-r4dc"
      },
      "source": [
        "## Load Resnet Model"
      ]
    },
    {
      "cell_type": "markdown",
      "metadata": {
        "id": "S2AVnt1FqV_b"
      },
      "source": [
        "Pytorch implentations of FCN-RESNET"
      ]
    },
    {
      "cell_type": "code",
      "execution_count": 21,
      "metadata": {
        "id": "sXzud8lYoY81"
      },
      "outputs": [],
      "source": [
        "# fcn_model = torch.hub.load('pytorch/vision:v0.10.0', 'fcn_resnet50', pretrained=True)\n",
        "# fcn_model = torch.hub.load('pytorch/vision:v0.10.0', 'fcn_resnet101', pretrained=True)"
      ]
    },
    {
      "cell_type": "markdown",
      "metadata": {
        "id": "LOndIRmLth-l"
      },
      "source": [
        "Modify final layer to accomodate desired number of classes"
      ]
    },
    {
      "cell_type": "code",
      "execution_count": 22,
      "metadata": {
        "id": "omr2Us34rb08"
      },
      "outputs": [],
      "source": [
        "# Modify last layer to predict 2 classes\n",
        "# fcn_model.classifier[4] = nn.Conv2d(512, 2, kernel_size=(1, 1), stride=(1, 1))\n",
        "# fcn_model.aux_classifier[4] = nn.Conv2d(256, 2, kernel_size=(1, 1), stride=(1, 1))\n",
        "# print(fcn_model)"
      ]
    },
    {
      "cell_type": "markdown",
      "metadata": {
        "id": "eDPraSSVyCxT"
      },
      "source": [
        "Load model with helper functions"
      ]
    },
    {
      "cell_type": "code",
      "execution_count": 28,
      "metadata": {
        "id": "iBvcRVNKuwVb"
      },
      "outputs": [],
      "source": [
        "# Models to choose from [resnet, alexnet, vgg, squeezenet, densenet, inception]\n",
        "model_name = \"fcn_resnet101\"\n",
        "\n",
        "# Number of classes in the dataset\n",
        "num_classes = 1\n",
        "\n",
        "# Batch size for training (change depending on how much memory you have)\n",
        "# batch_size = 8\n",
        "\n",
        "# Number of epochs to train for\n",
        "num_epochs = 20\n",
        "\n",
        "# Flag for feature extracting. When False, we finetune the whole model,\n",
        "#   when True we only update the reshaped layer params\n",
        "feature_extract = False"
      ]
    },
    {
      "cell_type": "code",
      "execution_count": 29,
      "metadata": {
        "colab": {
          "base_uri": "https://localhost:8080/"
        },
        "id": "1-3nr2kmyHid",
        "outputId": "820c7134-2202-4037-b580-c1a006557f3d"
      },
      "outputs": [
        {
          "name": "stderr",
          "output_type": "stream",
          "text": [
            "Using cache found in /root/.cache/torch/hub/pytorch_vision_v0.10.0\n",
            "/usr/local/lib/python3.7/dist-packages/torchvision/models/_utils.py:209: UserWarning: The parameter 'pretrained' is deprecated since 0.13 and will be removed in 0.15, please use 'weights' instead.\n",
            "  f\"The parameter '{pretrained_param}' is deprecated since 0.13 and will be removed in 0.15, \"\n",
            "/usr/local/lib/python3.7/dist-packages/torchvision/models/_utils.py:223: UserWarning: Arguments other than a weight enum or `None` for 'weights' are deprecated since 0.13 and will be removed in 0.15. The current behavior is equivalent to passing `weights=FCN_ResNet101_Weights.COCO_WITH_VOC_LABELS_V1`. You can also use `weights=FCN_ResNet101_Weights.DEFAULT` to get the most up-to-date weights.\n",
            "  warnings.warn(msg)\n"
          ]
        }
      ],
      "source": [
        "# Initialize the model for this run\n",
        "pretrained = True\n",
        "\n",
        "fcn_model = initialize_model(model_name, num_classes, feature_extract, use_pretrained=pretrained)\n",
        "\n",
        "# Print the model we just instantiated\n",
        "# print(fcn_model)"
      ]
    },
    {
      "cell_type": "markdown",
      "metadata": {
        "id": "5_JvCMx70VrO"
      },
      "source": [
        "### Model optimizer"
      ]
    },
    {
      "cell_type": "code",
      "execution_count": 30,
      "metadata": {
        "colab": {
          "base_uri": "https://localhost:8080/"
        },
        "id": "Lx34MkHu0gJ7",
        "outputId": "38b1b5b5-4656-474b-ea93-dedf42dfd2e8"
      },
      "outputs": [
        {
          "output_type": "stream",
          "name": "stdout",
          "text": [
            "cuda:0\n"
          ]
        }
      ],
      "source": [
        "# Detect if we have a GPU available\n",
        "device = torch.device(\"cuda:0\" if torch.cuda.is_available() else \"cpu\")\n",
        "print(device)"
      ]
    },
    {
      "cell_type": "code",
      "execution_count": 31,
      "metadata": {
        "id": "4n4ClLfw0bGw"
      },
      "outputs": [],
      "source": [
        "# Send the model to available device\n",
        "fcn_model = fcn_model.to(device)\n",
        "\n",
        "# Gather the parameters to be optimized/updated in this run. If we are\n",
        "#  finetuning we will be updating all parameters. However, if we are\n",
        "#  doing feature extract method, we will only update the parameters\n",
        "#  that we have just initialized, i.e. the parameters with requires_grad\n",
        "#  is True.\n",
        "params_to_update = fcn_model.parameters()\n",
        "# print(\"Params to learn:\")\n",
        "if feature_extract:\n",
        "    params_to_update = []\n",
        "    for name,param in fcn_model.named_parameters():\n",
        "        if param.requires_grad == True:\n",
        "            params_to_update.append(param)\n",
        "            # print(\"\\t\",name)\n",
        "# else:\n",
        "#     for name,param in fcn_model.named_parameters():\n",
        "#         if param.requires_grad == True:\n",
        "#             # print(\"\\t\",name)\n",
        "\n",
        "# Observe that all parameters are being optimized\n",
        "# optimizer = optim.SGD(params_to_update, lr=0.003, momentum=0.9,)\n",
        "\n",
        "# Adam MAXIMIZE (For Dice Coeff)\n",
        "optimizer = optim.SGD(params_to_update, lr=0.003, momentum=0.9,maximize=True)\n"
      ]
    },
    {
      "cell_type": "markdown",
      "metadata": {
        "id": "eygVVq3k0cfy"
      },
      "source": [
        "## Model Training and Validation"
      ]
    },
    {
      "cell_type": "markdown",
      "metadata": {
        "id": "pev0nXXf1X1q"
      },
      "source": [
        "### Model criterion"
      ]
    },
    {
      "cell_type": "code",
      "execution_count": 32,
      "metadata": {
        "id": "konQfjUu0hX-"
      },
      "outputs": [],
      "source": [
        "# Setup the loss fxn\n",
        "# criterion = nn.CrossEntropyLoss()\n",
        "# criterion = nn.BCEWithLogitsLoss()\n",
        "criterion = DiceLoss()\n"
      ]
    },
    {
      "cell_type": "markdown",
      "metadata": {
        "id": "Zw-cZXirQ9UY"
      },
      "source": [
        "Taking ~4 minutes per epoch with batchsize = 8"
      ]
    },
    {
      "cell_type": "code",
      "execution_count": 33,
      "metadata": {
        "colab": {
          "base_uri": "https://localhost:8080/"
        },
        "id": "3TAMkw7i1dBP",
        "outputId": "7f3091b1-33ca-4e08-cad5-1d35637d5859"
      },
      "outputs": [
        {
          "name": "stdout",
          "output_type": "stream",
          "text": [
            "Epoch 1/20\n",
            "----------\n",
            "train Loss: 0.1797\n",
            "val Loss: 0.1999\n",
            "Epoch 1 took 1m 31s\n",
            "\n",
            "Epoch 2/20\n",
            "----------\n",
            "train Loss: 0.2274\n",
            "val Loss: 0.2529\n",
            "Epoch 2 took 1m 33s\n",
            "\n",
            "Epoch 3/20\n",
            "----------\n",
            "train Loss: 0.2751\n",
            "val Loss: 0.3099\n",
            "Epoch 3 took 1m 36s\n",
            "\n",
            "Epoch 4/20\n",
            "----------\n",
            "train Loss: 0.3321\n",
            "val Loss: 0.3656\n",
            "Epoch 4 took 1m 35s\n",
            "\n",
            "Epoch 5/20\n",
            "----------\n",
            "train Loss: 0.3853\n",
            "val Loss: 0.4149\n",
            "Epoch 5 took 1m 33s\n",
            "\n",
            "Epoch 6/20\n",
            "----------\n",
            "train Loss: 0.4484\n",
            "val Loss: 0.4656\n",
            "Epoch 6 took 1m 33s\n",
            "\n",
            "Epoch 7/20\n",
            "----------\n",
            "train Loss: 0.4956\n",
            "val Loss: 0.5381\n",
            "Epoch 7 took 1m 34s\n",
            "\n",
            "Epoch 8/20\n",
            "----------\n",
            "train Loss: 0.5681\n",
            "val Loss: 0.5656\n",
            "Epoch 8 took 1m 34s\n",
            "\n",
            "Epoch 9/20\n",
            "----------\n",
            "train Loss: 0.5875\n",
            "val Loss: 0.5894\n",
            "Epoch 9 took 1m 36s\n",
            "\n",
            "Epoch 10/20\n",
            "----------\n",
            "train Loss: 0.6350\n",
            "val Loss: 0.6052\n",
            "Epoch 10 took 1m 35s\n",
            "\n",
            "Epoch 11/20\n",
            "----------\n",
            "train Loss: 0.6494\n",
            "val Loss: 0.6351\n",
            "Epoch 11 took 1m 34s\n",
            "\n",
            "Epoch 12/20\n",
            "----------\n",
            "train Loss: 0.6645\n",
            "val Loss: 0.6401\n",
            "Epoch 12 took 1m 31s\n",
            "\n",
            "Epoch 13/20\n",
            "----------\n",
            "train Loss: 0.6845\n",
            "val Loss: 0.6286\n",
            "Epoch 13 took 1m 36s\n",
            "\n",
            "Epoch 14/20\n",
            "----------\n",
            "train Loss: 0.6893\n",
            "val Loss: 0.6529\n",
            "Epoch 14 took 1m 31s\n",
            "\n",
            "Epoch 15/20\n",
            "----------\n",
            "train Loss: 0.7125\n",
            "val Loss: 0.6377\n",
            "Epoch 15 took 1m 35s\n",
            "\n",
            "Epoch 16/20\n",
            "----------\n",
            "train Loss: 0.7190\n",
            "val Loss: 0.6665\n",
            "Epoch 16 took 1m 32s\n",
            "\n",
            "Epoch 17/20\n",
            "----------\n",
            "train Loss: 0.7291\n",
            "val Loss: 0.6765\n",
            "Epoch 17 took 1m 35s\n",
            "\n",
            "Epoch 18/20\n",
            "----------\n",
            "train Loss: 0.7289\n",
            "val Loss: 0.6661\n",
            "Epoch 18 took 1m 32s\n",
            "\n",
            "Epoch 19/20\n",
            "----------\n",
            "train Loss: 0.7460\n",
            "val Loss: 0.6595\n",
            "Epoch 19 took 1m 33s\n",
            "\n",
            "Epoch 20/20\n",
            "----------\n",
            "train Loss: 0.7391\n",
            "val Loss: 0.6624\n",
            "Epoch 20 took 1m 33s\n",
            "\n",
            "Training complete in 31m 25s\n",
            "Best val loss: 0.676462\n"
          ]
        }
      ],
      "source": [
        "# Train and evaluate\n",
        "inception = False\n",
        "\n",
        "# fcn_model, train_loss_hist, val_loss_hist = train_model(fcn_model, dataloaders_dict, criterion, optimizer, device, num_epochs=num_epochs,\n",
        "#                               is_inception=inception)\n",
        "fcn_model, train_loss_hist, val_loss_hist = train_model(fcn_model, organ_dataloaders_dict['prostate'], criterion, optimizer, device, num_epochs=num_epochs,\n",
        "                              is_inception=inception)"
      ]
    },
    {
      "cell_type": "code",
      "execution_count": 60,
      "metadata": {
        "colab": {
          "base_uri": "https://localhost:8080/",
          "height": 297
        },
        "id": "K0U5IjGgUvQG",
        "outputId": "6d9ebcb4-177b-40f2-b7b5-1b00261f82bd"
      },
      "outputs": [
        {
          "output_type": "display_data",
          "data": {
            "text/plain": [
              "<Figure size 432x288 with 1 Axes>"
            ],
            "image/png": "[encoded data removed]"
          },
          "metadata": {
            "needs_background": "light"
          }
        }
      ],
      "source": [
        "x = np.linspace(0,num_epochs,num_epochs+1)\n",
        "plt.plot(x, [0]+train_loss_hist, color='tab:orange')\n",
        "plt.plot(x, [0]+val_loss_hist, color='g')\n",
        "\n",
        "plt.title('From Scratch FCN-ResNet-101')\n",
        "plt.ylabel('Dice Loss')\n",
        "plt.xlabel('Epoch')\n",
        "plt.legend(['train','validation'])\n",
        "plt.tight_layout()\n",
        "plt.savefig('FCN-ResNet101_v1_eval_plot1.png')"
      ]
    },
    {
      "cell_type": "markdown",
      "metadata": {
        "id": "gqq3u3mtnpZG"
      },
      "source": [
        "## Make predictions"
      ]
    },
    {
      "cell_type": "code",
      "source": [
        "model2 = initialize_model(model_name, num_classes, feature_extract, use_pretrained=True)\n",
        "\n",
        "PATH = '/content/drive/MyDrive/02740/FinalProject/code/model_checkpoints/fcn_resnet50_lr3e-3.model'\n",
        "checkpoint = torch.load(PATH)\n",
        "model2.load_state_dict(checkpoint['model_state_dict'])\n",
        "model2.eval()\n",
        "model2.to(device)"
      ],
      "metadata": {
        "colab": {
          "base_uri": "https://localhost:8080/"
        },
        "id": "Iihw_cNe00z1",
        "outputId": "365ef1f9-2d71-4505-f9dc-a92731e49d1e"
      },
      "execution_count": 119,
      "outputs": [
        {
          "output_type": "stream",
          "name": "stderr",
          "text": [
            "Using cache found in /root/.cache/torch/hub/pytorch_vision_v0.10.0\n",
            "/usr/local/lib/python3.7/dist-packages/torchvision/models/_utils.py:209: UserWarning: The parameter 'pretrained' is deprecated since 0.13 and will be removed in 0.15, please use 'weights' instead.\n",
            "  f\"The parameter '{pretrained_param}' is deprecated since 0.13 and will be removed in 0.15, \"\n",
            "/usr/local/lib/python3.7/dist-packages/torchvision/models/_utils.py:223: UserWarning: Arguments other than a weight enum or `None` for 'weights' are deprecated since 0.13 and will be removed in 0.15. The current behavior is equivalent to passing `weights=FCN_ResNet50_Weights.COCO_WITH_VOC_LABELS_V1`. You can also use `weights=FCN_ResNet50_Weights.DEFAULT` to get the most up-to-date weights.\n",
            "  warnings.warn(msg)\n"
          ]
        },
        {
          "output_type": "execute_result",
          "data": {
            "text/plain": [
              "FCN(\n",
              "  (backbone): IntermediateLayerGetter(\n",
              "    (conv1): Conv2d(3, 64, kernel_size=(7, 7), stride=(2, 2), padding=(3, 3), bias=False)\n",
              "    (bn1): BatchNorm2d(64, eps=1e-05, momentum=0.1, affine=True, track_running_stats=True)\n",
              "    (relu): ReLU(inplace=True)\n",
              "    (maxpool): MaxPool2d(kernel_size=3, stride=2, padding=1, dilation=1, ceil_mode=False)\n",
              "    (layer1): Sequential(\n",
              "      (0): Bottleneck(\n",
              "        (conv1): Conv2d(64, 64, kernel_size=(1, 1), stride=(1, 1), bias=False)\n",
              "        (bn1): BatchNorm2d(64, eps=1e-05, momentum=0.1, affine=True, track_running_stats=True)\n",
              "        (conv2): Conv2d(64, 64, kernel_size=(3, 3), stride=(1, 1), padding=(1, 1), bias=False)\n",
              "        (bn2): BatchNorm2d(64, eps=1e-05, momentum=0.1, affine=True, track_running_stats=True)\n",
              "        (conv3): Conv2d(64, 256, kernel_size=(1, 1), stride=(1, 1), bias=False)\n",
              "        (bn3): BatchNorm2d(256, eps=1e-05, momentum=0.1, affine=True, track_running_stats=True)\n",
              "        (relu): ReLU(inplace=True)\n",
              "        (downsample): Sequential(\n",
              "          (0): Conv2d(64, 256, kernel_size=(1, 1), stride=(1, 1), bias=False)\n",
              "          (1): BatchNorm2d(256, eps=1e-05, momentum=0.1, affine=True, track_running_stats=True)\n",
              "        )\n",
              "      )\n",
              "      (1): Bottleneck(\n",
              "        (conv1): Conv2d(256, 64, kernel_size=(1, 1), stride=(1, 1), bias=False)\n",
              "        (bn1): BatchNorm2d(64, eps=1e-05, momentum=0.1, affine=True, track_running_stats=True)\n",
              "        (conv2): Conv2d(64, 64, kernel_size=(3, 3), stride=(1, 1), padding=(1, 1), bias=False)\n",
              "        (bn2): BatchNorm2d(64, eps=1e-05, momentum=0.1, affine=True, track_running_stats=True)\n",
              "        (conv3): Conv2d(64, 256, kernel_size=(1, 1), stride=(1, 1), bias=False)\n",
              "        (bn3): BatchNorm2d(256, eps=1e-05, momentum=0.1, affine=True, track_running_stats=True)\n",
              "        (relu): ReLU(inplace=True)\n",
              "      )\n",
              "      (2): Bottleneck(\n",
              "        (conv1): Conv2d(256, 64, kernel_size=(1, 1), stride=(1, 1), bias=False)\n",
              "        (bn1): BatchNorm2d(64, eps=1e-05, momentum=0.1, affine=True, track_running_stats=True)\n",
              "        (conv2): Conv2d(64, 64, kernel_size=(3, 3), stride=(1, 1), padding=(1, 1), bias=False)\n",
              "        (bn2): BatchNorm2d(64, eps=1e-05, momentum=0.1, affine=True, track_running_stats=True)\n",
              "        (conv3): Conv2d(64, 256, kernel_size=(1, 1), stride=(1, 1), bias=False)\n",
              "        (bn3): BatchNorm2d(256, eps=1e-05, momentum=0.1, affine=True, track_running_stats=True)\n",
              "        (relu): ReLU(inplace=True)\n",
              "      )\n",
              "    )\n",
              "    (layer2): Sequential(\n",
              "      (0): Bottleneck(\n",
              "        (conv1): Conv2d(256, 128, kernel_size=(1, 1), stride=(1, 1), bias=False)\n",
              "        (bn1): BatchNorm2d(128, eps=1e-05, momentum=0.1, affine=True, track_running_stats=True)\n",
              "        (conv2): Conv2d(128, 128, kernel_size=(3, 3), stride=(2, 2), padding=(1, 1), bias=False)\n",
              "        (bn2): BatchNorm2d(128, eps=1e-05, momentum=0.1, affine=True, track_running_stats=True)\n",
              "        (conv3): Conv2d(128, 512, kernel_size=(1, 1), stride=(1, 1), bias=False)\n",
              "        (bn3): BatchNorm2d(512, eps=1e-05, momentum=0.1, affine=True, track_running_stats=True)\n",
              "        (relu): ReLU(inplace=True)\n",
              "        (downsample): Sequential(\n",
              "          (0): Conv2d(256, 512, kernel_size=(1, 1), stride=(2, 2), bias=False)\n",
              "          (1): BatchNorm2d(512, eps=1e-05, momentum=0.1, affine=True, track_running_stats=True)\n",
              "        )\n",
              "      )\n",
              "      (1): Bottleneck(\n",
              "        (conv1): Conv2d(512, 128, kernel_size=(1, 1), stride=(1, 1), bias=False)\n",
              "        (bn1): BatchNorm2d(128, eps=1e-05, momentum=0.1, affine=True, track_running_stats=True)\n",
              "        (conv2): Conv2d(128, 128, kernel_size=(3, 3), stride=(1, 1), padding=(1, 1), bias=False)\n",
              "        (bn2): BatchNorm2d(128, eps=1e-05, momentum=0.1, affine=True, track_running_stats=True)\n",
              "        (conv3): Conv2d(128, 512, kernel_size=(1, 1), stride=(1, 1), bias=False)\n",
              "        (bn3): BatchNorm2d(512, eps=1e-05, momentum=0.1, affine=True, track_running_stats=True)\n",
              "        (relu): ReLU(inplace=True)\n",
              "      )\n",
              "      (2): Bottleneck(\n",
              "        (conv1): Conv2d(512, 128, kernel_size=(1, 1), stride=(1, 1), bias=False)\n",
              "        (bn1): BatchNorm2d(128, eps=1e-05, momentum=0.1, affine=True, track_running_stats=True)\n",
              "        (conv2): Conv2d(128, 128, kernel_size=(3, 3), stride=(1, 1), padding=(1, 1), bias=False)\n",
              "        (bn2): BatchNorm2d(128, eps=1e-05, momentum=0.1, affine=True, track_running_stats=True)\n",
              "        (conv3): Conv2d(128, 512, kernel_size=(1, 1), stride=(1, 1), bias=False)\n",
              "        (bn3): BatchNorm2d(512, eps=1e-05, momentum=0.1, affine=True, track_running_stats=True)\n",
              "        (relu): ReLU(inplace=True)\n",
              "      )\n",
              "      (3): Bottleneck(\n",
              "        (conv1): Conv2d(512, 128, kernel_size=(1, 1), stride=(1, 1), bias=False)\n",
              "        (bn1): BatchNorm2d(128, eps=1e-05, momentum=0.1, affine=True, track_running_stats=True)\n",
              "        (conv2): Conv2d(128, 128, kernel_size=(3, 3), stride=(1, 1), padding=(1, 1), bias=False)\n",
              "        (bn2): BatchNorm2d(128, eps=1e-05, momentum=0.1, affine=True, track_running_stats=True)\n",
              "        (conv3): Conv2d(128, 512, kernel_size=(1, 1), stride=(1, 1), bias=False)\n",
              "        (bn3): BatchNorm2d(512, eps=1e-05, momentum=0.1, affine=True, track_running_stats=True)\n",
              "        (relu): ReLU(inplace=True)\n",
              "      )\n",
              "    )\n",
              "    (layer3): Sequential(\n",
              "      (0): Bottleneck(\n",
              "        (conv1): Conv2d(512, 256, kernel_size=(1, 1), stride=(1, 1), bias=False)\n",
              "        (bn1): BatchNorm2d(256, eps=1e-05, momentum=0.1, affine=True, track_running_stats=True)\n",
              "        (conv2): Conv2d(256, 256, kernel_size=(3, 3), stride=(1, 1), padding=(1, 1), bias=False)\n",
              "        (bn2): BatchNorm2d(256, eps=1e-05, momentum=0.1, affine=True, track_running_stats=True)\n",
              "        (conv3): Conv2d(256, 1024, kernel_size=(1, 1), stride=(1, 1), bias=False)\n",
              "        (bn3): BatchNorm2d(1024, eps=1e-05, momentum=0.1, affine=True, track_running_stats=True)\n",
              "        (relu): ReLU(inplace=True)\n",
              "        (downsample): Sequential(\n",
              "          (0): Conv2d(512, 1024, kernel_size=(1, 1), stride=(1, 1), bias=False)\n",
              "          (1): BatchNorm2d(1024, eps=1e-05, momentum=0.1, affine=True, track_running_stats=True)\n",
              "        )\n",
              "      )\n",
              "      (1): Bottleneck(\n",
              "        (conv1): Conv2d(1024, 256, kernel_size=(1, 1), stride=(1, 1), bias=False)\n",
              "        (bn1): BatchNorm2d(256, eps=1e-05, momentum=0.1, affine=True, track_running_stats=True)\n",
              "        (conv2): Conv2d(256, 256, kernel_size=(3, 3), stride=(1, 1), padding=(2, 2), dilation=(2, 2), bias=False)\n",
              "        (bn2): BatchNorm2d(256, eps=1e-05, momentum=0.1, affine=True, track_running_stats=True)\n",
              "        (conv3): Conv2d(256, 1024, kernel_size=(1, 1), stride=(1, 1), bias=False)\n",
              "        (bn3): BatchNorm2d(1024, eps=1e-05, momentum=0.1, affine=True, track_running_stats=True)\n",
              "        (relu): ReLU(inplace=True)\n",
              "      )\n",
              "      (2): Bottleneck(\n",
              "        (conv1): Conv2d(1024, 256, kernel_size=(1, 1), stride=(1, 1), bias=False)\n",
              "        (bn1): BatchNorm2d(256, eps=1e-05, momentum=0.1, affine=True, track_running_stats=True)\n",
              "        (conv2): Conv2d(256, 256, kernel_size=(3, 3), stride=(1, 1), padding=(2, 2), dilation=(2, 2), bias=False)\n",
              "        (bn2): BatchNorm2d(256, eps=1e-05, momentum=0.1, affine=True, track_running_stats=True)\n",
              "        (conv3): Conv2d(256, 1024, kernel_size=(1, 1), stride=(1, 1), bias=False)\n",
              "        (bn3): BatchNorm2d(1024, eps=1e-05, momentum=0.1, affine=True, track_running_stats=True)\n",
              "        (relu): ReLU(inplace=True)\n",
              "      )\n",
              "      (3): Bottleneck(\n",
              "        (conv1): Conv2d(1024, 256, kernel_size=(1, 1), stride=(1, 1), bias=False)\n",
              "        (bn1): BatchNorm2d(256, eps=1e-05, momentum=0.1, affine=True, track_running_stats=True)\n",
              "        (conv2): Conv2d(256, 256, kernel_size=(3, 3), stride=(1, 1), padding=(2, 2), dilation=(2, 2), bias=False)\n",
              "        (bn2): BatchNorm2d(256, eps=1e-05, momentum=0.1, affine=True, track_running_stats=True)\n",
              "        (conv3): Conv2d(256, 1024, kernel_size=(1, 1), stride=(1, 1), bias=False)\n",
              "        (bn3): BatchNorm2d(1024, eps=1e-05, momentum=0.1, affine=True, track_running_stats=True)\n",
              "        (relu): ReLU(inplace=True)\n",
              "      )\n",
              "      (4): Bottleneck(\n",
              "        (conv1): Conv2d(1024, 256, kernel_size=(1, 1), stride=(1, 1), bias=False)\n",
              "        (bn1): BatchNorm2d(256, eps=1e-05, momentum=0.1, affine=True, track_running_stats=True)\n",
              "        (conv2): Conv2d(256, 256, kernel_size=(3, 3), stride=(1, 1), padding=(2, 2), dilation=(2, 2), bias=False)\n",
              "        (bn2): BatchNorm2d(256, eps=1e-05, momentum=0.1, affine=True, track_running_stats=True)\n",
              "        (conv3): Conv2d(256, 1024, kernel_size=(1, 1), stride=(1, 1), bias=False)\n",
              "        (bn3): BatchNorm2d(1024, eps=1e-05, momentum=0.1, affine=True, track_running_stats=True)\n",
              "        (relu): ReLU(inplace=True)\n",
              "      )\n",
              "      (5): Bottleneck(\n",
              "        (conv1): Conv2d(1024, 256, kernel_size=(1, 1), stride=(1, 1), bias=False)\n",
              "        (bn1): BatchNorm2d(256, eps=1e-05, momentum=0.1, affine=True, track_running_stats=True)\n",
              "        (conv2): Conv2d(256, 256, kernel_size=(3, 3), stride=(1, 1), padding=(2, 2), dilation=(2, 2), bias=False)\n",
              "        (bn2): BatchNorm2d(256, eps=1e-05, momentum=0.1, affine=True, track_running_stats=True)\n",
              "        (conv3): Conv2d(256, 1024, kernel_size=(1, 1), stride=(1, 1), bias=False)\n",
              "        (bn3): BatchNorm2d(1024, eps=1e-05, momentum=0.1, affine=True, track_running_stats=True)\n",
              "        (relu): ReLU(inplace=True)\n",
              "      )\n",
              "    )\n",
              "    (layer4): Sequential(\n",
              "      (0): Bottleneck(\n",
              "        (conv1): Conv2d(1024, 512, kernel_size=(1, 1), stride=(1, 1), bias=False)\n",
              "        (bn1): BatchNorm2d(512, eps=1e-05, momentum=0.1, affine=True, track_running_stats=True)\n",
              "        (conv2): Conv2d(512, 512, kernel_size=(3, 3), stride=(1, 1), padding=(2, 2), dilation=(2, 2), bias=False)\n",
              "        (bn2): BatchNorm2d(512, eps=1e-05, momentum=0.1, affine=True, track_running_stats=True)\n",
              "        (conv3): Conv2d(512, 2048, kernel_size=(1, 1), stride=(1, 1), bias=False)\n",
              "        (bn3): BatchNorm2d(2048, eps=1e-05, momentum=0.1, affine=True, track_running_stats=True)\n",
              "        (relu): ReLU(inplace=True)\n",
              "        (downsample): Sequential(\n",
              "          (0): Conv2d(1024, 2048, kernel_size=(1, 1), stride=(1, 1), bias=False)\n",
              "          (1): BatchNorm2d(2048, eps=1e-05, momentum=0.1, affine=True, track_running_stats=True)\n",
              "        )\n",
              "      )\n",
              "      (1): Bottleneck(\n",
              "        (conv1): Conv2d(2048, 512, kernel_size=(1, 1), stride=(1, 1), bias=False)\n",
              "        (bn1): BatchNorm2d(512, eps=1e-05, momentum=0.1, affine=True, track_running_stats=True)\n",
              "        (conv2): Conv2d(512, 512, kernel_size=(3, 3), stride=(1, 1), padding=(4, 4), dilation=(4, 4), bias=False)\n",
              "        (bn2): BatchNorm2d(512, eps=1e-05, momentum=0.1, affine=True, track_running_stats=True)\n",
              "        (conv3): Conv2d(512, 2048, kernel_size=(1, 1), stride=(1, 1), bias=False)\n",
              "        (bn3): BatchNorm2d(2048, eps=1e-05, momentum=0.1, affine=True, track_running_stats=True)\n",
              "        (relu): ReLU(inplace=True)\n",
              "      )\n",
              "      (2): Bottleneck(\n",
              "        (conv1): Conv2d(2048, 512, kernel_size=(1, 1), stride=(1, 1), bias=False)\n",
              "        (bn1): BatchNorm2d(512, eps=1e-05, momentum=0.1, affine=True, track_running_stats=True)\n",
              "        (conv2): Conv2d(512, 512, kernel_size=(3, 3), stride=(1, 1), padding=(4, 4), dilation=(4, 4), bias=False)\n",
              "        (bn2): BatchNorm2d(512, eps=1e-05, momentum=0.1, affine=True, track_running_stats=True)\n",
              "        (conv3): Conv2d(512, 2048, kernel_size=(1, 1), stride=(1, 1), bias=False)\n",
              "        (bn3): BatchNorm2d(2048, eps=1e-05, momentum=0.1, affine=True, track_running_stats=True)\n",
              "        (relu): ReLU(inplace=True)\n",
              "      )\n",
              "    )\n",
              "  )\n",
              "  (classifier): FCNHead(\n",
              "    (0): Conv2d(2048, 512, kernel_size=(3, 3), stride=(1, 1), padding=(1, 1), bias=False)\n",
              "    (1): BatchNorm2d(512, eps=1e-05, momentum=0.1, affine=True, track_running_stats=True)\n",
              "    (2): ReLU()\n",
              "    (3): Dropout(p=0.1, inplace=False)\n",
              "    (4): Conv2d(512, 1, kernel_size=(1, 1), stride=(1, 1))\n",
              "  )\n",
              "  (aux_classifier): FCNHead(\n",
              "    (0): Conv2d(1024, 256, kernel_size=(3, 3), stride=(1, 1), padding=(1, 1), bias=False)\n",
              "    (1): BatchNorm2d(256, eps=1e-05, momentum=0.1, affine=True, track_running_stats=True)\n",
              "    (2): ReLU()\n",
              "    (3): Dropout(p=0.1, inplace=False)\n",
              "    (4): Conv2d(256, 21, kernel_size=(1, 1), stride=(1, 1))\n",
              "  )\n",
              ")"
            ]
          },
          "metadata": {},
          "execution_count": 119
        }
      ]
    },
    {
      "cell_type": "code",
      "execution_count": 34,
      "metadata": {
        "colab": {
          "base_uri": "https://localhost:8080/",
          "height": 308
        },
        "id": "SnkKzqhcnosj",
        "outputId": "e18c1fca-e076-4d01-b097-ec1e20d1424c"
      },
      "outputs": [
        {
          "output_type": "stream",
          "name": "stdout",
          "text": [
            "tensor([6318, 5932, 4062, 5287, 7569, 8638, 5995, 7397])\n",
            "Output size, label size: torch.Size([8, 1, 256, 256]) , torch.Size([8, 1, 256, 256])\n"
          ]
        },
        {
          "output_type": "display_data",
          "data": {
            "text/plain": [
              "<Figure size 720x504 with 16 Axes>"
            ],
            "image/png": "[encoded data removed]"
          },
          "metadata": {}
        }
      ],
      "source": [
        "def encodeRLE(arr):\n",
        "    print('min, median, max:',np.min(arr),np.median(arr),np.max(arr))\n",
        "    # Flatten array column wise\n",
        "    flat = arr.ravel('F') # column-wise\n",
        "    # print('len, sum:',len(flat),np.sum(flat))\n",
        "    switches = np.nonzero(np.append(flat,0) - np.append(0,flat))[0]\n",
        "    if len(switches) == 0:\n",
        "      return np.array([])\n",
        "    # print('len switches:',len(switches))\n",
        "    counts = np.append(switches,switches[-1]) - np.append(0,switches)\n",
        "\n",
        "    # print(len(switches),len(switches[::2][:,None]),len(counts),len(counts[1::2][:,None]))\n",
        "    counts = counts[:-1]\n",
        "    rle = np.hstack((switches[::2][:,None],counts[1::2][:,None]))\n",
        "    \n",
        "    return rle.ravel()\n",
        "\n",
        "\n",
        "# Each epoch has a training and validation phase\n",
        "phase = 'val'\n",
        "is_inception = False\n",
        "\n",
        "fcn_model.eval()   # Set model to evaluate mode\n",
        "\n",
        "running_loss = 0\n",
        "\n",
        "# Iterate over data.\n",
        "# for inputs, labels, samples in dataloaders_dict['val']:\n",
        "for inputs, labels, samples in organ_dataloaders_dict['prostate']['val']:\n",
        "    inputs = inputs.to(device)\n",
        "    labels = labels.to(device)\n",
        "\n",
        "    print(samples['id'])\n",
        "\n",
        "    # zero the parameter gradients\n",
        "    # optimizer.zero_grad()\n",
        "\n",
        "    # forward\n",
        "    with torch.set_grad_enabled(phase == 'train'):\n",
        "        # outputs = fcn_model(inputs) # [:,1,:,:].unsqueeze(1) #.argmax(1).unsqueeze(1)\n",
        "        # out = fcn_model(inputs) # [:,1,:,:].unsqueeze(1) #.argmax(1).unsqueeze(1)\n",
        "        # print(out)\n",
        "        # print(out['out'])\n",
        "        # print(torch.sigmoid(out['out']))\n",
        "        # # print(out['aux'])\n",
        "        # # print(aux)\n",
        "        # break\n",
        "        # Make predictions\n",
        "        outputs = fcn_model(inputs)['out'] # [:,1,:,:].unsqueeze(1) #.argmax(1).unsqueeze(1)\n",
        "        # outputs = model2(inputs)['out'] # [:,1,:,:].unsqueeze(1) #.argmax(1).unsqueeze(1)\n",
        "        print(f'Output size, label size: {outputs.size()} , {labels.size()}')\n",
        "        # print(outputs)\n",
        "        # print(f'outputs max: {torch.sigmoid(outputs).max()}, min: {torch.sigmoid(outputs).min()}') # , min: {outputs.median()}')\n",
        "        # print(torch.sigmoid(outputs))\n",
        "        # break\n",
        "\n",
        "        # print('single value',outputs[0,0,0,0].item())\n",
        "        # loss = criterion(outputs.float(), labels.float())\n",
        "        fig, axs = plt.subplots(2,8,figsize=(10,7))\n",
        "        # raxs = axs.ravel()\n",
        "        # Write predictions to file\n",
        "        with open('submission.csv','w') as sub:\n",
        "            sub.write('id,rle\\n')\n",
        "            # for inx, row in enumerate(samples.iterrows()):\n",
        "            if len(outputs) != 1:\n",
        "                for inx in range(len(outputs)):\n",
        "                    # print('output:\\n', outputs[0,:,110:130,110:130])\n",
        "                    h_out, w_out = samples['img_height'][inx].item(),samples['img_width'][inx].item()\n",
        "                    up = nn.Upsample(size=(h_out,w_out),mode='nearest')\n",
        "                    # print('pre pred shape:',outputs[inx,:,:,:].shape)\n",
        "                    pred = torch.sigmoid(outputs[inx,:,:,:]) #.argmax(axis=0)\n",
        "                    # print('prediction sum:',pred.sum())\n",
        "                    # print('pred shape:',pred.shape)\n",
        "                    mask = up(pred[None,:,:,:].float())[0,0,:,:].cpu().numpy()\n",
        "\n",
        "                    rle = samples['rle'][inx].split()\n",
        "                    rle = np.array([int(x) for x in rle]).reshape(-1,2)\n",
        "                    gt = DecodeRLE(rle,(h_out,w_out))\n",
        "                    axs[0,inx].set_xticks([])\n",
        "                    axs[0,inx].set_yticks([])\n",
        "                    axs[0,inx].imshow(gt,'inferno')\n",
        "                    axs[0,inx].set_title('GT', fontsize=10)\n",
        "                    axs[1,inx].set_xticks([])\n",
        "                    axs[1,inx].set_yticks([])\n",
        "                    axs[1,inx].imshow(mask,'inferno')\n",
        "                    axs[1,inx].set_title('Pred', fontsize=10)\n",
        "                    # print('mask shape:',mask.shape)\n",
        "\n",
        "                    # rle = np.array2string(encodeRLE(mask))[1:-1]\n",
        "                    # print('RLE:',rle[:20])\n",
        "                    # sub.write(f'{samples[\"id\"][inx].item()},{rle}\\n')\n",
        "            else:\n",
        "                # print('output:\\n', outputs[0,:,110:130,110:130])\n",
        "                h_out, w_out = samples['img_height'],samples['img_width']\n",
        "                up = nn.Upsample(size=(h_out,w_out),mode='nearest')\n",
        "                # print('pre pred shape:',outputs[0,:,:,:].shape)\n",
        "                pred = outputs[0,:,:,:].argmax(axis=0)\n",
        "                # print('pred shape:',pred.shape)\n",
        "                mask = up(pred[None,None,:,:].float())[0,0,:,:].cpu().numpy()\n",
        "                # print('mask shape:',mask.shape)\n",
        "                # rle = np.array2string(encodeRLE(mask))[1:-1]\n",
        "                # print('RLE:',rle[:20])\n",
        "                # sub.write(f'{samples[\"id\"].item()},{rle}\\n')\n",
        "            \n",
        "            plt.tight_layout(rect=[0,0.2,1,0.8])\n",
        "            fig.suptitle('Fintuning FCN-ResNet101 Predictions',y=0.8)\n",
        "            # plt.savefig('FCN-ResNet50-noPT_v1_ep20_predictions.png')\n",
        "            plt.show()\n",
        "            break\n",
        "\n",
        "        \n",
        "        "
      ]
    },
    {
      "cell_type": "code",
      "execution_count": null,
      "metadata": {
        "colab": {
          "base_uri": "https://localhost:8080/",
          "height": 35
        },
        "id": "43O_fQC9rDWe",
        "outputId": "802201a1-c6fb-4728-bf45-dbc7f7a50a5a"
      },
      "outputs": [
        {
          "output_type": "execute_result",
          "data": {
            "text/plain": [
              "'0 1 2'"
            ],
            "application/vnd.google.colaboratory.intrinsic+json": {
              "type": "string"
            }
          },
          "metadata": {},
          "execution_count": 29
        }
      ],
      "source": [
        "np.array2string(np.arange(3,dtype=int))[1:-1]"
      ]
    },
    {
      "cell_type": "code",
      "execution_count": 35,
      "metadata": {
        "id": "zmOYObFjrMNt",
        "colab": {
          "base_uri": "https://localhost:8080/",
          "height": 353
        },
        "outputId": "f06db561-9f97-42a7-d96f-f5565a7fdc69"
      },
      "outputs": [
        {
          "output_type": "error",
          "ename": "KeyboardInterrupt",
          "evalue": "ignored",
          "traceback": [
            "\u001b[0;31m---------------------------------------------------------------------------\u001b[0m",
            "\u001b[0;31mKeyboardInterrupt\u001b[0m                         Traceback (most recent call last)",
            "\u001b[0;32m<ipython-input-35-c767547d59db>\u001b[0m in \u001b[0;36m<module>\u001b[0;34m\u001b[0m\n\u001b[1;32m      5\u001b[0m             \u001b[0;34m'model_state_dict'\u001b[0m\u001b[0;34m:\u001b[0m \u001b[0mfcn_model\u001b[0m\u001b[0;34m.\u001b[0m\u001b[0mstate_dict\u001b[0m\u001b[0;34m(\u001b[0m\u001b[0;34m)\u001b[0m\u001b[0;34m,\u001b[0m\u001b[0;34m\u001b[0m\u001b[0;34m\u001b[0m\u001b[0m\n\u001b[1;32m      6\u001b[0m             \u001b[0;34m'optimizer_state_dict'\u001b[0m\u001b[0;34m:\u001b[0m \u001b[0moptimizer\u001b[0m\u001b[0;34m.\u001b[0m\u001b[0mstate_dict\u001b[0m\u001b[0;34m(\u001b[0m\u001b[0;34m)\u001b[0m\u001b[0;34m,\u001b[0m\u001b[0;34m\u001b[0m\u001b[0;34m\u001b[0m\u001b[0m\n\u001b[0;32m----> 7\u001b[0;31m             }, PATH)\n\u001b[0m",
            "\u001b[0;32m/usr/local/lib/python3.7/dist-packages/torch/serialization.py\u001b[0m in \u001b[0;36msave\u001b[0;34m(obj, f, pickle_module, pickle_protocol, _use_new_zipfile_serialization)\u001b[0m\n\u001b[1;32m    374\u001b[0m     \u001b[0m_check_dill_version\u001b[0m\u001b[0;34m(\u001b[0m\u001b[0mpickle_module\u001b[0m\u001b[0;34m)\u001b[0m\u001b[0;34m\u001b[0m\u001b[0;34m\u001b[0m\u001b[0m\n\u001b[1;32m    375\u001b[0m \u001b[0;34m\u001b[0m\u001b[0m\n\u001b[0;32m--> 376\u001b[0;31m     \u001b[0;32mwith\u001b[0m \u001b[0m_open_file_like\u001b[0m\u001b[0;34m(\u001b[0m\u001b[0mf\u001b[0m\u001b[0;34m,\u001b[0m \u001b[0;34m'wb'\u001b[0m\u001b[0;34m)\u001b[0m \u001b[0;32mas\u001b[0m \u001b[0mopened_file\u001b[0m\u001b[0;34m:\u001b[0m\u001b[0;34m\u001b[0m\u001b[0;34m\u001b[0m\u001b[0m\n\u001b[0m\u001b[1;32m    377\u001b[0m         \u001b[0;32mif\u001b[0m \u001b[0m_use_new_zipfile_serialization\u001b[0m\u001b[0;34m:\u001b[0m\u001b[0;34m\u001b[0m\u001b[0;34m\u001b[0m\u001b[0m\n\u001b[1;32m    378\u001b[0m             \u001b[0;32mwith\u001b[0m \u001b[0m_open_zipfile_writer\u001b[0m\u001b[0;34m(\u001b[0m\u001b[0mopened_file\u001b[0m\u001b[0;34m)\u001b[0m \u001b[0;32mas\u001b[0m \u001b[0mopened_zipfile\u001b[0m\u001b[0;34m:\u001b[0m\u001b[0;34m\u001b[0m\u001b[0;34m\u001b[0m\u001b[0m\n",
            "\u001b[0;32m/usr/local/lib/python3.7/dist-packages/torch/serialization.py\u001b[0m in \u001b[0;36m_open_file_like\u001b[0;34m(name_or_buffer, mode)\u001b[0m\n\u001b[1;32m    228\u001b[0m \u001b[0;32mdef\u001b[0m \u001b[0m_open_file_like\u001b[0m\u001b[0;34m(\u001b[0m\u001b[0mname_or_buffer\u001b[0m\u001b[0;34m,\u001b[0m \u001b[0mmode\u001b[0m\u001b[0;34m)\u001b[0m\u001b[0;34m:\u001b[0m\u001b[0;34m\u001b[0m\u001b[0;34m\u001b[0m\u001b[0m\n\u001b[1;32m    229\u001b[0m     \u001b[0;32mif\u001b[0m \u001b[0m_is_path\u001b[0m\u001b[0;34m(\u001b[0m\u001b[0mname_or_buffer\u001b[0m\u001b[0;34m)\u001b[0m\u001b[0;34m:\u001b[0m\u001b[0;34m\u001b[0m\u001b[0;34m\u001b[0m\u001b[0m\n\u001b[0;32m--> 230\u001b[0;31m         \u001b[0;32mreturn\u001b[0m \u001b[0m_open_file\u001b[0m\u001b[0;34m(\u001b[0m\u001b[0mname_or_buffer\u001b[0m\u001b[0;34m,\u001b[0m \u001b[0mmode\u001b[0m\u001b[0;34m)\u001b[0m\u001b[0;34m\u001b[0m\u001b[0;34m\u001b[0m\u001b[0m\n\u001b[0m\u001b[1;32m    231\u001b[0m     \u001b[0;32melse\u001b[0m\u001b[0;34m:\u001b[0m\u001b[0;34m\u001b[0m\u001b[0;34m\u001b[0m\u001b[0m\n\u001b[1;32m    232\u001b[0m         \u001b[0;32mif\u001b[0m \u001b[0;34m'w'\u001b[0m \u001b[0;32min\u001b[0m \u001b[0mmode\u001b[0m\u001b[0;34m:\u001b[0m\u001b[0;34m\u001b[0m\u001b[0;34m\u001b[0m\u001b[0m\n",
            "\u001b[0;32m/usr/local/lib/python3.7/dist-packages/torch/serialization.py\u001b[0m in \u001b[0;36m__init__\u001b[0;34m(self, name, mode)\u001b[0m\n\u001b[1;32m    209\u001b[0m \u001b[0;32mclass\u001b[0m \u001b[0m_open_file\u001b[0m\u001b[0;34m(\u001b[0m\u001b[0m_opener\u001b[0m\u001b[0;34m)\u001b[0m\u001b[0;34m:\u001b[0m\u001b[0;34m\u001b[0m\u001b[0;34m\u001b[0m\u001b[0m\n\u001b[1;32m    210\u001b[0m     \u001b[0;32mdef\u001b[0m \u001b[0m__init__\u001b[0m\u001b[0;34m(\u001b[0m\u001b[0mself\u001b[0m\u001b[0;34m,\u001b[0m \u001b[0mname\u001b[0m\u001b[0;34m,\u001b[0m \u001b[0mmode\u001b[0m\u001b[0;34m)\u001b[0m\u001b[0;34m:\u001b[0m\u001b[0;34m\u001b[0m\u001b[0;34m\u001b[0m\u001b[0m\n\u001b[0;32m--> 211\u001b[0;31m         \u001b[0msuper\u001b[0m\u001b[0;34m(\u001b[0m\u001b[0m_open_file\u001b[0m\u001b[0;34m,\u001b[0m \u001b[0mself\u001b[0m\u001b[0;34m)\u001b[0m\u001b[0;34m.\u001b[0m\u001b[0m__init__\u001b[0m\u001b[0;34m(\u001b[0m\u001b[0mopen\u001b[0m\u001b[0;34m(\u001b[0m\u001b[0mname\u001b[0m\u001b[0;34m,\u001b[0m \u001b[0mmode\u001b[0m\u001b[0;34m)\u001b[0m\u001b[0;34m)\u001b[0m\u001b[0;34m\u001b[0m\u001b[0;34m\u001b[0m\u001b[0m\n\u001b[0m\u001b[1;32m    212\u001b[0m \u001b[0;34m\u001b[0m\u001b[0m\n\u001b[1;32m    213\u001b[0m     \u001b[0;32mdef\u001b[0m \u001b[0m__exit__\u001b[0m\u001b[0;34m(\u001b[0m\u001b[0mself\u001b[0m\u001b[0;34m,\u001b[0m \u001b[0;34m*\u001b[0m\u001b[0margs\u001b[0m\u001b[0;34m)\u001b[0m\u001b[0;34m:\u001b[0m\u001b[0;34m\u001b[0m\u001b[0;34m\u001b[0m\u001b[0m\n",
            "\u001b[0;31mKeyboardInterrupt\u001b[0m: "
          ]
        }
      ],
      "source": [
        "# Save model for continued training\n",
        "PATH = '/content/drive/MyDrive/02740/FinalProject/code/model_checkpoints/fcn_resnet101_lr3e-3.model'\n",
        "torch.save({\n",
        "            'epoch': 20,\n",
        "            'model_state_dict': fcn_model.state_dict(),\n",
        "            'optimizer_state_dict': optimizer.state_dict(),\n",
        "            }, PATH)"
      ]
    },
    {
      "cell_type": "code",
      "source": [
        "fcn_model"
      ],
      "metadata": {
        "colab": {
          "base_uri": "https://localhost:8080/"
        },
        "id": "0gSxcqXFQAFF",
        "outputId": "04985160-bbac-4603-da6d-72fc83062703"
      },
      "execution_count": 42,
      "outputs": [
        {
          "output_type": "execute_result",
          "data": {
            "text/plain": [
              "FCN(\n",
              "  (backbone): IntermediateLayerGetter(\n",
              "    (conv1): Conv2d(3, 64, kernel_size=(7, 7), stride=(2, 2), padding=(3, 3), bias=False)\n",
              "    (bn1): BatchNorm2d(64, eps=1e-05, momentum=0.1, affine=True, track_running_stats=True)\n",
              "    (relu): ReLU(inplace=True)\n",
              "    (maxpool): MaxPool2d(kernel_size=3, stride=2, padding=1, dilation=1, ceil_mode=False)\n",
              "    (layer1): Sequential(\n",
              "      (0): Bottleneck(\n",
              "        (conv1): Conv2d(64, 64, kernel_size=(1, 1), stride=(1, 1), bias=False)\n",
              "        (bn1): BatchNorm2d(64, eps=1e-05, momentum=0.1, affine=True, track_running_stats=True)\n",
              "        (conv2): Conv2d(64, 64, kernel_size=(3, 3), stride=(1, 1), padding=(1, 1), bias=False)\n",
              "        (bn2): BatchNorm2d(64, eps=1e-05, momentum=0.1, affine=True, track_running_stats=True)\n",
              "        (conv3): Conv2d(64, 256, kernel_size=(1, 1), stride=(1, 1), bias=False)\n",
              "        (bn3): BatchNorm2d(256, eps=1e-05, momentum=0.1, affine=True, track_running_stats=True)\n",
              "        (relu): ReLU(inplace=True)\n",
              "        (downsample): Sequential(\n",
              "          (0): Conv2d(64, 256, kernel_size=(1, 1), stride=(1, 1), bias=False)\n",
              "          (1): BatchNorm2d(256, eps=1e-05, momentum=0.1, affine=True, track_running_stats=True)\n",
              "        )\n",
              "      )\n",
              "      (1): Bottleneck(\n",
              "        (conv1): Conv2d(256, 64, kernel_size=(1, 1), stride=(1, 1), bias=False)\n",
              "        (bn1): BatchNorm2d(64, eps=1e-05, momentum=0.1, affine=True, track_running_stats=True)\n",
              "        (conv2): Conv2d(64, 64, kernel_size=(3, 3), stride=(1, 1), padding=(1, 1), bias=False)\n",
              "        (bn2): BatchNorm2d(64, eps=1e-05, momentum=0.1, affine=True, track_running_stats=True)\n",
              "        (conv3): Conv2d(64, 256, kernel_size=(1, 1), stride=(1, 1), bias=False)\n",
              "        (bn3): BatchNorm2d(256, eps=1e-05, momentum=0.1, affine=True, track_running_stats=True)\n",
              "        (relu): ReLU(inplace=True)\n",
              "      )\n",
              "      (2): Bottleneck(\n",
              "        (conv1): Conv2d(256, 64, kernel_size=(1, 1), stride=(1, 1), bias=False)\n",
              "        (bn1): BatchNorm2d(64, eps=1e-05, momentum=0.1, affine=True, track_running_stats=True)\n",
              "        (conv2): Conv2d(64, 64, kernel_size=(3, 3), stride=(1, 1), padding=(1, 1), bias=False)\n",
              "        (bn2): BatchNorm2d(64, eps=1e-05, momentum=0.1, affine=True, track_running_stats=True)\n",
              "        (conv3): Conv2d(64, 256, kernel_size=(1, 1), stride=(1, 1), bias=False)\n",
              "        (bn3): BatchNorm2d(256, eps=1e-05, momentum=0.1, affine=True, track_running_stats=True)\n",
              "        (relu): ReLU(inplace=True)\n",
              "      )\n",
              "    )\n",
              "    (layer2): Sequential(\n",
              "      (0): Bottleneck(\n",
              "        (conv1): Conv2d(256, 128, kernel_size=(1, 1), stride=(1, 1), bias=False)\n",
              "        (bn1): BatchNorm2d(128, eps=1e-05, momentum=0.1, affine=True, track_running_stats=True)\n",
              "        (conv2): Conv2d(128, 128, kernel_size=(3, 3), stride=(2, 2), padding=(1, 1), bias=False)\n",
              "        (bn2): BatchNorm2d(128, eps=1e-05, momentum=0.1, affine=True, track_running_stats=True)\n",
              "        (conv3): Conv2d(128, 512, kernel_size=(1, 1), stride=(1, 1), bias=False)\n",
              "        (bn3): BatchNorm2d(512, eps=1e-05, momentum=0.1, affine=True, track_running_stats=True)\n",
              "        (relu): ReLU(inplace=True)\n",
              "        (downsample): Sequential(\n",
              "          (0): Conv2d(256, 512, kernel_size=(1, 1), stride=(2, 2), bias=False)\n",
              "          (1): BatchNorm2d(512, eps=1e-05, momentum=0.1, affine=True, track_running_stats=True)\n",
              "        )\n",
              "      )\n",
              "      (1): Bottleneck(\n",
              "        (conv1): Conv2d(512, 128, kernel_size=(1, 1), stride=(1, 1), bias=False)\n",
              "        (bn1): BatchNorm2d(128, eps=1e-05, momentum=0.1, affine=True, track_running_stats=True)\n",
              "        (conv2): Conv2d(128, 128, kernel_size=(3, 3), stride=(1, 1), padding=(1, 1), bias=False)\n",
              "        (bn2): BatchNorm2d(128, eps=1e-05, momentum=0.1, affine=True, track_running_stats=True)\n",
              "        (conv3): Conv2d(128, 512, kernel_size=(1, 1), stride=(1, 1), bias=False)\n",
              "        (bn3): BatchNorm2d(512, eps=1e-05, momentum=0.1, affine=True, track_running_stats=True)\n",
              "        (relu): ReLU(inplace=True)\n",
              "      )\n",
              "      (2): Bottleneck(\n",
              "        (conv1): Conv2d(512, 128, kernel_size=(1, 1), stride=(1, 1), bias=False)\n",
              "        (bn1): BatchNorm2d(128, eps=1e-05, momentum=0.1, affine=True, track_running_stats=True)\n",
              "        (conv2): Conv2d(128, 128, kernel_size=(3, 3), stride=(1, 1), padding=(1, 1), bias=False)\n",
              "        (bn2): BatchNorm2d(128, eps=1e-05, momentum=0.1, affine=True, track_running_stats=True)\n",
              "        (conv3): Conv2d(128, 512, kernel_size=(1, 1), stride=(1, 1), bias=False)\n",
              "        (bn3): BatchNorm2d(512, eps=1e-05, momentum=0.1, affine=True, track_running_stats=True)\n",
              "        (relu): ReLU(inplace=True)\n",
              "      )\n",
              "      (3): Bottleneck(\n",
              "        (conv1): Conv2d(512, 128, kernel_size=(1, 1), stride=(1, 1), bias=False)\n",
              "        (bn1): BatchNorm2d(128, eps=1e-05, momentum=0.1, affine=True, track_running_stats=True)\n",
              "        (conv2): Conv2d(128, 128, kernel_size=(3, 3), stride=(1, 1), padding=(1, 1), bias=False)\n",
              "        (bn2): BatchNorm2d(128, eps=1e-05, momentum=0.1, affine=True, track_running_stats=True)\n",
              "        (conv3): Conv2d(128, 512, kernel_size=(1, 1), stride=(1, 1), bias=False)\n",
              "        (bn3): BatchNorm2d(512, eps=1e-05, momentum=0.1, affine=True, track_running_stats=True)\n",
              "        (relu): ReLU(inplace=True)\n",
              "      )\n",
              "    )\n",
              "    (layer3): Sequential(\n",
              "      (0): Bottleneck(\n",
              "        (conv1): Conv2d(512, 256, kernel_size=(1, 1), stride=(1, 1), bias=False)\n",
              "        (bn1): BatchNorm2d(256, eps=1e-05, momentum=0.1, affine=True, track_running_stats=True)\n",
              "        (conv2): Conv2d(256, 256, kernel_size=(3, 3), stride=(1, 1), padding=(1, 1), bias=False)\n",
              "        (bn2): BatchNorm2d(256, eps=1e-05, momentum=0.1, affine=True, track_running_stats=True)\n",
              "        (conv3): Conv2d(256, 1024, kernel_size=(1, 1), stride=(1, 1), bias=False)\n",
              "        (bn3): BatchNorm2d(1024, eps=1e-05, momentum=0.1, affine=True, track_running_stats=True)\n",
              "        (relu): ReLU(inplace=True)\n",
              "        (downsample): Sequential(\n",
              "          (0): Conv2d(512, 1024, kernel_size=(1, 1), stride=(1, 1), bias=False)\n",
              "          (1): BatchNorm2d(1024, eps=1e-05, momentum=0.1, affine=True, track_running_stats=True)\n",
              "        )\n",
              "      )\n",
              "      (1): Bottleneck(\n",
              "        (conv1): Conv2d(1024, 256, kernel_size=(1, 1), stride=(1, 1), bias=False)\n",
              "        (bn1): BatchNorm2d(256, eps=1e-05, momentum=0.1, affine=True, track_running_stats=True)\n",
              "        (conv2): Conv2d(256, 256, kernel_size=(3, 3), stride=(1, 1), padding=(2, 2), dilation=(2, 2), bias=False)\n",
              "        (bn2): BatchNorm2d(256, eps=1e-05, momentum=0.1, affine=True, track_running_stats=True)\n",
              "        (conv3): Conv2d(256, 1024, kernel_size=(1, 1), stride=(1, 1), bias=False)\n",
              "        (bn3): BatchNorm2d(1024, eps=1e-05, momentum=0.1, affine=True, track_running_stats=True)\n",
              "        (relu): ReLU(inplace=True)\n",
              "      )\n",
              "      (2): Bottleneck(\n",
              "        (conv1): Conv2d(1024, 256, kernel_size=(1, 1), stride=(1, 1), bias=False)\n",
              "        (bn1): BatchNorm2d(256, eps=1e-05, momentum=0.1, affine=True, track_running_stats=True)\n",
              "        (conv2): Conv2d(256, 256, kernel_size=(3, 3), stride=(1, 1), padding=(2, 2), dilation=(2, 2), bias=False)\n",
              "        (bn2): BatchNorm2d(256, eps=1e-05, momentum=0.1, affine=True, track_running_stats=True)\n",
              "        (conv3): Conv2d(256, 1024, kernel_size=(1, 1), stride=(1, 1), bias=False)\n",
              "        (bn3): BatchNorm2d(1024, eps=1e-05, momentum=0.1, affine=True, track_running_stats=True)\n",
              "        (relu): ReLU(inplace=True)\n",
              "      )\n",
              "      (3): Bottleneck(\n",
              "        (conv1): Conv2d(1024, 256, kernel_size=(1, 1), stride=(1, 1), bias=False)\n",
              "        (bn1): BatchNorm2d(256, eps=1e-05, momentum=0.1, affine=True, track_running_stats=True)\n",
              "        (conv2): Conv2d(256, 256, kernel_size=(3, 3), stride=(1, 1), padding=(2, 2), dilation=(2, 2), bias=False)\n",
              "        (bn2): BatchNorm2d(256, eps=1e-05, momentum=0.1, affine=True, track_running_stats=True)\n",
              "        (conv3): Conv2d(256, 1024, kernel_size=(1, 1), stride=(1, 1), bias=False)\n",
              "        (bn3): BatchNorm2d(1024, eps=1e-05, momentum=0.1, affine=True, track_running_stats=True)\n",
              "        (relu): ReLU(inplace=True)\n",
              "      )\n",
              "      (4): Bottleneck(\n",
              "        (conv1): Conv2d(1024, 256, kernel_size=(1, 1), stride=(1, 1), bias=False)\n",
              "        (bn1): BatchNorm2d(256, eps=1e-05, momentum=0.1, affine=True, track_running_stats=True)\n",
              "        (conv2): Conv2d(256, 256, kernel_size=(3, 3), stride=(1, 1), padding=(2, 2), dilation=(2, 2), bias=False)\n",
              "        (bn2): BatchNorm2d(256, eps=1e-05, momentum=0.1, affine=True, track_running_stats=True)\n",
              "        (conv3): Conv2d(256, 1024, kernel_size=(1, 1), stride=(1, 1), bias=False)\n",
              "        (bn3): BatchNorm2d(1024, eps=1e-05, momentum=0.1, affine=True, track_running_stats=True)\n",
              "        (relu): ReLU(inplace=True)\n",
              "      )\n",
              "      (5): Bottleneck(\n",
              "        (conv1): Conv2d(1024, 256, kernel_size=(1, 1), stride=(1, 1), bias=False)\n",
              "        (bn1): BatchNorm2d(256, eps=1e-05, momentum=0.1, affine=True, track_running_stats=True)\n",
              "        (conv2): Conv2d(256, 256, kernel_size=(3, 3), stride=(1, 1), padding=(2, 2), dilation=(2, 2), bias=False)\n",
              "        (bn2): BatchNorm2d(256, eps=1e-05, momentum=0.1, affine=True, track_running_stats=True)\n",
              "        (conv3): Conv2d(256, 1024, kernel_size=(1, 1), stride=(1, 1), bias=False)\n",
              "        (bn3): BatchNorm2d(1024, eps=1e-05, momentum=0.1, affine=True, track_running_stats=True)\n",
              "        (relu): ReLU(inplace=True)\n",
              "      )\n",
              "    )\n",
              "    (layer4): Sequential(\n",
              "      (0): Bottleneck(\n",
              "        (conv1): Conv2d(1024, 512, kernel_size=(1, 1), stride=(1, 1), bias=False)\n",
              "        (bn1): BatchNorm2d(512, eps=1e-05, momentum=0.1, affine=True, track_running_stats=True)\n",
              "        (conv2): Conv2d(512, 512, kernel_size=(3, 3), stride=(1, 1), padding=(2, 2), dilation=(2, 2), bias=False)\n",
              "        (bn2): BatchNorm2d(512, eps=1e-05, momentum=0.1, affine=True, track_running_stats=True)\n",
              "        (conv3): Conv2d(512, 2048, kernel_size=(1, 1), stride=(1, 1), bias=False)\n",
              "        (bn3): BatchNorm2d(2048, eps=1e-05, momentum=0.1, affine=True, track_running_stats=True)\n",
              "        (relu): ReLU(inplace=True)\n",
              "        (downsample): Sequential(\n",
              "          (0): Conv2d(1024, 2048, kernel_size=(1, 1), stride=(1, 1), bias=False)\n",
              "          (1): BatchNorm2d(2048, eps=1e-05, momentum=0.1, affine=True, track_running_stats=True)\n",
              "        )\n",
              "      )\n",
              "      (1): Bottleneck(\n",
              "        (conv1): Conv2d(2048, 512, kernel_size=(1, 1), stride=(1, 1), bias=False)\n",
              "        (bn1): BatchNorm2d(512, eps=1e-05, momentum=0.1, affine=True, track_running_stats=True)\n",
              "        (conv2): Conv2d(512, 512, kernel_size=(3, 3), stride=(1, 1), padding=(4, 4), dilation=(4, 4), bias=False)\n",
              "        (bn2): BatchNorm2d(512, eps=1e-05, momentum=0.1, affine=True, track_running_stats=True)\n",
              "        (conv3): Conv2d(512, 2048, kernel_size=(1, 1), stride=(1, 1), bias=False)\n",
              "        (bn3): BatchNorm2d(2048, eps=1e-05, momentum=0.1, affine=True, track_running_stats=True)\n",
              "        (relu): ReLU(inplace=True)\n",
              "      )\n",
              "      (2): Bottleneck(\n",
              "        (conv1): Conv2d(2048, 512, kernel_size=(1, 1), stride=(1, 1), bias=False)\n",
              "        (bn1): BatchNorm2d(512, eps=1e-05, momentum=0.1, affine=True, track_running_stats=True)\n",
              "        (conv2): Conv2d(512, 512, kernel_size=(3, 3), stride=(1, 1), padding=(4, 4), dilation=(4, 4), bias=False)\n",
              "        (bn2): BatchNorm2d(512, eps=1e-05, momentum=0.1, affine=True, track_running_stats=True)\n",
              "        (conv3): Conv2d(512, 2048, kernel_size=(1, 1), stride=(1, 1), bias=False)\n",
              "        (bn3): BatchNorm2d(2048, eps=1e-05, momentum=0.1, affine=True, track_running_stats=True)\n",
              "        (relu): ReLU(inplace=True)\n",
              "      )\n",
              "    )\n",
              "  )\n",
              "  (classifier): FCNHead(\n",
              "    (0): Conv2d(2048, 512, kernel_size=(3, 3), stride=(1, 1), padding=(1, 1), bias=False)\n",
              "    (1): BatchNorm2d(512, eps=1e-05, momentum=0.1, affine=True, track_running_stats=True)\n",
              "    (2): ReLU()\n",
              "    (3): Dropout(p=0.1, inplace=False)\n",
              "    (4): Conv2d(512, 1, kernel_size=(1, 1), stride=(1, 1))\n",
              "  )\n",
              ")"
            ]
          },
          "metadata": {},
          "execution_count": 42
        }
      ]
    },
    {
      "cell_type": "markdown",
      "source": [
        "how to embed image in markdown\n",
        "<!-- ![alt text](https://drive.google.com/uc?id=1yiFgpOt521fQ9GUa_dOJUNooy9kPMiDm \"Title\") -->"
      ],
      "metadata": {
        "id": "LYNL7PB0ngFS"
      }
    },
    {
      "cell_type": "code",
      "source": [],
      "metadata": {
        "id": "ZJ6RjfKAngx2"
      },
      "execution_count": null,
      "outputs": []
    }
  ],
  "metadata": {
    "colab": {
      "provenance": [],
      "toc_visible": true
    },
    "gpuClass": "standard",
    "kernelspec": {
      "display_name": "Python 3",
      "name": "python3"
    },
    "language_info": {
      "name": "python"
    },
    "accelerator": "GPU"
  },
  "nbformat": 4,
  "nbformat_minor": 0
}
