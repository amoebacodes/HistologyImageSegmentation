{
  "cells": [
    {
      "cell_type": "markdown",
      "metadata": {
        "id": "my7xkL9pnIlL"
      },
      "source": [
        "# ResNet FCN Pytorch\n",
        "In this notebook we will load a resnet model from [pytorch](https://pytorch.org/hub/pytorch_vision_resnet/) and train it on our image dataset."
      ]
    },
    {
      "cell_type": "code",
      "execution_count": 1,
      "metadata": {
        "colab": {
          "base_uri": "https://localhost:8080/"
        },
        "id": "I2IlRZUrodzf",
        "outputId": "629d0970-592a-4465-d5c9-41e16678af91"
      },
      "outputs": [
        {
          "output_type": "stream",
          "name": "stdout",
          "text": [
            "Drive already mounted at /content/drive; to attempt to forcibly remount, call drive.mount(\"/content/drive\", force_remount=True).\n"
          ]
        }
      ],
      "source": [
        "# Mount Google drive\n",
        "from google.colab import drive\n",
        "drive.mount('/content/drive')"
      ]
    },
    {
      "cell_type": "markdown",
      "metadata": {
        "id": "Wxjq8Qk8r_R5"
      },
      "source": [
        "**MUST RESTART RUNTIME AFTER THIS PILLOW INSTALL**"
      ]
    },
    {
      "cell_type": "code",
      "execution_count": 2,
      "metadata": {
        "colab": {
          "base_uri": "https://localhost:8080/"
        },
        "id": "OuG3ImmjopP6",
        "outputId": "21ca4c98-92e9-4757-b110-2305897775c3"
      },
      "outputs": [
        {
          "output_type": "stream",
          "name": "stdout",
          "text": [
            "/content/drive/MyDrive/02740/FinalProject\n",
            "/content/drive/MyDrive/02740/FinalProject\n",
            "Looking in indexes: https://pypi.org/simple, https://us-python.pkg.dev/colab-wheels/public/simple/\n",
            "Requirement already satisfied: pillow==8.2.0 in /usr/local/lib/python3.7/dist-packages (8.2.0)\n"
          ]
        }
      ],
      "source": [
        "# Path to project folder in Drive: /content/drive/MyDrive/02740/FinalProject\n",
        "%cd /content/drive/MyDrive/02740/FinalProject\n",
        "!pwd\n",
        "\n",
        "# Necessaey to avoid torch error: https://github.com/pytorch/pytorch/issues/61125\n",
        "%pip install pillow==8.2.0"
      ]
    },
    {
      "cell_type": "code",
      "execution_count": 3,
      "metadata": {
        "id": "2oR4kSwBp3Fs"
      },
      "outputs": [],
      "source": [
        "import sys\n",
        "sys.path.append('/content/drive/MyDrive/02740/FinalProject/code')\n",
        "# sys.path.append('/content/drive/MyDrive/02740/FinalProject/data/')"
      ]
    },
    {
      "cell_type": "code",
      "execution_count": 4,
      "metadata": {
        "id": "AjJkSLYwsL1a"
      },
      "outputs": [],
      "source": [
        "import numpy as np\n",
        "import random\n",
        "import time\n",
        "import copy\n",
        "from matplotlib import pyplot as plt"
      ]
    },
    {
      "cell_type": "code",
      "execution_count": 5,
      "metadata": {
        "id": "17NeLgn4nq01"
      },
      "outputs": [],
      "source": [
        "import torch\n",
        "import torch.nn as nn\n",
        "import torch.nn.functional as F\n",
        "import torch.optim as optim\n",
        "import torchvision\n",
        "import torchvision.transforms as transforms\n",
        "import torchvision.datasets as datasets"
      ]
    },
    {
      "cell_type": "code",
      "execution_count": 6,
      "metadata": {
        "id": "TMnejxW7sJcH"
      },
      "outputs": [],
      "source": [
        "SEED = 2740\n",
        "\n",
        "random.seed(SEED)\n",
        "np.random.seed(SEED)\n",
        "torch.manual_seed(SEED)\n",
        "torch.cuda.manual_seed(SEED)\n",
        "torch.backends.cudnn.deterministic = True"
      ]
    },
    {
      "cell_type": "code",
      "execution_count": 7,
      "metadata": {
        "id": "IaNBNe5ArwyX"
      },
      "outputs": [],
      "source": [
        "from custom_torch_dataset import *\n",
        "from eval_functions import *\n",
        "from transforms import *"
      ]
    },
    {
      "cell_type": "markdown",
      "metadata": {
        "id": "07o0t1HYsA9x"
      },
      "source": [
        "## Load Dataset"
      ]
    },
    {
      "cell_type": "code",
      "execution_count": 8,
      "metadata": {
        "id": "GxUhs0PMsAMf"
      },
      "outputs": [],
      "source": [
        "# Paths to directory with training images and the annotation csv file\n",
        "train_data_dir = \"/content/drive/MyDrive/02740/FinalProject/data/hubmap-organ-segmentation/train_images\"\n",
        "train_annot_path = '/content/drive/MyDrive/02740/FinalProject/data/hubmap-organ-segmentation/train_70-30.csv'\n",
        "test_data_dir = \"/content/drive/MyDrive/02740/FinalProject/data/hubmap-organ-segmentation/train_images\"\n",
        "test_annot_path = '/content/drive/MyDrive/02740/FinalProject/data/hubmap-organ-segmentation/test_70-30.csv'"
      ]
    },
    {
      "cell_type": "markdown",
      "metadata": {
        "id": "2bFubkbItGDY"
      },
      "source": [
        "### Data Transformations\n"
      ]
    },
    {
      "cell_type": "markdown",
      "metadata": {
        "id": "tBFw3FDQtg8g"
      },
      "source": [
        "Resnet requires that images are loaded in a range [0,1] then normalized mean = [0.485, 0.456, 0.406] and std = [0.229, 0.224, 0.225]"
      ]
    },
    {
      "cell_type": "code",
      "execution_count": 9,
      "metadata": {
        "id": "EvejzoqZUGgS"
      },
      "outputs": [],
      "source": [
        "# train_preprocess = Compose([\n",
        "#     ToTensor(),\n",
        "#     Resize(256),\n",
        "#     RandomHorizontalFlip(0.5),\n",
        "#     Normalize(mean=[0.485, 0.456, 0.406], std=[0.229, 0.224, 0.225]),\n",
        "# ])\n",
        "\n",
        "# test_preprocess = Compose([\n",
        "#     ToTensor(),\n",
        "#     Resize(256),\n",
        "#     Normalize(mean=[0.485, 0.456, 0.406], std=[0.229, 0.224, 0.225]),\n",
        "# ])"
      ]
    },
    {
      "cell_type": "code",
      "execution_count": 10,
      "metadata": {
        "id": "lTHke5Hbyh5J"
      },
      "outputs": [],
      "source": [
        "data_transforms = {\n",
        "    'train': Compose([\n",
        "    ToTensor(),\n",
        "    Resize(256),\n",
        "    RandomHorizontalFlip(0.5),\n",
        "    Normalize(mean=[0.485, 0.456, 0.406], std=[0.229, 0.224, 0.225]),\n",
        "    ]),\n",
        "    'val': Compose([\n",
        "    ToTensor(),\n",
        "    Resize(256),\n",
        "    Normalize(mean=[0.485, 0.456, 0.406], std=[0.229, 0.224, 0.225]),\n",
        "    ]),\n",
        "}"
      ]
    },
    {
      "cell_type": "markdown",
      "metadata": {
        "id": "PFDn6sOetUuM"
      },
      "source": [
        "### Initialize Datasets"
      ]
    },
    {
      "cell_type": "code",
      "execution_count": 11,
      "metadata": {
        "id": "Jy_Ta3GpsuLy"
      },
      "outputs": [],
      "source": [
        "# Initialize custom dataset object\n",
        "# train_dataset = SegDataset(root_dir=train_data_dir,annot_csv=train_annot_path,transform=train_preprocess)\n",
        "# test_dataset = SegDataset(root_dir=test_data_dir,annot_csv=test_annot_path,transform=test_preprocess)\n",
        "# print('Train dataset size:',len(train_dataset))\n",
        "# print('Test dataset size:',len(test_dataset))"
      ]
    },
    {
      "cell_type": "code",
      "execution_count": 12,
      "metadata": {
        "id": "Sf-3le4xy66L"
      },
      "outputs": [],
      "source": [
        "num_workers = 2\n",
        "batch_size = 8\n",
        "\n",
        "# Create training and validation datasets\n",
        "image_datasets = {'train': SegDataset(root_dir=train_data_dir,annot_csv=train_annot_path,transform=data_transforms['train']),\n",
        "                  'val': SegDataset(root_dir=test_data_dir,annot_csv=test_annot_path,transform=data_transforms['val']),\n",
        "}\n",
        "\n",
        "# Create training and validation dataloaders\n",
        "dataloaders_dict = {'train': torch.utils.data.DataLoader(image_datasets['train'], batch_size=batch_size, \n",
        "                    shuffle=True, num_workers=num_workers),\n",
        "                    'val': torch.utils.data.DataLoader(image_datasets['val'],batch_size=8, \n",
        "                    shuffle=True, num_workers=num_workers),\n",
        "}"
      ]
    },
    {
      "cell_type": "code",
      "execution_count": 13,
      "metadata": {
        "id": "B2L3-zd-36HY"
      },
      "outputs": [],
      "source": [
        "# for inputs, labels, x in dataloaders_dict['train']:\n",
        "# for x in dataloaders_dict['train']:\n",
        "  # print(xs)\n",
        "  # print(type(inputs),inputs.size())\n",
        "  # print(type(labels),labels.size())\n",
        "  # print(type(x))\n",
        "\n",
        "  # break"
      ]
    },
    {
      "cell_type": "markdown",
      "metadata": {
        "id": "8_yaDzs6uKvS"
      },
      "source": [
        "Vizualize data"
      ]
    },
    {
      "cell_type": "code",
      "execution_count": 14,
      "metadata": {
        "id": "TKXGj6kauORP"
      },
      "outputs": [],
      "source": [
        "# for i in range(len(train_dataset)):\n",
        "#     img, mask, sample = train_dataset[i]\n",
        "#     print(img.shape,mask.shape)\n",
        "\n",
        "#     fig, axs = plt.subplots(1,2)\n",
        "#     fig.suptitle(f'{sample[\"id\"]}.tiff: {sample[\"data_source\"]} {sample[\"organ\"]}')\n",
        "#     axs[0].imshow(img.transpose(0,2))\n",
        "#     axs[1].imshow(mask.squeeze())\n",
        "#     plt.tight_layout()\n",
        "#     plt.show()\n",
        "\n",
        "#     if i == 1:\n",
        "#         break"
      ]
    },
    {
      "cell_type": "code",
      "execution_count": 15,
      "metadata": {
        "id": "C13Rru420BoN"
      },
      "outputs": [],
      "source": [
        "# for i in range(len(image_datasets['train'])):\n",
        "#     img, mask, sample = image_datasets['train'][i]\n",
        "#     print(img.shape,mask.shape)\n",
        "\n",
        "#     fig, axs = plt.subplots(1,2)\n",
        "#     fig.suptitle(f'{sample[\"id\"]}.tiff: {sample[\"data_source\"]} {sample[\"organ\"]}')\n",
        "#     axs[0].imshow(img.transpose(0,2))\n",
        "#     axs[1].imshow(mask.squeeze())\n",
        "#     plt.tight_layout()\n",
        "#     plt.show()\n",
        "\n",
        "#     if i == 1:\n",
        "#         break"
      ]
    },
    {
      "cell_type": "markdown",
      "metadata": {
        "id": "pIpK11rxtyR0"
      },
      "source": [
        "## Helper functions"
      ]
    },
    {
      "cell_type": "code",
      "execution_count": 16,
      "metadata": {
        "id": "o44oeltqukTY"
      },
      "outputs": [],
      "source": [
        "def set_parameter_requires_grad(model, feature_extracting):\n",
        "    if feature_extracting:\n",
        "        for param in model.parameters():\n",
        "            param.requires_grad = False"
      ]
    },
    {
      "cell_type": "code",
      "execution_count": 17,
      "metadata": {
        "id": "goO0sdj2u_Ln"
      },
      "outputs": [],
      "source": [
        "def train_model(model, dataloaders, criterion, optimizer, device, num_epochs=25, is_inception=False):\n",
        "    since = time.time()\n",
        "\n",
        "    train_loss_history = []\n",
        "    val_loss_history = []\n",
        "\n",
        "    best_model_wts = copy.deepcopy(model.state_dict())\n",
        "    best_loss = 0.\n",
        "\n",
        "    for epoch in range(num_epochs):\n",
        "        e_start = time.time()\n",
        "        print('Epoch {}/{}'.format(epoch+1, num_epochs))\n",
        "        print('-' * 10)\n",
        "\n",
        "        # Each epoch has a training and validation phase\n",
        "        for phase in ['train', 'val']:\n",
        "            if phase == 'train':\n",
        "                model.train()  # Set model to training mode\n",
        "            else:\n",
        "                model.eval()   # Set model to evaluate mode\n",
        "\n",
        "            running_loss = 0\n",
        "            # running_corrects = 0\n",
        "\n",
        "            # Iterate over data.\n",
        "            for inputs, labels, _ in dataloaders[phase]:\n",
        "                inputs = inputs.to(device)\n",
        "                labels = labels.to(device)\n",
        "\n",
        "                # zero the parameter gradients\n",
        "                optimizer.zero_grad()\n",
        "\n",
        "                # forward\n",
        "                # track history if only in train\n",
        "                with torch.set_grad_enabled(phase == 'train'):\n",
        "                    # Get model outputs and calculate loss\n",
        "                    # Special case for inception because in training it has an auxiliary output. In train\n",
        "                    #   mode we calculate the loss by summing the final output and the auxiliary output\n",
        "                    #   but in testing we only consider the final output.\n",
        "                    if is_inception and phase == 'train':\n",
        "                        # From https://discuss.pytorch.org/t/how-to-optimize-inception-model-with-auxiliary-classifiers/7958\n",
        "                        outputs, aux_outputs = model(inputs)\n",
        "                        loss1 = criterion(outputs, labels)\n",
        "                        loss2 = criterion(aux_outputs, labels)\n",
        "                        loss = loss1 + 0.4*loss2\n",
        "                    else:\n",
        "                        # print(f'Intput size: {inputs.size()}')\n",
        "                        # outputs = model(inputs)['out'][:,1,:,:].unsqueeze(1) #.argmax(1).unsqueeze(1)\n",
        "                        outputs = model(inputs)['out'] #.argmax(1).unsqueeze(1)\n",
        "                        # print(f'Output size, label size: {outputs.size()} , {labels.size()}')\n",
        "                        loss = criterion(outputs.float(), labels.float())\n",
        "\n",
        "                    # _, preds = torch.max(outputs, 1)\n",
        "\n",
        "                    # backward + optimize only if in training phase\n",
        "                    if phase == 'train':\n",
        "                        # for param in model.parameters():\n",
        "                        #     param.retain_grad()\n",
        "                        loss.backward()\n",
        "                        optimizer.step()\n",
        "\n",
        "                # statistics\n",
        "                running_loss += loss.item() * inputs.size(0)\n",
        "                # running_corrects += torch.sum(preds == labels.data)\n",
        "\n",
        "            epoch_loss = running_loss / len(dataloaders[phase].dataset)\n",
        "            # epoch_acc = running_corrects.double() / len(dataloaders[phase].dataset)\n",
        "\n",
        "            e_elapsed = time.time() - e_start\n",
        "            print('{} Loss: {:.4f}'.format(phase, epoch_loss))\n",
        "\n",
        "            # deep copy the model\n",
        "            if phase == 'val' and epoch_loss > best_loss:\n",
        "                best_loss = epoch_loss\n",
        "                best_model_wts = copy.deepcopy(model.state_dict())\n",
        "            if phase == 'val':\n",
        "                val_loss_history.append(epoch_loss)\n",
        "            else:\n",
        "                train_loss_history.append(epoch_loss)\n",
        "\n",
        "\n",
        "        print(f'Epoch {epoch+1} took {int(e_elapsed // 60)}m {int(e_elapsed % 60)}s')\n",
        "        print()\n",
        "\n",
        "    time_elapsed = time.time() - since\n",
        "    print('Training complete in {:.0f}m {:.0f}s'.format(time_elapsed // 60, time_elapsed % 60))\n",
        "    print('Best val loss: {:4f}'.format(best_loss))\n",
        "\n",
        "    # load best model weights\n",
        "    model.load_state_dict(best_model_wts)\n",
        "    \n",
        "    return model, train_loss_history, val_loss_history\n"
      ]
    },
    {
      "cell_type": "code",
      "execution_count": 18,
      "metadata": {
        "id": "sX0PUZxSrb9l"
      },
      "outputs": [],
      "source": [
        "def initialize_model(model_name, num_classes, feature_extract, use_pretrained=True):\n",
        "    # Initialize these variables which will be set in this if statement. Each of these\n",
        "    #   variables is model specific.\n",
        "    model_ft = None\n",
        "\n",
        "    if model_name == \"fcn_resnet50\":\n",
        "        \"\"\" FCN-Resnet50\n",
        "        \"\"\"\n",
        "        model_ft = torch.hub.load('pytorch/vision:v0.10.0', 'fcn_resnet50', pretrained=use_pretrained)\n",
        "        set_parameter_requires_grad(model_ft, feature_extract)\n",
        "        model_ft.classifier[4] = nn.Conv2d(512, num_classes, kernel_size=(1, 1), stride=(1, 1))\n",
        "        # model_ft.classifier[5] = nn.Sigmoid()\n",
        "\n",
        "    elif model_name == \"fcn_resnet101\":\n",
        "        \"\"\" FCN-Resnet101\n",
        "        \"\"\"\n",
        "        model_ft = torch.hub.load('pytorch/vision:v0.10.0', 'fcn_resnet101', pretrained=use_pretrained)\n",
        "        set_parameter_requires_grad(model_ft, feature_extract)\n",
        "        model_ft.classifier[4] = nn.Conv2d(512, num_classes, kernel_size=(1, 1), stride=(1, 1))\n",
        "        model_ft.aux_classifier[4] = nn.Conv2d(256, num_classes, kernel_size=(1, 1), stride=(1, 1))\n",
        "        # model_ft.classifier[5] = nn.Sigmoid()\n",
        "\n",
        "    else:\n",
        "        print(\"Invalid model name, exiting...\")\n",
        "        exit()\n",
        "\n",
        "    return model_ft\n"
      ]
    },
    {
      "cell_type": "markdown",
      "metadata": {
        "id": "JclKvrl-r4dc"
      },
      "source": [
        "## Load Resnet Model"
      ]
    },
    {
      "cell_type": "markdown",
      "metadata": {
        "id": "S2AVnt1FqV_b"
      },
      "source": [
        "Pytorch implentations of FCN-RESNET"
      ]
    },
    {
      "cell_type": "code",
      "execution_count": 19,
      "metadata": {
        "id": "sXzud8lYoY81"
      },
      "outputs": [],
      "source": [
        "# fcn_model = torch.hub.load('pytorch/vision:v0.10.0', 'fcn_resnet50', pretrained=True)\n",
        "# fcn_model = torch.hub.load('pytorch/vision:v0.10.0', 'fcn_resnet101', pretrained=True)"
      ]
    },
    {
      "cell_type": "markdown",
      "metadata": {
        "id": "LOndIRmLth-l"
      },
      "source": [
        "Modify final layer to accomodate desired number of classes"
      ]
    },
    {
      "cell_type": "code",
      "execution_count": 20,
      "metadata": {
        "id": "omr2Us34rb08"
      },
      "outputs": [],
      "source": [
        "# Modify last layer to predict 2 classes\n",
        "# fcn_model.classifier[4] = nn.Conv2d(512, 2, kernel_size=(1, 1), stride=(1, 1))\n",
        "# fcn_model.aux_classifier[4] = nn.Conv2d(256, 2, kernel_size=(1, 1), stride=(1, 1))\n",
        "# print(fcn_model)"
      ]
    },
    {
      "cell_type": "markdown",
      "metadata": {
        "id": "eDPraSSVyCxT"
      },
      "source": [
        "Load model with helper functions"
      ]
    },
    {
      "cell_type": "code",
      "execution_count": 21,
      "metadata": {
        "id": "iBvcRVNKuwVb"
      },
      "outputs": [],
      "source": [
        "# Models to choose from [resnet, alexnet, vgg, squeezenet, densenet, inception]\n",
        "model_name = \"fcn_resnet50\"\n",
        "\n",
        "# Number of classes in the dataset\n",
        "num_classes = 1\n",
        "\n",
        "# Batch size for training (change depending on how much memory you have)\n",
        "# batch_size = 8\n",
        "\n",
        "# Number of epochs to train for\n",
        "num_epochs = 20\n",
        "\n",
        "# Flag for feature extracting. When False, we finetune the whole model,\n",
        "#   when True we only update the reshaped layer params\n",
        "feature_extract = False"
      ]
    },
    {
      "cell_type": "code",
      "execution_count": 22,
      "metadata": {
        "colab": {
          "base_uri": "https://localhost:8080/",
          "height": 173,
          "referenced_widgets": [
            "ba6c556e271e477dbcfd1db08a40a4a7",
            "9e4728201ec645dfa8d05e45ccc4f412",
            "baf52a1188d943df9f8567819ead73df",
            "206f8891e1fd4cf58a3247580594b626",
            "c488f2ea71824f0d9c098bc40fe32342",
            "17c3fe7f5e464c7da8942a861824882a",
            "b371d992fb5349f6a9b6b732f7e0243d",
            "750c345c4d3b404787456724b9588159",
            "19ccdfafc4d94b9d88eae10b3b44e323",
            "ab9fe046a96e49e4bab21ff942eb93b1",
            "07bf7cd16b1448bab7a0748bea89e2da"
          ]
        },
        "id": "1-3nr2kmyHid",
        "outputId": "e2f2bc07-5e39-452c-c9a2-9dac9ac90999"
      },
      "outputs": [
        {
          "output_type": "stream",
          "name": "stderr",
          "text": [
            "Downloading: \"https://github.com/pytorch/vision/zipball/v0.10.0\" to /root/.cache/torch/hub/v0.10.0.zip\n",
            "/usr/local/lib/python3.7/dist-packages/torchvision/models/_utils.py:209: UserWarning: The parameter 'pretrained' is deprecated since 0.13 and will be removed in 0.15, please use 'weights' instead.\n",
            "  f\"The parameter '{pretrained_param}' is deprecated since 0.13 and will be removed in 0.15, \"\n",
            "/usr/local/lib/python3.7/dist-packages/torchvision/models/_utils.py:223: UserWarning: Arguments other than a weight enum or `None` for 'weights' are deprecated since 0.13 and will be removed in 0.15. The current behavior is equivalent to passing `weights=FCN_ResNet50_Weights.COCO_WITH_VOC_LABELS_V1`. You can also use `weights=FCN_ResNet50_Weights.DEFAULT` to get the most up-to-date weights.\n",
            "  warnings.warn(msg)\n",
            "Downloading: \"https://download.pytorch.org/models/fcn_resnet50_coco-1167a1af.pth\" to /root/.cache/torch/hub/checkpoints/fcn_resnet50_coco-1167a1af.pth\n"
          ]
        },
        {
          "output_type": "display_data",
          "data": {
            "text/plain": [
              "  0%|          | 0.00/135M [00:00<?, ?B/s]"
            ],
            "application/vnd.jupyter.widget-view+json": {
              "version_major": 2,
              "version_minor": 0,
              "model_id": "ba6c556e271e477dbcfd1db08a40a4a7"
            }
          },
          "metadata": {}
        }
      ],
      "source": [
        "# Initialize the model for this run\n",
        "fcn_model = initialize_model(model_name, num_classes, feature_extract, use_pretrained=True)\n",
        "\n",
        "# Print the model we just instantiated\n",
        "# print(fcn_model)"
      ]
    },
    {
      "cell_type": "markdown",
      "metadata": {
        "id": "5_JvCMx70VrO"
      },
      "source": [
        "### Model optimizer"
      ]
    },
    {
      "cell_type": "code",
      "execution_count": 23,
      "metadata": {
        "colab": {
          "base_uri": "https://localhost:8080/"
        },
        "id": "Lx34MkHu0gJ7",
        "outputId": "c6399ba5-0f61-4fcc-9142-337ab562eea7"
      },
      "outputs": [
        {
          "output_type": "stream",
          "name": "stdout",
          "text": [
            "cuda:0\n"
          ]
        }
      ],
      "source": [
        "# Detect if we have a GPU available\n",
        "device = torch.device(\"cuda:0\" if torch.cuda.is_available() else \"cpu\")\n",
        "print(device)"
      ]
    },
    {
      "cell_type": "code",
      "execution_count": 24,
      "metadata": {
        "id": "4n4ClLfw0bGw"
      },
      "outputs": [],
      "source": [
        "# Send the model to available device\n",
        "fcn_model = fcn_model.to(device)\n",
        "\n",
        "# Gather the parameters to be optimized/updated in this run. If we are\n",
        "#  finetuning we will be updating all parameters. However, if we are\n",
        "#  doing feature extract method, we will only update the parameters\n",
        "#  that we have just initialized, i.e. the parameters with requires_grad\n",
        "#  is True.\n",
        "params_to_update = fcn_model.parameters()\n",
        "# print(\"Params to learn:\")\n",
        "if feature_extract:\n",
        "    params_to_update = []\n",
        "    for name,param in fcn_model.named_parameters():\n",
        "        if param.requires_grad == True:\n",
        "            params_to_update.append(param)\n",
        "            # print(\"\\t\",name)\n",
        "# else:\n",
        "#     for name,param in fcn_model.named_parameters():\n",
        "#         if param.requires_grad == True:\n",
        "#             # print(\"\\t\",name)\n",
        "\n",
        "# Observe that all parameters are being optimized\n",
        "# optimizer = optim.SGD(params_to_update, lr=0.003, momentum=0.9,)\n",
        "\n",
        "# Adam MAXIMIZE (For Dice Coeff)\n",
        "optimizer = optim.SGD(params_to_update, lr=0.003, momentum=0.9,maximize=True)\n"
      ]
    },
    {
      "cell_type": "markdown",
      "metadata": {
        "id": "eygVVq3k0cfy"
      },
      "source": [
        "## Model Training and Validation"
      ]
    },
    {
      "cell_type": "markdown",
      "metadata": {
        "id": "pev0nXXf1X1q"
      },
      "source": [
        "### Model criterion"
      ]
    },
    {
      "cell_type": "code",
      "execution_count": 25,
      "metadata": {
        "id": "konQfjUu0hX-"
      },
      "outputs": [],
      "source": [
        "# Setup the loss fxn\n",
        "# criterion = nn.CrossEntropyLoss()\n",
        "# criterion = nn.BCEWithLogitsLoss()\n",
        "criterion = DiceLoss()\n"
      ]
    },
    {
      "cell_type": "markdown",
      "metadata": {
        "id": "Zw-cZXirQ9UY"
      },
      "source": [
        "Taking ~4 minutes per epoch with batchsize = 8"
      ]
    },
    {
      "cell_type": "code",
      "execution_count": 26,
      "metadata": {
        "colab": {
          "base_uri": "https://localhost:8080/"
        },
        "id": "3TAMkw7i1dBP",
        "outputId": "d3512947-e5a3-4bf8-eb75-a85f8dfd4d35"
      },
      "outputs": [
        {
          "output_type": "stream",
          "name": "stdout",
          "text": [
            "Epoch 1/20\n",
            "----------\n",
            "train Loss: 0.1709\n",
            "val Loss: 0.1911\n",
            "Epoch 1 took 5m 35s\n",
            "\n",
            "Epoch 2/20\n",
            "----------\n",
            "train Loss: 0.2194\n",
            "val Loss: 0.2392\n",
            "Epoch 2 took 1m 40s\n",
            "\n",
            "Epoch 3/20\n",
            "----------\n",
            "train Loss: 0.2681\n",
            "val Loss: 0.2783\n",
            "Epoch 3 took 1m 42s\n",
            "\n",
            "Epoch 4/20\n",
            "----------\n",
            "train Loss: 0.3124\n",
            "val Loss: 0.3265\n",
            "Epoch 4 took 1m 43s\n",
            "\n",
            "Epoch 5/20\n",
            "----------\n",
            "train Loss: 0.3676\n",
            "val Loss: 0.3952\n",
            "Epoch 5 took 1m 43s\n",
            "\n",
            "Epoch 6/20\n",
            "----------\n",
            "train Loss: 0.4295\n",
            "val Loss: 0.4784\n",
            "Epoch 6 took 1m 44s\n",
            "\n",
            "Epoch 7/20\n",
            "----------\n",
            "train Loss: 0.4993\n",
            "val Loss: 0.5319\n",
            "Epoch 7 took 1m 42s\n",
            "\n",
            "Epoch 8/20\n",
            "----------\n",
            "train Loss: 0.5728\n",
            "val Loss: 0.5739\n",
            "Epoch 8 took 1m 42s\n",
            "\n",
            "Epoch 9/20\n",
            "----------\n",
            "train Loss: 0.5717\n",
            "val Loss: 0.5909\n",
            "Epoch 9 took 1m 44s\n",
            "\n",
            "Epoch 10/20\n",
            "----------\n",
            "train Loss: 0.6401\n",
            "val Loss: 0.6117\n",
            "Epoch 10 took 1m 44s\n",
            "\n",
            "Epoch 11/20\n",
            "----------\n",
            "train Loss: 0.6542\n",
            "val Loss: 0.6299\n",
            "Epoch 11 took 1m 45s\n",
            "\n",
            "Epoch 12/20\n",
            "----------\n",
            "train Loss: 0.6615\n",
            "val Loss: 0.6453\n",
            "Epoch 12 took 1m 46s\n",
            "\n",
            "Epoch 13/20\n",
            "----------\n",
            "train Loss: 0.6845\n",
            "val Loss: 0.6355\n",
            "Epoch 13 took 1m 43s\n",
            "\n",
            "Epoch 14/20\n",
            "----------\n",
            "train Loss: 0.7065\n",
            "val Loss: 0.6222\n",
            "Epoch 14 took 1m 48s\n",
            "\n",
            "Epoch 15/20\n",
            "----------\n",
            "train Loss: 0.7195\n",
            "val Loss: 0.6406\n",
            "Epoch 15 took 1m 49s\n",
            "\n",
            "Epoch 16/20\n",
            "----------\n",
            "train Loss: 0.7309\n",
            "val Loss: 0.6637\n",
            "Epoch 16 took 1m 46s\n",
            "\n",
            "Epoch 17/20\n",
            "----------\n",
            "train Loss: 0.7307\n",
            "val Loss: 0.6709\n",
            "Epoch 17 took 1m 46s\n",
            "\n",
            "Epoch 18/20\n",
            "----------\n",
            "train Loss: 0.7439\n",
            "val Loss: 0.6570\n",
            "Epoch 18 took 1m 47s\n",
            "\n",
            "Epoch 19/20\n",
            "----------\n",
            "train Loss: 0.7419\n",
            "val Loss: 0.6745\n",
            "Epoch 19 took 1m 46s\n",
            "\n",
            "Epoch 20/20\n",
            "----------\n",
            "train Loss: 0.7515\n",
            "val Loss: 0.6624\n",
            "Epoch 20 took 1m 49s\n",
            "\n",
            "Training complete in 38m 54s\n",
            "Best val loss: 0.674454\n"
          ]
        }
      ],
      "source": [
        "# Train and evaluate\n",
        "inception = False\n",
        "\n",
        "fcn_model, train_loss_hist, val_loss_hist = train_model(fcn_model, dataloaders_dict, criterion, optimizer, device, num_epochs=num_epochs,\n",
        "                              is_inception=inception)"
      ]
    },
    {
      "cell_type": "code",
      "execution_count": 27,
      "metadata": {
        "colab": {
          "base_uri": "https://localhost:8080/",
          "height": 297
        },
        "id": "K0U5IjGgUvQG",
        "outputId": "9af789e9-c574-4959-f247-f11de82b7b27"
      },
      "outputs": [
        {
          "output_type": "display_data",
          "data": {
            "text/plain": [
              "<Figure size 432x288 with 1 Axes>"
            ],
            "image/png": "[encoded data removed]"
          },
          "metadata": {
            "needs_background": "light"
          }
        }
      ],
      "source": [
        "x = np.linspace(0,num_epochs,num_epochs+1)\n",
        "plt.plot(x, [0]+train_loss_hist, color='tab:orange')\n",
        "plt.plot(x, [0]+val_loss_hist, color='g')\n",
        "\n",
        "plt.title('Finetuning FCN-ResNet-50')\n",
        "plt.ylabel('Dice Loss')\n",
        "plt.xlabel('Epoch')\n",
        "plt.legend(['train','validation'])\n",
        "plt.tight_layout()\n",
        "plt.savefig('FCN-ResNet50_v1_eval_plot1.png')"
      ]
    },
    {
      "cell_type": "markdown",
      "metadata": {
        "id": "gqq3u3mtnpZG"
      },
      "source": [
        "## Make predictions"
      ]
    },
    {
      "cell_type": "code",
      "execution_count": 30,
      "metadata": {
        "colab": {
          "base_uri": "https://localhost:8080/"
        },
        "id": "SnkKzqhcnosj",
        "outputId": "aa7d04f2-e79d-4763-e247-8e97b55f6e67"
      },
      "outputs": [
        {
          "output_type": "stream",
          "name": "stdout",
          "text": [
            "tensor([ 5317,  6318,  6390,  8402,  7359,  3303, 30876,  9387])\n",
            "Output size, label size: torch.Size([8, 1, 256, 256]) , torch.Size([8, 1, 256, 256])\n",
            "min, median, max: 0.0 0.0 0.0\n",
            "min, median, max: 0.0 0.0 0.0\n",
            "min, median, max: 0.0 0.0 0.0\n",
            "min, median, max: 0.0 0.0 0.0\n",
            "min, median, max: 0.0 0.0 0.0\n",
            "min, median, max: 0.0 0.0 0.0\n",
            "min, median, max: 0.0 0.0 0.0\n",
            "min, median, max: 0.0 0.0 0.0\n",
            "tensor([  351, 30581, 31733,  8222,  9437,  5099,  9453,  5785])\n",
            "Output size, label size: torch.Size([8, 1, 256, 256]) , torch.Size([8, 1, 256, 256])\n",
            "min, median, max: 0.0 0.0 0.0\n",
            "min, median, max: 0.0 0.0 0.0\n",
            "min, median, max: 0.0 0.0 0.0\n",
            "min, median, max: 0.0 0.0 0.0\n",
            "min, median, max: 0.0 0.0 0.0\n",
            "min, median, max: 0.0 0.0 0.0\n",
            "min, median, max: 0.0 0.0 0.0\n",
            "min, median, max: 0.0 0.0 0.0\n",
            "tensor([ 7706,  4777,  8876,  8231, 31709,  9450,  9470,  8151])\n",
            "Output size, label size: torch.Size([8, 1, 256, 256]) , torch.Size([8, 1, 256, 256])\n",
            "min, median, max: 0.0 0.0 0.0\n",
            "min, median, max: 0.0 0.0 0.0\n",
            "min, median, max: 0.0 0.0 0.0\n",
            "min, median, max: 0.0 0.0 0.0\n",
            "min, median, max: 0.0 0.0 0.0\n",
            "min, median, max: 0.0 0.0 0.0\n",
            "min, median, max: 0.0 0.0 0.0\n",
            "min, median, max: 0.0 0.0 0.0\n",
            "tensor([ 7569,  5995, 30224,  6730,  7970,  8752,  7397,  3409])\n",
            "Output size, label size: torch.Size([8, 1, 256, 256]) , torch.Size([8, 1, 256, 256])\n",
            "min, median, max: 0.0 0.0 0.0\n",
            "min, median, max: 0.0 0.0 0.0\n",
            "min, median, max: 0.0 0.0 0.0\n",
            "min, median, max: 0.0 0.0 0.0\n",
            "min, median, max: 0.0 0.0 0.0\n",
            "min, median, max: 0.0 0.0 0.0\n",
            "min, median, max: 0.0 0.0 0.0\n",
            "min, median, max: 0.0 0.0 0.0\n",
            "tensor([ 5287,  4639,  5552, 32741,  4944,  9358, 32151, 30194])\n",
            "Output size, label size: torch.Size([8, 1, 256, 256]) , torch.Size([8, 1, 256, 256])\n",
            "min, median, max: 0.0 0.0 0.0\n",
            "min, median, max: 0.0 0.0 0.0\n",
            "min, median, max: 0.0 0.0 0.0\n",
            "min, median, max: 0.0 0.0 0.0\n",
            "min, median, max: 0.0 0.0 0.0\n",
            "min, median, max: 0.0 0.0 0.0\n",
            "min, median, max: 0.0 0.0 0.0\n",
            "min, median, max: 0.0 0.0 0.0\n",
            "tensor([ 5932, 32325,  9904,  4802,  8894,  6794,  8227,  8450])\n",
            "Output size, label size: torch.Size([8, 1, 256, 256]) , torch.Size([8, 1, 256, 256])\n",
            "min, median, max: 0.0 0.0 0.0\n",
            "min, median, max: 0.0 0.0 0.0\n",
            "min, median, max: 0.0 0.0 0.0\n",
            "min, median, max: 0.0 0.0 0.0\n",
            "min, median, max: 0.0 0.0 0.0\n",
            "min, median, max: 0.0 0.0 0.0\n",
            "min, median, max: 0.0 0.0 0.0\n",
            "min, median, max: 0.0 0.0 0.0\n",
            "tensor([30474,  4066,  7902, 31799,  6121,  5102,  5832,   737])\n",
            "Output size, label size: torch.Size([8, 1, 256, 256]) , torch.Size([8, 1, 256, 256])\n",
            "min, median, max: 0.0 0.0 0.0\n",
            "min, median, max: 0.0 0.0 0.0\n",
            "min, median, max: 0.0 0.0 0.0\n",
            "min, median, max: 0.0 0.0 0.0\n",
            "min, median, max: 0.0 0.0 0.0\n",
            "min, median, max: 0.0 0.0 0.0\n",
            "min, median, max: 0.0 0.0 0.0\n",
            "min, median, max: 0.0 0.0 0.0\n",
            "tensor([6807,  686, 9769, 4658,  435, 8388, 4561, 9791])\n",
            "Output size, label size: torch.Size([8, 1, 256, 256]) , torch.Size([8, 1, 256, 256])\n",
            "min, median, max: 0.0 0.0 0.0\n",
            "min, median, max: 0.0 0.0 0.0\n",
            "min, median, max: 0.0 0.0 0.0\n",
            "min, median, max: 0.0 0.0 0.0\n",
            "min, median, max: 0.0 0.0 0.0\n",
            "min, median, max: 0.0 0.0 0.0\n",
            "min, median, max: 0.0 0.0 0.0\n",
            "min, median, max: 0.0 0.0 0.0\n",
            "tensor([ 4265,  4404,  8638,  7169,  5583, 31406,  8842,  8116])\n",
            "Output size, label size: torch.Size([8, 1, 256, 256]) , torch.Size([8, 1, 256, 256])\n",
            "min, median, max: 0.0 0.0 0.0\n",
            "min, median, max: 0.0 0.0 0.0\n",
            "min, median, max: 0.0 0.0 0.0\n",
            "min, median, max: 0.0 0.0 0.0\n",
            "min, median, max: 0.0 0.0 0.0\n",
            "min, median, max: 0.0 0.0 0.0\n",
            "min, median, max: 0.0 0.0 0.0\n",
            "min, median, max: 0.0 0.0 0.0\n",
            "tensor([ 5777, 31727, 31290,  6120,  8502, 32527,   676,  3083])\n",
            "Output size, label size: torch.Size([8, 1, 256, 256]) , torch.Size([8, 1, 256, 256])\n",
            "min, median, max: 0.0 0.0 0.0\n",
            "min, median, max: 0.0 0.0 0.0\n",
            "min, median, max: 0.0 0.0 0.0\n",
            "min, median, max: 0.0 0.0 0.0\n",
            "min, median, max: 0.0 0.0 0.0\n",
            "min, median, max: 0.0 0.0 0.0\n",
            "min, median, max: 0.0 0.0 0.0\n",
            "min, median, max: 0.0 0.0 0.0\n",
            "tensor([ 4412, 32231, 31698,  8343,   660, 31675,  3959,  4062])\n",
            "Output size, label size: torch.Size([8, 1, 256, 256]) , torch.Size([8, 1, 256, 256])\n",
            "min, median, max: 0.0 0.0 0.0\n",
            "min, median, max: 0.0 0.0 0.0\n",
            "min, median, max: 0.0 0.0 0.0\n",
            "min, median, max: 0.0 0.0 0.0\n",
            "min, median, max: 0.0 0.0 0.0\n",
            "min, median, max: 0.0 0.0 0.0\n",
            "min, median, max: 0.0 0.0 0.0\n",
            "min, median, max: 0.0 0.0 0.0\n",
            "tensor([9445, 9777, 9407, 6722, 9517, 6611, 5086, 4301])\n",
            "Output size, label size: torch.Size([8, 1, 256, 256]) , torch.Size([8, 1, 256, 256])\n",
            "min, median, max: 0.0 0.0 0.0\n",
            "min, median, max: 0.0 0.0 0.0\n",
            "min, median, max: 0.0 0.0 0.0\n",
            "min, median, max: 0.0 0.0 0.0\n",
            "min, median, max: 0.0 0.0 0.0\n",
            "min, median, max: 0.0 0.0 0.0\n",
            "min, median, max: 0.0 0.0 0.0\n",
            "min, median, max: 0.0 0.0 0.0\n",
            "tensor([  928,  4776,  9231,    62,  6021, 30250])\n",
            "Output size, label size: torch.Size([6, 1, 256, 256]) , torch.Size([6, 1, 256, 256])\n",
            "min, median, max: 0.0 0.0 0.0\n",
            "min, median, max: 0.0 0.0 0.0\n",
            "min, median, max: 0.0 0.0 0.0\n",
            "min, median, max: 0.0 0.0 0.0\n",
            "min, median, max: 0.0 0.0 0.0\n",
            "min, median, max: 0.0 0.0 0.0\n"
          ]
        }
      ],
      "source": [
        "def encodeRLE(arr):\n",
        "    print('min, median, max:',np.min(arr),np.median(arr),np.max(arr))\n",
        "    # Flatten array column wise\n",
        "    flat = arr.ravel('F') # column-wise\n",
        "    # print('len, sum:',len(flat),np.sum(flat))\n",
        "    switches = np.nonzero(np.append(flat,0) - np.append(0,flat))[0]\n",
        "    if len(switches) == 0:\n",
        "      return np.array([])\n",
        "    # print('len switches:',len(switches))\n",
        "    counts = np.append(switches,switches[-1]) - np.append(0,switches)\n",
        "\n",
        "    # print(len(switches),len(switches[::2][:,None]),len(counts),len(counts[1::2][:,None]))\n",
        "    counts = counts[:-1]\n",
        "    rle = np.hstack((switches[::2][:,None],counts[1::2][:,None]))\n",
        "    \n",
        "    return rle.ravel()\n",
        "\n",
        "\n",
        "# Each epoch has a training and validation phase\n",
        "phase = 'val'\n",
        "is_inception = False\n",
        "\n",
        "fcn_model.eval()   # Set model to evaluate mode\n",
        "\n",
        "running_loss = 0\n",
        "\n",
        "# Iterate over data.\n",
        "for inputs, labels, samples in dataloaders_dict['val']:\n",
        "    inputs = inputs.to(device)\n",
        "    labels = labels.to(device)\n",
        "\n",
        "    print(samples['id'])\n",
        "\n",
        "    # zero the parameter gradients\n",
        "    # optimizer.zero_grad()\n",
        "\n",
        "    # forward\n",
        "    with torch.set_grad_enabled(phase == 'train'):\n",
        "        # Make predictions\n",
        "        outputs = fcn_model(inputs)['out'] # [:,1,:,:].unsqueeze(1) #.argmax(1).unsqueeze(1)\n",
        "        print(f'Output size, label size: {outputs.size()} , {labels.size()}')\n",
        "        # print('single value',outputs[0,0,0,0].item())\n",
        "        # loss = criterion(outputs.float(), labels.float())\n",
        "\n",
        "        # Write predictions to file\n",
        "        with open('submission.csv','w') as sub:\n",
        "            sub.write('id,rle\\n')\n",
        "            # for inx, row in enumerate(samples.iterrows()):\n",
        "            if len(outputs) != 1:\n",
        "                for inx in range(len(outputs)):\n",
        "                    # print('output:\\n', outputs[0,:,110:130,110:130])\n",
        "                    h_out, w_out = samples['img_height'][inx].item(),samples['img_width'][inx].item()\n",
        "                    up = nn.Upsample(size=(h_out,w_out),mode='nearest')\n",
        "                    # print('pre pred shape:',outputs[inx,:,:,:].shape)\n",
        "                    pred = outputs[inx,:,:,:].argmax(axis=0)\n",
        "                    # print('pred shape:',pred.shape)\n",
        "                    mask = up(pred[None,None,:,:].float())[0,0,:,:].cpu().numpy()\n",
        "                    # print('mask shape:',mask.shape)\n",
        "                    rle = np.array2string(encodeRLE(mask))[1:-1]\n",
        "                    # print('RLE:',rle[:20])\n",
        "                    sub.write(f'{samples[\"id\"][inx].item()},{rle}\\n')\n",
        "            else:\n",
        "                # print('output:\\n', outputs[0,:,110:130,110:130])\n",
        "                h_out, w_out = samples['img_height'],samples['img_width']\n",
        "                up = nn.Upsample(size=(h_out,w_out),mode='nearest')\n",
        "                # print('pre pred shape:',outputs[0,:,:,:].shape)\n",
        "                pred = outputs[0,:,:,:].argmax(axis=0)\n",
        "                # print('pred shape:',pred.shape)\n",
        "                mask = up(pred[None,None,:,:].float())[0,0,:,:].cpu().numpy()\n",
        "                # print('mask shape:',mask.shape)\n",
        "                rle = np.array2string(encodeRLE(mask))[1:-1]\n",
        "                # print('RLE:',rle[:20])\n",
        "                sub.write(f'{samples[\"id\"].item()},{rle}\\n')\n",
        "\n",
        "        \n",
        "        "
      ]
    },
    {
      "cell_type": "code",
      "execution_count": 29,
      "metadata": {
        "colab": {
          "base_uri": "https://localhost:8080/",
          "height": 35
        },
        "id": "43O_fQC9rDWe",
        "outputId": "802201a1-c6fb-4728-bf45-dbc7f7a50a5a"
      },
      "outputs": [
        {
          "output_type": "execute_result",
          "data": {
            "text/plain": [
              "'0 1 2'"
            ],
            "application/vnd.google.colaboratory.intrinsic+json": {
              "type": "string"
            }
          },
          "metadata": {},
          "execution_count": 29
        }
      ],
      "source": [
        "np.array2string(np.arange(3,dtype=int))[1:-1]"
      ]
    },
    {
      "cell_type": "code",
      "execution_count": 29,
      "metadata": {
        "id": "zmOYObFjrMNt"
      },
      "outputs": [],
      "source": []
    }
  ],
  "metadata": {
    "colab": {
      "provenance": [],
      "toc_visible": true
    },
    "gpuClass": "standard",
    "kernelspec": {
      "display_name": "Python 3",
      "name": "python3"
    },
    "language_info": {
      "name": "python"
    },
    "accelerator": "GPU",
    "widgets": {
      "application/vnd.jupyter.widget-state+json": {
        "ba6c556e271e477dbcfd1db08a40a4a7": {
          "model_module": "@jupyter-widgets/controls",
          "model_name": "HBoxModel",
          "model_module_version": "1.5.0",
          "state": {
            "_dom_classes": [],
            "_model_module": "@jupyter-widgets/controls",
            "_model_module_version": "1.5.0",
            "_model_name": "HBoxModel",
            "_view_count": null,
            "_view_module": "@jupyter-widgets/controls",
            "_view_module_version": "1.5.0",
            "_view_name": "HBoxView",
            "box_style": "",
            "children": [
              "IPY_MODEL_9e4728201ec645dfa8d05e45ccc4f412",
              "IPY_MODEL_baf52a1188d943df9f8567819ead73df",
              "IPY_MODEL_206f8891e1fd4cf58a3247580594b626"
            ],
            "layout": "IPY_MODEL_c488f2ea71824f0d9c098bc40fe32342"
          }
        },
        "9e4728201ec645dfa8d05e45ccc4f412": {
          "model_module": "@jupyter-widgets/controls",
          "model_name": "HTMLModel",
          "model_module_version": "1.5.0",
          "state": {
            "_dom_classes": [],
            "_model_module": "@jupyter-widgets/controls",
            "_model_module_version": "1.5.0",
            "_model_name": "HTMLModel",
            "_view_count": null,
            "_view_module": "@jupyter-widgets/controls",
            "_view_module_version": "1.5.0",
            "_view_name": "HTMLView",
            "description": "",
            "description_tooltip": null,
            "layout": "IPY_MODEL_17c3fe7f5e464c7da8942a861824882a",
            "placeholder": "​",
            "style": "IPY_MODEL_b371d992fb5349f6a9b6b732f7e0243d",
            "value": "100%"
          }
        },
        "baf52a1188d943df9f8567819ead73df": {
          "model_module": "@jupyter-widgets/controls",
          "model_name": "FloatProgressModel",
          "model_module_version": "1.5.0",
          "state": {
            "_dom_classes": [],
            "_model_module": "@jupyter-widgets/controls",
            "_model_module_version": "1.5.0",
            "_model_name": "FloatProgressModel",
            "_view_count": null,
            "_view_module": "@jupyter-widgets/controls",
            "_view_module_version": "1.5.0",
            "_view_name": "ProgressView",
            "bar_style": "success",
            "description": "",
            "description_tooltip": null,
            "layout": "IPY_MODEL_750c345c4d3b404787456724b9588159",
            "max": 141567418,
            "min": 0,
            "orientation": "horizontal",
            "style": "IPY_MODEL_19ccdfafc4d94b9d88eae10b3b44e323",
            "value": 141567418
          }
        },
        "206f8891e1fd4cf58a3247580594b626": {
          "model_module": "@jupyter-widgets/controls",
          "model_name": "HTMLModel",
          "model_module_version": "1.5.0",
          "state": {
            "_dom_classes": [],
            "_model_module": "@jupyter-widgets/controls",
            "_model_module_version": "1.5.0",
            "_model_name": "HTMLModel",
            "_view_count": null,
            "_view_module": "@jupyter-widgets/controls",
            "_view_module_version": "1.5.0",
            "_view_name": "HTMLView",
            "description": "",
            "description_tooltip": null,
            "layout": "IPY_MODEL_ab9fe046a96e49e4bab21ff942eb93b1",
            "placeholder": "​",
            "style": "IPY_MODEL_07bf7cd16b1448bab7a0748bea89e2da",
            "value": " 135M/135M [00:01&lt;00:00, 133MB/s]"
          }
        },
        "c488f2ea71824f0d9c098bc40fe32342": {
          "model_module": "@jupyter-widgets/base",
          "model_name": "LayoutModel",
          "model_module_version": "1.2.0",
          "state": {
            "_model_module": "@jupyter-widgets/base",
            "_model_module_version": "1.2.0",
            "_model_name": "LayoutModel",
            "_view_count": null,
            "_view_module": "@jupyter-widgets/base",
            "_view_module_version": "1.2.0",
            "_view_name": "LayoutView",
            "align_content": null,
            "align_items": null,
            "align_self": null,
            "border": null,
            "bottom": null,
            "display": null,
            "flex": null,
            "flex_flow": null,
            "grid_area": null,
            "grid_auto_columns": null,
            "grid_auto_flow": null,
            "grid_auto_rows": null,
            "grid_column": null,
            "grid_gap": null,
            "grid_row": null,
            "grid_template_areas": null,
            "grid_template_columns": null,
            "grid_template_rows": null,
            "height": null,
            "justify_content": null,
            "justify_items": null,
            "left": null,
            "margin": null,
            "max_height": null,
            "max_width": null,
            "min_height": null,
            "min_width": null,
            "object_fit": null,
            "object_position": null,
            "order": null,
            "overflow": null,
            "overflow_x": null,
            "overflow_y": null,
            "padding": null,
            "right": null,
            "top": null,
            "visibility": null,
            "width": null
          }
        },
        "17c3fe7f5e464c7da8942a861824882a": {
          "model_module": "@jupyter-widgets/base",
          "model_name": "LayoutModel",
          "model_module_version": "1.2.0",
          "state": {
            "_model_module": "@jupyter-widgets/base",
            "_model_module_version": "1.2.0",
            "_model_name": "LayoutModel",
            "_view_count": null,
            "_view_module": "@jupyter-widgets/base",
            "_view_module_version": "1.2.0",
            "_view_name": "LayoutView",
            "align_content": null,
            "align_items": null,
            "align_self": null,
            "border": null,
            "bottom": null,
            "display": null,
            "flex": null,
            "flex_flow": null,
            "grid_area": null,
            "grid_auto_columns": null,
            "grid_auto_flow": null,
            "grid_auto_rows": null,
            "grid_column": null,
            "grid_gap": null,
            "grid_row": null,
            "grid_template_areas": null,
            "grid_template_columns": null,
            "grid_template_rows": null,
            "height": null,
            "justify_content": null,
            "justify_items": null,
            "left": null,
            "margin": null,
            "max_height": null,
            "max_width": null,
            "min_height": null,
            "min_width": null,
            "object_fit": null,
            "object_position": null,
            "order": null,
            "overflow": null,
            "overflow_x": null,
            "overflow_y": null,
            "padding": null,
            "right": null,
            "top": null,
            "visibility": null,
            "width": null
          }
        },
        "b371d992fb5349f6a9b6b732f7e0243d": {
          "model_module": "@jupyter-widgets/controls",
          "model_name": "DescriptionStyleModel",
          "model_module_version": "1.5.0",
          "state": {
            "_model_module": "@jupyter-widgets/controls",
            "_model_module_version": "1.5.0",
            "_model_name": "DescriptionStyleModel",
            "_view_count": null,
            "_view_module": "@jupyter-widgets/base",
            "_view_module_version": "1.2.0",
            "_view_name": "StyleView",
            "description_width": ""
          }
        },
        "750c345c4d3b404787456724b9588159": {
          "model_module": "@jupyter-widgets/base",
          "model_name": "LayoutModel",
          "model_module_version": "1.2.0",
          "state": {
            "_model_module": "@jupyter-widgets/base",
            "_model_module_version": "1.2.0",
            "_model_name": "LayoutModel",
            "_view_count": null,
            "_view_module": "@jupyter-widgets/base",
            "_view_module_version": "1.2.0",
            "_view_name": "LayoutView",
            "align_content": null,
            "align_items": null,
            "align_self": null,
            "border": null,
            "bottom": null,
            "display": null,
            "flex": null,
            "flex_flow": null,
            "grid_area": null,
            "grid_auto_columns": null,
            "grid_auto_flow": null,
            "grid_auto_rows": null,
            "grid_column": null,
            "grid_gap": null,
            "grid_row": null,
            "grid_template_areas": null,
            "grid_template_columns": null,
            "grid_template_rows": null,
            "height": null,
            "justify_content": null,
            "justify_items": null,
            "left": null,
            "margin": null,
            "max_height": null,
            "max_width": null,
            "min_height": null,
            "min_width": null,
            "object_fit": null,
            "object_position": null,
            "order": null,
            "overflow": null,
            "overflow_x": null,
            "overflow_y": null,
            "padding": null,
            "right": null,
            "top": null,
            "visibility": null,
            "width": null
          }
        },
        "19ccdfafc4d94b9d88eae10b3b44e323": {
          "model_module": "@jupyter-widgets/controls",
          "model_name": "ProgressStyleModel",
          "model_module_version": "1.5.0",
          "state": {
            "_model_module": "@jupyter-widgets/controls",
            "_model_module_version": "1.5.0",
            "_model_name": "ProgressStyleModel",
            "_view_count": null,
            "_view_module": "@jupyter-widgets/base",
            "_view_module_version": "1.2.0",
            "_view_name": "StyleView",
            "bar_color": null,
            "description_width": ""
          }
        },
        "ab9fe046a96e49e4bab21ff942eb93b1": {
          "model_module": "@jupyter-widgets/base",
          "model_name": "LayoutModel",
          "model_module_version": "1.2.0",
          "state": {
            "_model_module": "@jupyter-widgets/base",
            "_model_module_version": "1.2.0",
            "_model_name": "LayoutModel",
            "_view_count": null,
            "_view_module": "@jupyter-widgets/base",
            "_view_module_version": "1.2.0",
            "_view_name": "LayoutView",
            "align_content": null,
            "align_items": null,
            "align_self": null,
            "border": null,
            "bottom": null,
            "display": null,
            "flex": null,
            "flex_flow": null,
            "grid_area": null,
            "grid_auto_columns": null,
            "grid_auto_flow": null,
            "grid_auto_rows": null,
            "grid_column": null,
            "grid_gap": null,
            "grid_row": null,
            "grid_template_areas": null,
            "grid_template_columns": null,
            "grid_template_rows": null,
            "height": null,
            "justify_content": null,
            "justify_items": null,
            "left": null,
            "margin": null,
            "max_height": null,
            "max_width": null,
            "min_height": null,
            "min_width": null,
            "object_fit": null,
            "object_position": null,
            "order": null,
            "overflow": null,
            "overflow_x": null,
            "overflow_y": null,
            "padding": null,
            "right": null,
            "top": null,
            "visibility": null,
            "width": null
          }
        },
        "07bf7cd16b1448bab7a0748bea89e2da": {
          "model_module": "@jupyter-widgets/controls",
          "model_name": "DescriptionStyleModel",
          "model_module_version": "1.5.0",
          "state": {
            "_model_module": "@jupyter-widgets/controls",
            "_model_module_version": "1.5.0",
            "_model_name": "DescriptionStyleModel",
            "_view_count": null,
            "_view_module": "@jupyter-widgets/base",
            "_view_module_version": "1.2.0",
            "_view_name": "StyleView",
            "description_width": ""
          }
        }
      }
    }
  },
  "nbformat": 4,
  "nbformat_minor": 0
}
