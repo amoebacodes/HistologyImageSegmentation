{
  "cells": [
    {
      "cell_type": "markdown",
      "metadata": {
        "id": "my7xkL9pnIlL"
      },
      "source": [
        "# ResNet FCN Pytorch\n",
        "In this notebook we will load a resnet model from [pytorch](https://pytorch.org/hub/pytorch_vision_resnet/) and train it on our image dataset."
      ]
    },
    {
      "cell_type": "code",
      "source": [
        "# Mount Google drive\n",
        "from google.colab import drive\n",
        "drive.mount('/content/drive')"
      ],
      "metadata": {
        "colab": {
          "base_uri": "https://localhost:8080/"
        },
        "id": "I2IlRZUrodzf",
        "outputId": "f254967a-e3ba-4c6d-8477-3345ed11dc36"
      },
      "execution_count": 1,
      "outputs": [
        {
          "output_type": "stream",
          "name": "stdout",
          "text": [
            "Drive already mounted at /content/drive; to attempt to forcibly remount, call drive.mount(\"/content/drive\", force_remount=True).\n"
          ]
        }
      ]
    },
    {
      "cell_type": "markdown",
      "source": [
        "**MUST RESTART RUNTIME AFTER THIS PILLOW INSTALL**"
      ],
      "metadata": {
        "id": "Wxjq8Qk8r_R5"
      }
    },
    {
      "cell_type": "code",
      "source": [
        "# Path to project folder in Drive: /content/drive/MyDrive/02740/FinalProject\n",
        "%cd /content/drive/MyDrive/02740/FinalProject\n",
        "!pwd\n",
        "\n",
        "# Necessaey to avoid torch error: https://github.com/pytorch/pytorch/issues/61125\n",
        "%pip install pillow==8.2.0"
      ],
      "metadata": {
        "colab": {
          "base_uri": "https://localhost:8080/"
        },
        "id": "OuG3ImmjopP6",
        "outputId": "b2a4c49b-e824-4723-a363-9966621a6eaa"
      },
      "execution_count": 2,
      "outputs": [
        {
          "output_type": "stream",
          "name": "stdout",
          "text": [
            "/content/drive/MyDrive/02740/FinalProject\n",
            "/content/drive/MyDrive/02740/FinalProject\n",
            "Looking in indexes: https://pypi.org/simple, https://us-python.pkg.dev/colab-wheels/public/simple/\n",
            "Requirement already satisfied: pillow==8.2.0 in /usr/local/lib/python3.7/dist-packages (8.2.0)\n"
          ]
        }
      ]
    },
    {
      "cell_type": "code",
      "source": [
        "import sys\n",
        "sys.path.append('/content/drive/MyDrive/02740/FinalProject/code')\n",
        "# sys.path.append('/content/drive/MyDrive/02740/FinalProject/data/')"
      ],
      "metadata": {
        "id": "2oR4kSwBp3Fs"
      },
      "execution_count": 3,
      "outputs": []
    },
    {
      "cell_type": "code",
      "source": [
        "import numpy as np\n",
        "import random\n",
        "import time\n",
        "import copy\n",
        "from matplotlib import pyplot as plt"
      ],
      "metadata": {
        "id": "AjJkSLYwsL1a"
      },
      "execution_count": 4,
      "outputs": []
    },
    {
      "cell_type": "code",
      "source": [
        "import torch\n",
        "import torch.nn as nn\n",
        "import torch.nn.functional as F\n",
        "import torch.optim as optim\n",
        "import torchvision\n",
        "import torchvision.transforms as transforms\n",
        "import torchvision.datasets as datasets"
      ],
      "metadata": {
        "id": "17NeLgn4nq01"
      },
      "execution_count": 5,
      "outputs": []
    },
    {
      "cell_type": "code",
      "source": [
        "SEED = 2740\n",
        "\n",
        "random.seed(SEED)\n",
        "np.random.seed(SEED)\n",
        "torch.manual_seed(SEED)\n",
        "torch.cuda.manual_seed(SEED)\n",
        "torch.backends.cudnn.deterministic = True"
      ],
      "metadata": {
        "id": "TMnejxW7sJcH"
      },
      "execution_count": 6,
      "outputs": []
    },
    {
      "cell_type": "code",
      "source": [
        "from custom_torch_dataset import SegDataset\n",
        "from eval_functions import *\n",
        "from transforms import *"
      ],
      "metadata": {
        "id": "IaNBNe5ArwyX"
      },
      "execution_count": 7,
      "outputs": []
    },
    {
      "cell_type": "markdown",
      "source": [
        "## Load Dataset"
      ],
      "metadata": {
        "id": "07o0t1HYsA9x"
      }
    },
    {
      "cell_type": "code",
      "source": [
        "# Paths to directory with training images and the annotation csv file\n",
        "train_data_dir = \"/content/drive/MyDrive/02740/FinalProject/data/hubmap-organ-segmentation/train_images\"\n",
        "train_annot_path = '/content/drive/MyDrive/02740/FinalProject/data/hubmap-organ-segmentation/train.csv'\n",
        "test_data_dir = \"/content/drive/MyDrive/02740/FinalProject/data/hubmap-organ-segmentation/test_images\"\n",
        "test_annot_path = '/content/drive/MyDrive/02740/FinalProject/data/hubmap-organ-segmentation/test.csv'"
      ],
      "metadata": {
        "id": "GxUhs0PMsAMf"
      },
      "execution_count": 8,
      "outputs": []
    },
    {
      "cell_type": "markdown",
      "source": [
        "### Data Transformations\n"
      ],
      "metadata": {
        "id": "2bFubkbItGDY"
      }
    },
    {
      "cell_type": "markdown",
      "source": [
        "Resnet requires that images are loaded in a range [0,1] then normalized mean = [0.485, 0.456, 0.406] and std = [0.229, 0.224, 0.225]"
      ],
      "metadata": {
        "id": "tBFw3FDQtg8g"
      }
    },
    {
      "cell_type": "code",
      "source": [
        "# train_preprocess = Compose([\n",
        "#     ToTensor(),\n",
        "#     Resize(256),\n",
        "#     RandomHorizontalFlip(0.5),\n",
        "#     Normalize(mean=[0.485, 0.456, 0.406], std=[0.229, 0.224, 0.225]),\n",
        "# ])\n",
        "\n",
        "# test_preprocess = Compose([\n",
        "#     ToTensor(),\n",
        "#     Resize(256),\n",
        "#     Normalize(mean=[0.485, 0.456, 0.406], std=[0.229, 0.224, 0.225]),\n",
        "# ])"
      ],
      "metadata": {
        "id": "EvejzoqZUGgS"
      },
      "execution_count": 9,
      "outputs": []
    },
    {
      "cell_type": "code",
      "source": [
        "data_transforms = {\n",
        "    'train': Compose([\n",
        "    ToTensor(),\n",
        "    Resize(256),\n",
        "    RandomHorizontalFlip(0.5),\n",
        "    Normalize(mean=[0.485, 0.456, 0.406], std=[0.229, 0.224, 0.225]),\n",
        "    ]),\n",
        "    'val': Compose([\n",
        "    ToTensor(),\n",
        "    Resize(256),\n",
        "    Normalize(mean=[0.485, 0.456, 0.406], std=[0.229, 0.224, 0.225]),\n",
        "    ]),\n",
        "}"
      ],
      "metadata": {
        "id": "lTHke5Hbyh5J"
      },
      "execution_count": 10,
      "outputs": []
    },
    {
      "cell_type": "markdown",
      "source": [
        "### Initialize Datasets"
      ],
      "metadata": {
        "id": "PFDn6sOetUuM"
      }
    },
    {
      "cell_type": "code",
      "source": [
        "# Initialize custom dataset object\n",
        "# train_dataset = SegDataset(root_dir=train_data_dir,annot_csv=train_annot_path,transform=train_preprocess)\n",
        "# test_dataset = SegDataset(root_dir=test_data_dir,annot_csv=test_annot_path,transform=test_preprocess)\n",
        "# print('Train dataset size:',len(train_dataset))\n",
        "# print('Test dataset size:',len(test_dataset))"
      ],
      "metadata": {
        "id": "Jy_Ta3GpsuLy"
      },
      "execution_count": 11,
      "outputs": []
    },
    {
      "cell_type": "code",
      "source": [
        "num_workers = 2\n",
        "batch_size = 8\n",
        "\n",
        "# Create training and validation datasets\n",
        "image_datasets = {'train': SegDataset(root_dir=train_data_dir,annot_csv=train_annot_path,transform=data_transforms['train']),\n",
        "                  'val': SegDataset(root_dir=train_data_dir,annot_csv=train_annot_path,transform=data_transforms['val']),\n",
        "}\n",
        "\n",
        "# Create training and validation dataloaders\n",
        "dataloaders_dict = {'train': torch.utils.data.DataLoader(image_datasets['train'], batch_size=batch_size, \n",
        "                    shuffle=True, num_workers=num_workers),\n",
        "                    'val': torch.utils.data.DataLoader(image_datasets['val'], batch_size=1, \n",
        "                    shuffle=True, num_workers=num_workers),\n",
        "}"
      ],
      "metadata": {
        "id": "Sf-3le4xy66L"
      },
      "execution_count": 12,
      "outputs": []
    },
    {
      "cell_type": "code",
      "source": [
        "# for inputs, labels, x in dataloaders_dict['train']:\n",
        "# for x in dataloaders_dict['train']:\n",
        "  # print(xs)\n",
        "  # print(type(inputs),inputs.size())\n",
        "  # print(type(labels),labels.size())\n",
        "  # print(type(x))\n",
        "\n",
        "  # break"
      ],
      "metadata": {
        "id": "B2L3-zd-36HY"
      },
      "execution_count": 13,
      "outputs": []
    },
    {
      "cell_type": "markdown",
      "source": [
        "Vizualize data"
      ],
      "metadata": {
        "id": "8_yaDzs6uKvS"
      }
    },
    {
      "cell_type": "code",
      "source": [
        "# for i in range(len(train_dataset)):\n",
        "#     img, mask, sample = train_dataset[i]\n",
        "#     print(img.shape,mask.shape)\n",
        "\n",
        "#     fig, axs = plt.subplots(1,2)\n",
        "#     fig.suptitle(f'{sample[\"id\"]}.tiff: {sample[\"data_source\"]} {sample[\"organ\"]}')\n",
        "#     axs[0].imshow(img.transpose(0,2))\n",
        "#     axs[1].imshow(mask.squeeze())\n",
        "#     plt.tight_layout()\n",
        "#     plt.show()\n",
        "\n",
        "#     if i == 1:\n",
        "#         break"
      ],
      "metadata": {
        "id": "TKXGj6kauORP"
      },
      "execution_count": 14,
      "outputs": []
    },
    {
      "cell_type": "code",
      "source": [
        "for i in range(len(image_datasets['train'])):\n",
        "    img, mask, sample = image_datasets['train'][i]\n",
        "    print(img.shape,mask.shape)\n",
        "\n",
        "    fig, axs = plt.subplots(1,2)\n",
        "    fig.suptitle(f'{sample[\"id\"]}.tiff: {sample[\"data_source\"]} {sample[\"organ\"]}')\n",
        "    axs[0].imshow(img.transpose(0,2))\n",
        "    axs[1].imshow(mask.squeeze())\n",
        "    plt.tight_layout()\n",
        "    plt.show()\n",
        "\n",
        "    if i == 1:\n",
        "        break"
      ],
      "metadata": {
        "colab": {
          "base_uri": "https://localhost:8080/",
          "height": 620
        },
        "id": "C13Rru420BoN",
        "outputId": "693a35b2-7816-4ce7-c689-c6f55534f548"
      },
      "execution_count": 15,
      "outputs": [
        {
          "output_type": "stream",
          "name": "stderr",
          "text": [
            "WARNING:matplotlib.image:Clipping input data to the valid range for imshow with RGB data ([0..1] for floats or [0..255] for integers).\n"
          ]
        },
        {
          "output_type": "stream",
          "name": "stdout",
          "text": [
            "torch.Size([3, 256, 256]) torch.Size([1, 256, 256])\n"
          ]
        },
        {
          "output_type": "display_data",
          "data": {
            "text/plain": [
              "<Figure size 432x288 with 2 Axes>"
            ],
            "image/png": "[encoded data removed]"
          },
          "metadata": {
            "needs_background": "light"
          }
        },
        {
          "output_type": "stream",
          "name": "stderr",
          "text": [
            "WARNING:matplotlib.image:Clipping input data to the valid range for imshow with RGB data ([0..1] for floats or [0..255] for integers).\n"
          ]
        },
        {
          "output_type": "stream",
          "name": "stdout",
          "text": [
            "torch.Size([3, 256, 256]) torch.Size([1, 256, 256])\n"
          ]
        },
        {
          "output_type": "display_data",
          "data": {
            "text/plain": [
              "<Figure size 432x288 with 2 Axes>"
            ],
            "image/png": "[encoded data removed]"
          },
          "metadata": {
            "needs_background": "light"
          }
        }
      ]
    },
    {
      "cell_type": "markdown",
      "source": [
        "## Helper functions"
      ],
      "metadata": {
        "id": "pIpK11rxtyR0"
      }
    },
    {
      "cell_type": "code",
      "source": [
        "def set_parameter_requires_grad(model, feature_extracting):\n",
        "    if feature_extracting:\n",
        "        for param in model.parameters():\n",
        "            param.requires_grad = False"
      ],
      "metadata": {
        "id": "o44oeltqukTY"
      },
      "execution_count": 16,
      "outputs": []
    },
    {
      "cell_type": "code",
      "source": [
        "def train_model(model, dataloaders, criterion, optimizer, device, num_epochs=25, is_inception=False):\n",
        "    since = time.time()\n",
        "\n",
        "    val_loss_history = []\n",
        "\n",
        "    best_model_wts = copy.deepcopy(model.state_dict())\n",
        "    best_loss = 0.0\n",
        "\n",
        "    for epoch in range(num_epochs):\n",
        "        print('Epoch {}/{}'.format(epoch, num_epochs - 1))\n",
        "        print('-' * 10)\n",
        "\n",
        "        # Each epoch has a training and validation phase\n",
        "        for phase in ['train', 'val']:\n",
        "            e_start = time.time()\n",
        "            if phase == 'train':\n",
        "                model.train()  # Set model to training mode\n",
        "            else:\n",
        "                model.eval()   # Set model to evaluate mode\n",
        "\n",
        "            running_loss = 10.0\n",
        "            # running_corrects = 0\n",
        "\n",
        "            # Iterate over data.\n",
        "            for inputs, labels, _ in dataloaders[phase]:\n",
        "                inputs = inputs.to(device)\n",
        "                labels = labels.to(device)\n",
        "\n",
        "                # zero the parameter gradients\n",
        "                optimizer.zero_grad()\n",
        "\n",
        "                # forward\n",
        "                # track history if only in train\n",
        "                with torch.set_grad_enabled(phase == 'train'):\n",
        "                    # Get model outputs and calculate loss\n",
        "                    # Special case for inception because in training it has an auxiliary output. In train\n",
        "                    #   mode we calculate the loss by summing the final output and the auxiliary output\n",
        "                    #   but in testing we only consider the final output.\n",
        "                    if is_inception and phase == 'train':\n",
        "                        # From https://discuss.pytorch.org/t/how-to-optimize-inception-model-with-auxiliary-classifiers/7958\n",
        "                        outputs, aux_outputs = model(inputs)\n",
        "                        loss1 = criterion(outputs, labels)\n",
        "                        loss2 = criterion(aux_outputs, labels)\n",
        "                        loss = loss1 + 0.4*loss2\n",
        "                    else:\n",
        "                        # print(f'Intput size: {inputs.size()}')\n",
        "                        outputs = model(inputs)['out'][:,1,:,:].unsqueeze(1) #.argmax(1).unsqueeze(1)\n",
        "                        # print(f'Output size, label size: {outputs.size()} , {labels.size()}')\n",
        "                        loss = criterion(outputs.float(), labels.float())\n",
        "\n",
        "                    # _, preds = torch.max(outputs, 1)\n",
        "\n",
        "                    # backward + optimize only if in training phase\n",
        "                    if phase == 'train':\n",
        "                        # for param in model.parameters():\n",
        "                        #     param.retain_grad()\n",
        "                        loss.backward()\n",
        "                        optimizer.step()\n",
        "\n",
        "                # statistics\n",
        "                running_loss += loss.item() * inputs.size(0)\n",
        "                # running_corrects += torch.sum(preds == labels.data)\n",
        "\n",
        "            epoch_loss = running_loss / len(dataloaders[phase].dataset)\n",
        "            # epoch_acc = running_corrects.double() / len(dataloaders[phase].dataset)\n",
        "\n",
        "            e_elapsed = time.time() - e_start\n",
        "            print(f'Epoch {epoch} took {e_elapsed // 60}m, {e_elapsed % 60}s')\n",
        "            print('{} Loss: {:.4f}'.format(phase, epoch_loss))\n",
        "\n",
        "            # deep copy the model\n",
        "            if phase == 'val' and epoch_loss < best_loss:\n",
        "                best_loss = epoch_loss\n",
        "                best_model_wts = copy.deepcopy(model.state_dict())\n",
        "            if phase == 'val':\n",
        "                val_loss_history.append(epoch_loss)\n",
        "\n",
        "        print()\n",
        "\n",
        "    time_elapsed = time.time() - since\n",
        "    print('Training complete in {:.0f}m {:.0f}s'.format(time_elapsed // 60, time_elapsed % 60))\n",
        "    print('Best val loss: {:4f}'.format(best_loss))\n",
        "\n",
        "    # load best model weights\n",
        "    model.load_state_dict(best_model_wts)\n",
        "    return model, val_loss_history\n"
      ],
      "metadata": {
        "id": "goO0sdj2u_Ln"
      },
      "execution_count": 28,
      "outputs": []
    },
    {
      "cell_type": "code",
      "source": [
        "def initialize_model(model_name, num_classes, feature_extract, use_pretrained=True):\n",
        "    # Initialize these variables which will be set in this if statement. Each of these\n",
        "    #   variables is model specific.\n",
        "    model_ft = None\n",
        "\n",
        "    if model_name == \"fcn_resnet50\":\n",
        "        \"\"\" FCN-Resnet50\n",
        "        \"\"\"\n",
        "        model_ft = torch.hub.load('pytorch/vision:v0.10.0', 'fcn_resnet50', pretrained=use_pretrained)\n",
        "        set_parameter_requires_grad(model_ft, feature_extract)\n",
        "        model_ft.classifier[4] = nn.Conv2d(512, 2, kernel_size=(1, 1), stride=(1, 1))\n",
        "        model_ft.aux_classifier[4] = nn.Conv2d(256, 2, kernel_size=(1, 1), stride=(1, 1))\n",
        "\n",
        "    elif model_name == \"fcn_resnet101\":\n",
        "        \"\"\" FCN-Resnet101\n",
        "        \"\"\"\n",
        "        model_ft = torch.hub.load('pytorch/vision:v0.10.0', 'fcn_resnet101', pretrained=use_pretrained)\n",
        "        set_parameter_requires_grad(model_ft, feature_extract)\n",
        "        model_ft.classifier[4] = nn.Conv2d(512, 2, kernel_size=(1, 1), stride=(1, 1))\n",
        "        model_ft.aux_classifier[4] = nn.Conv2d(256, 2, kernel_size=(1, 1), stride=(1, 1))\n",
        "\n",
        "    else:\n",
        "        print(\"Invalid model name, exiting...\")\n",
        "        exit()\n",
        "\n",
        "    return model_ft\n"
      ],
      "metadata": {
        "id": "sX0PUZxSrb9l"
      },
      "execution_count": 18,
      "outputs": []
    },
    {
      "cell_type": "markdown",
      "source": [
        "## Load Resnet Model"
      ],
      "metadata": {
        "id": "JclKvrl-r4dc"
      }
    },
    {
      "cell_type": "markdown",
      "source": [
        "Pytorch implentations of FCN-RESNET"
      ],
      "metadata": {
        "id": "S2AVnt1FqV_b"
      }
    },
    {
      "cell_type": "code",
      "source": [
        "# fcn_model = torch.hub.load('pytorch/vision:v0.10.0', 'fcn_resnet50', pretrained=True)\n",
        "# fcn_model = torch.hub.load('pytorch/vision:v0.10.0', 'fcn_resnet101', pretrained=True)"
      ],
      "metadata": {
        "id": "sXzud8lYoY81"
      },
      "execution_count": 19,
      "outputs": []
    },
    {
      "cell_type": "markdown",
      "source": [
        "Modify final layer to accomodate desired number of classes"
      ],
      "metadata": {
        "id": "LOndIRmLth-l"
      }
    },
    {
      "cell_type": "code",
      "source": [
        "# Modify last layer to predict 2 classes\n",
        "# fcn_model.classifier[4] = nn.Conv2d(512, 2, kernel_size=(1, 1), stride=(1, 1))\n",
        "# fcn_model.aux_classifier[4] = nn.Conv2d(256, 2, kernel_size=(1, 1), stride=(1, 1))\n",
        "# print(fcn_model)"
      ],
      "metadata": {
        "id": "omr2Us34rb08"
      },
      "execution_count": 20,
      "outputs": []
    },
    {
      "cell_type": "markdown",
      "source": [
        "Load model with helper functions"
      ],
      "metadata": {
        "id": "eDPraSSVyCxT"
      }
    },
    {
      "cell_type": "code",
      "source": [
        "# Models to choose from [resnet, alexnet, vgg, squeezenet, densenet, inception]\n",
        "model_name = \"fcn_resnet50\"\n",
        "\n",
        "# Number of classes in the dataset\n",
        "num_classes = 2\n",
        "\n",
        "# Batch size for training (change depending on how much memory you have)\n",
        "# batch_size = 8\n",
        "\n",
        "# Number of epochs to train for\n",
        "num_epochs = 3\n",
        "\n",
        "# Flag for feature extracting. When False, we finetune the whole model,\n",
        "#   when True we only update the reshaped layer params\n",
        "feature_extract = False"
      ],
      "metadata": {
        "id": "iBvcRVNKuwVb"
      },
      "execution_count": 21,
      "outputs": []
    },
    {
      "cell_type": "code",
      "source": [
        "# Initialize the model for this run\n",
        "fcn_model = initialize_model(model_name, num_classes, feature_extract, use_pretrained=True)\n",
        "\n",
        "# Print the model we just instantiated\n",
        "# print(fcn_model)"
      ],
      "metadata": {
        "colab": {
          "base_uri": "https://localhost:8080/",
          "height": 176,
          "referenced_widgets": [
            "00f437cb88ef4a3f8ea0731d73f70033",
            "f5643a464ce5440b9786082ef22beeae",
            "069e8209eed5448aa417f253623c810c",
            "67ed9a339edc4bf3a6b6ff912438fb30",
            "72bc712474634e6eba440aa96bd66bbf",
            "bb56d0fcf68d4f53b8621c40b25b25b4",
            "94e735f59f04452eaff32222e77e6330",
            "cfa7c3e517e24e73b7c2a39c1f60a331",
            "7c8c2708ecf04e618357d68e06775a33",
            "38260db8bec642238daf4815e2b642e2",
            "3abb3f6f7ddd4490a655909ccd2f9577"
          ]
        },
        "id": "1-3nr2kmyHid",
        "outputId": "414accd3-f247-4e1e-ed30-b0a361461045"
      },
      "execution_count": 22,
      "outputs": [
        {
          "output_type": "stream",
          "name": "stderr",
          "text": [
            "Downloading: \"https://github.com/pytorch/vision/zipball/v0.10.0\" to /root/.cache/torch/hub/v0.10.0.zip\n",
            "/usr/local/lib/python3.7/dist-packages/torchvision/models/_utils.py:209: UserWarning: The parameter 'pretrained' is deprecated since 0.13 and will be removed in 0.15, please use 'weights' instead.\n",
            "  f\"The parameter '{pretrained_param}' is deprecated since 0.13 and will be removed in 0.15, \"\n",
            "/usr/local/lib/python3.7/dist-packages/torchvision/models/_utils.py:223: UserWarning: Arguments other than a weight enum or `None` for 'weights' are deprecated since 0.13 and will be removed in 0.15. The current behavior is equivalent to passing `weights=FCN_ResNet50_Weights.COCO_WITH_VOC_LABELS_V1`. You can also use `weights=FCN_ResNet50_Weights.DEFAULT` to get the most up-to-date weights.\n",
            "  warnings.warn(msg)\n",
            "Downloading: \"https://download.pytorch.org/models/fcn_resnet50_coco-1167a1af.pth\" to /root/.cache/torch/hub/checkpoints/fcn_resnet50_coco-1167a1af.pth\n"
          ]
        },
        {
          "output_type": "display_data",
          "data": {
            "text/plain": [
              "  0%|          | 0.00/135M [00:00<?, ?B/s]"
            ],
            "application/vnd.jupyter.widget-view+json": {
              "version_major": 2,
              "version_minor": 0,
              "model_id": "00f437cb88ef4a3f8ea0731d73f70033"
            }
          },
          "metadata": {}
        }
      ]
    },
    {
      "cell_type": "markdown",
      "source": [
        "### Model optimizer"
      ],
      "metadata": {
        "id": "5_JvCMx70VrO"
      }
    },
    {
      "cell_type": "code",
      "source": [
        "# Detect if we have a GPU available\n",
        "device = torch.device(\"cuda:0\" if torch.cuda.is_available() else \"cpu\")"
      ],
      "metadata": {
        "id": "Lx34MkHu0gJ7"
      },
      "execution_count": 23,
      "outputs": []
    },
    {
      "cell_type": "code",
      "source": [
        "# Send the model to available device\n",
        "fcn_model = fcn_model.to(device)\n",
        "\n",
        "# Gather the parameters to be optimized/updated in this run. If we are\n",
        "#  finetuning we will be updating all parameters. However, if we are\n",
        "#  doing feature extract method, we will only update the parameters\n",
        "#  that we have just initialized, i.e. the parameters with requires_grad\n",
        "#  is True.\n",
        "params_to_update = fcn_model.parameters()\n",
        "# print(\"Params to learn:\")\n",
        "if feature_extract:\n",
        "    params_to_update = []\n",
        "    for name,param in fcn_model.named_parameters():\n",
        "        if param.requires_grad == True:\n",
        "            params_to_update.append(param)\n",
        "            # print(\"\\t\",name)\n",
        "# else:\n",
        "#     for name,param in fcn_model.named_parameters():\n",
        "#         if param.requires_grad == True:\n",
        "#             # print(\"\\t\",name)\n",
        "\n",
        "# Observe that all parameters are being optimized\n",
        "optimizer = optim.SGD(params_to_update, lr=0.001, momentum=0.9)\n"
      ],
      "metadata": {
        "id": "4n4ClLfw0bGw"
      },
      "execution_count": 24,
      "outputs": []
    },
    {
      "cell_type": "markdown",
      "source": [
        "## Model Training and Validation"
      ],
      "metadata": {
        "id": "eygVVq3k0cfy"
      }
    },
    {
      "cell_type": "markdown",
      "source": [
        "### Model criterion"
      ],
      "metadata": {
        "id": "pev0nXXf1X1q"
      }
    },
    {
      "cell_type": "code",
      "source": [
        "# Setup the loss fxn\n",
        "# criterion = nn.CrossEntropyLoss()\n",
        "criterion = nn.BCEWithLogitsLoss()\n"
      ],
      "metadata": {
        "id": "konQfjUu0hX-"
      },
      "execution_count": 25,
      "outputs": []
    },
    {
      "cell_type": "markdown",
      "source": [
        "Taking ~4 minutes per epoch with batchsize = 8"
      ],
      "metadata": {
        "id": "Zw-cZXirQ9UY"
      }
    },
    {
      "cell_type": "code",
      "source": [
        "# Train and evaluate\n",
        "inception = False\n",
        "\n",
        "fcn_model, hist = train_model(fcn_model, dataloaders_dict, criterion, optimizer, device, num_epochs=num_epochs,\n",
        "                              is_inception=inception)"
      ],
      "metadata": {
        "colab": {
          "base_uri": "https://localhost:8080/"
        },
        "id": "3TAMkw7i1dBP",
        "outputId": "d8eec8c9-04af-49dd-c00f-d69a1fe70e20"
      },
      "execution_count": 29,
      "outputs": [
        {
          "output_type": "stream",
          "name": "stdout",
          "text": [
            "Epoch 0/2\n",
            "----------\n",
            "Epoch 0 took 1.0m, 49.62639045715332s\n",
            "train Loss: 0.2702\n",
            "Epoch 0 took 3.0m, 32.85577082633972s\n",
            "val Loss: 0.2588\n",
            "\n",
            "Epoch 1/2\n",
            "----------\n",
            "Epoch 1 took 1.0m, 47.18576407432556s\n",
            "train Loss: 0.2563\n",
            "Epoch 1 took 3.0m, 34.536070585250854s\n",
            "val Loss: 0.2439\n",
            "\n",
            "Epoch 2/2\n",
            "----------\n",
            "Epoch 2 took 1.0m, 45.835793256759644s\n",
            "train Loss: 0.2429\n",
            "Epoch 2 took 3.0m, 35.030521869659424s\n",
            "val Loss: 0.2325\n",
            "\n",
            "Training complete in 10m 42s\n",
            "Best val loss: 0.000000\n"
          ]
        }
      ]
    }
  ],
  "metadata": {
    "language_info": {
      "name": "python"
    },
    "orig_nbformat": 4,
    "colab": {
      "provenance": [],
      "collapsed_sections": [],
      "toc_visible": true
    },
    "kernelspec": {
      "name": "python3",
      "display_name": "Python 3"
    },
    "gpuClass": "standard",
    "accelerator": "GPU",
    "widgets": {
      "application/vnd.jupyter.widget-state+json": {
        "00f437cb88ef4a3f8ea0731d73f70033": {
          "model_module": "@jupyter-widgets/controls",
          "model_name": "HBoxModel",
          "model_module_version": "1.5.0",
          "state": {
            "_dom_classes": [],
            "_model_module": "@jupyter-widgets/controls",
            "_model_module_version": "1.5.0",
            "_model_name": "HBoxModel",
            "_view_count": null,
            "_view_module": "@jupyter-widgets/controls",
            "_view_module_version": "1.5.0",
            "_view_name": "HBoxView",
            "box_style": "",
            "children": [
              "IPY_MODEL_f5643a464ce5440b9786082ef22beeae",
              "IPY_MODEL_069e8209eed5448aa417f253623c810c",
              "IPY_MODEL_67ed9a339edc4bf3a6b6ff912438fb30"
            ],
            "layout": "IPY_MODEL_72bc712474634e6eba440aa96bd66bbf"
          }
        },
        "f5643a464ce5440b9786082ef22beeae": {
          "model_module": "@jupyter-widgets/controls",
          "model_name": "HTMLModel",
          "model_module_version": "1.5.0",
          "state": {
            "_dom_classes": [],
            "_model_module": "@jupyter-widgets/controls",
            "_model_module_version": "1.5.0",
            "_model_name": "HTMLModel",
            "_view_count": null,
            "_view_module": "@jupyter-widgets/controls",
            "_view_module_version": "1.5.0",
            "_view_name": "HTMLView",
            "description": "",
            "description_tooltip": null,
            "layout": "IPY_MODEL_bb56d0fcf68d4f53b8621c40b25b25b4",
            "placeholder": "​",
            "style": "IPY_MODEL_94e735f59f04452eaff32222e77e6330",
            "value": "100%"
          }
        },
        "069e8209eed5448aa417f253623c810c": {
          "model_module": "@jupyter-widgets/controls",
          "model_name": "FloatProgressModel",
          "model_module_version": "1.5.0",
          "state": {
            "_dom_classes": [],
            "_model_module": "@jupyter-widgets/controls",
            "_model_module_version": "1.5.0",
            "_model_name": "FloatProgressModel",
            "_view_count": null,
            "_view_module": "@jupyter-widgets/controls",
            "_view_module_version": "1.5.0",
            "_view_name": "ProgressView",
            "bar_style": "success",
            "description": "",
            "description_tooltip": null,
            "layout": "IPY_MODEL_cfa7c3e517e24e73b7c2a39c1f60a331",
            "max": 141567418,
            "min": 0,
            "orientation": "horizontal",
            "style": "IPY_MODEL_7c8c2708ecf04e618357d68e06775a33",
            "value": 141567418
          }
        },
        "67ed9a339edc4bf3a6b6ff912438fb30": {
          "model_module": "@jupyter-widgets/controls",
          "model_name": "HTMLModel",
          "model_module_version": "1.5.0",
          "state": {
            "_dom_classes": [],
            "_model_module": "@jupyter-widgets/controls",
            "_model_module_version": "1.5.0",
            "_model_name": "HTMLModel",
            "_view_count": null,
            "_view_module": "@jupyter-widgets/controls",
            "_view_module_version": "1.5.0",
            "_view_name": "HTMLView",
            "description": "",
            "description_tooltip": null,
            "layout": "IPY_MODEL_38260db8bec642238daf4815e2b642e2",
            "placeholder": "​",
            "style": "IPY_MODEL_3abb3f6f7ddd4490a655909ccd2f9577",
            "value": " 135M/135M [00:01&lt;00:00, 129MB/s]"
          }
        },
        "72bc712474634e6eba440aa96bd66bbf": {
          "model_module": "@jupyter-widgets/base",
          "model_name": "LayoutModel",
          "model_module_version": "1.2.0",
          "state": {
            "_model_module": "@jupyter-widgets/base",
            "_model_module_version": "1.2.0",
            "_model_name": "LayoutModel",
            "_view_count": null,
            "_view_module": "@jupyter-widgets/base",
            "_view_module_version": "1.2.0",
            "_view_name": "LayoutView",
            "align_content": null,
            "align_items": null,
            "align_self": null,
            "border": null,
            "bottom": null,
            "display": null,
            "flex": null,
            "flex_flow": null,
            "grid_area": null,
            "grid_auto_columns": null,
            "grid_auto_flow": null,
            "grid_auto_rows": null,
            "grid_column": null,
            "grid_gap": null,
            "grid_row": null,
            "grid_template_areas": null,
            "grid_template_columns": null,
            "grid_template_rows": null,
            "height": null,
            "justify_content": null,
            "justify_items": null,
            "left": null,
            "margin": null,
            "max_height": null,
            "max_width": null,
            "min_height": null,
            "min_width": null,
            "object_fit": null,
            "object_position": null,
            "order": null,
            "overflow": null,
            "overflow_x": null,
            "overflow_y": null,
            "padding": null,
            "right": null,
            "top": null,
            "visibility": null,
            "width": null
          }
        },
        "bb56d0fcf68d4f53b8621c40b25b25b4": {
          "model_module": "@jupyter-widgets/base",
          "model_name": "LayoutModel",
          "model_module_version": "1.2.0",
          "state": {
            "_model_module": "@jupyter-widgets/base",
            "_model_module_version": "1.2.0",
            "_model_name": "LayoutModel",
            "_view_count": null,
            "_view_module": "@jupyter-widgets/base",
            "_view_module_version": "1.2.0",
            "_view_name": "LayoutView",
            "align_content": null,
            "align_items": null,
            "align_self": null,
            "border": null,
            "bottom": null,
            "display": null,
            "flex": null,
            "flex_flow": null,
            "grid_area": null,
            "grid_auto_columns": null,
            "grid_auto_flow": null,
            "grid_auto_rows": null,
            "grid_column": null,
            "grid_gap": null,
            "grid_row": null,
            "grid_template_areas": null,
            "grid_template_columns": null,
            "grid_template_rows": null,
            "height": null,
            "justify_content": null,
            "justify_items": null,
            "left": null,
            "margin": null,
            "max_height": null,
            "max_width": null,
            "min_height": null,
            "min_width": null,
            "object_fit": null,
            "object_position": null,
            "order": null,
            "overflow": null,
            "overflow_x": null,
            "overflow_y": null,
            "padding": null,
            "right": null,
            "top": null,
            "visibility": null,
            "width": null
          }
        },
        "94e735f59f04452eaff32222e77e6330": {
          "model_module": "@jupyter-widgets/controls",
          "model_name": "DescriptionStyleModel",
          "model_module_version": "1.5.0",
          "state": {
            "_model_module": "@jupyter-widgets/controls",
            "_model_module_version": "1.5.0",
            "_model_name": "DescriptionStyleModel",
            "_view_count": null,
            "_view_module": "@jupyter-widgets/base",
            "_view_module_version": "1.2.0",
            "_view_name": "StyleView",
            "description_width": ""
          }
        },
        "cfa7c3e517e24e73b7c2a39c1f60a331": {
          "model_module": "@jupyter-widgets/base",
          "model_name": "LayoutModel",
          "model_module_version": "1.2.0",
          "state": {
            "_model_module": "@jupyter-widgets/base",
            "_model_module_version": "1.2.0",
            "_model_name": "LayoutModel",
            "_view_count": null,
            "_view_module": "@jupyter-widgets/base",
            "_view_module_version": "1.2.0",
            "_view_name": "LayoutView",
            "align_content": null,
            "align_items": null,
            "align_self": null,
            "border": null,
            "bottom": null,
            "display": null,
            "flex": null,
            "flex_flow": null,
            "grid_area": null,
            "grid_auto_columns": null,
            "grid_auto_flow": null,
            "grid_auto_rows": null,
            "grid_column": null,
            "grid_gap": null,
            "grid_row": null,
            "grid_template_areas": null,
            "grid_template_columns": null,
            "grid_template_rows": null,
            "height": null,
            "justify_content": null,
            "justify_items": null,
            "left": null,
            "margin": null,
            "max_height": null,
            "max_width": null,
            "min_height": null,
            "min_width": null,
            "object_fit": null,
            "object_position": null,
            "order": null,
            "overflow": null,
            "overflow_x": null,
            "overflow_y": null,
            "padding": null,
            "right": null,
            "top": null,
            "visibility": null,
            "width": null
          }
        },
        "7c8c2708ecf04e618357d68e06775a33": {
          "model_module": "@jupyter-widgets/controls",
          "model_name": "ProgressStyleModel",
          "model_module_version": "1.5.0",
          "state": {
            "_model_module": "@jupyter-widgets/controls",
            "_model_module_version": "1.5.0",
            "_model_name": "ProgressStyleModel",
            "_view_count": null,
            "_view_module": "@jupyter-widgets/base",
            "_view_module_version": "1.2.0",
            "_view_name": "StyleView",
            "bar_color": null,
            "description_width": ""
          }
        },
        "38260db8bec642238daf4815e2b642e2": {
          "model_module": "@jupyter-widgets/base",
          "model_name": "LayoutModel",
          "model_module_version": "1.2.0",
          "state": {
            "_model_module": "@jupyter-widgets/base",
            "_model_module_version": "1.2.0",
            "_model_name": "LayoutModel",
            "_view_count": null,
            "_view_module": "@jupyter-widgets/base",
            "_view_module_version": "1.2.0",
            "_view_name": "LayoutView",
            "align_content": null,
            "align_items": null,
            "align_self": null,
            "border": null,
            "bottom": null,
            "display": null,
            "flex": null,
            "flex_flow": null,
            "grid_area": null,
            "grid_auto_columns": null,
            "grid_auto_flow": null,
            "grid_auto_rows": null,
            "grid_column": null,
            "grid_gap": null,
            "grid_row": null,
            "grid_template_areas": null,
            "grid_template_columns": null,
            "grid_template_rows": null,
            "height": null,
            "justify_content": null,
            "justify_items": null,
            "left": null,
            "margin": null,
            "max_height": null,
            "max_width": null,
            "min_height": null,
            "min_width": null,
            "object_fit": null,
            "object_position": null,
            "order": null,
            "overflow": null,
            "overflow_x": null,
            "overflow_y": null,
            "padding": null,
            "right": null,
            "top": null,
            "visibility": null,
            "width": null
          }
        },
        "3abb3f6f7ddd4490a655909ccd2f9577": {
          "model_module": "@jupyter-widgets/controls",
          "model_name": "DescriptionStyleModel",
          "model_module_version": "1.5.0",
          "state": {
            "_model_module": "@jupyter-widgets/controls",
            "_model_module_version": "1.5.0",
            "_model_name": "DescriptionStyleModel",
            "_view_count": null,
            "_view_module": "@jupyter-widgets/base",
            "_view_module_version": "1.2.0",
            "_view_name": "StyleView",
            "description_width": ""
          }
        }
      }
    }
  },
  "nbformat": 4,
  "nbformat_minor": 0
}