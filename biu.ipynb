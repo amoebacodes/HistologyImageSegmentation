{
  "cells": [
    {
      "cell_type": "code",
      "source": [
        "!pip install bio-image-unet"
      ],
      "metadata": {
        "id": "Pd9-SxR06wMf"
      },
      "execution_count": null,
      "outputs": []
    },
    {
      "cell_type": "code",
      "source": [
        "import sys\n",
        "sys.version"
      ],
      "metadata": {
        "colab": {
          "base_uri": "https://localhost:8080/",
          "height": 35
        },
        "id": "hou6oXck8SqE",
        "outputId": "cb09c6be-5cc9-4f14-d910-d72fd8948da6"
      },
      "execution_count": null,
      "outputs": [
        {
          "output_type": "execute_result",
          "data": {
            "text/plain": [
              "'3.8.15 (default, Oct 12 2022, 19:14:39) \\n[GCC 7.5.0]'"
            ],
            "application/vnd.google.colaboratory.intrinsic+json": {
              "type": "string"
            }
          },
          "metadata": {},
          "execution_count": 2
        }
      ]
    },
    {
      "cell_type": "code",
      "execution_count": null,
      "metadata": {
        "id": "S6rdAIiP6vF4"
      },
      "outputs": [],
      "source": [
        "import biu.unet as net\n",
        "import imageio\n",
        "import cv2\n",
        "from PIL import Image, ImageOps\n",
        "import os, glob\n",
        "import numpy as np\n",
        "\n",
        "\n",
        "import torch\n",
        "from torch import nn as nn, flatten"
      ]
    },
    {
      "cell_type": "code",
      "source": [
        "from google.colab import drive\n",
        "drive.mount('/content/drive')"
      ],
      "metadata": {
        "id": "YZXqfmD_6_mI",
        "outputId": "b4480182-9d95-4d1e-d917-68ab0350b0ba",
        "colab": {
          "base_uri": "https://localhost:8080/"
        }
      },
      "execution_count": null,
      "outputs": [
        {
          "output_type": "stream",
          "name": "stdout",
          "text": [
            "Mounted at /content/drive\n"
          ]
        }
      ]
    },
    {
      "cell_type": "code",
      "execution_count": null,
      "metadata": {
        "id": "0frWtd8g6vF7"
      },
      "outputs": [],
      "source": [
        "import os\n",
        "dir_images = '/content/drive/MyDrive/bioimage-final/train/image/'\n",
        "dir_masks = '/content/drive/MyDrive/bioimage-final/train/label/'\n",
        "\n",
        "# for img in glob.glob(dir_images+'*.jpg'):\n",
        "#     filename = img.split('.')[0]\n",
        "#     arr = Image.open(img)\n",
        "#     arr = ImageOps.grayscale(arr)\n",
        "#     arr = arr.resize((256,256))\n",
        "#     imageio.imsave(filename +'.tiff', np.array(arr) )\n",
        "\n",
        "# for img in glob.glob('/content/drive/MyDrive/bioimage-final/test/label/62.tiff'):\n",
        "#     filename = img.split('.')[0]\n",
        "#     arr = Image.open(img)\n",
        "#     arr = ImageOps.grayscale(arr)\n",
        "#     arr = arr.resize((256,256))\n",
        "#     imageio.imsave(filename +'.tiff', np.array(arr) )\n"
      ]
    },
    {
      "cell_type": "code",
      "execution_count": null,
      "metadata": {
        "id": "rqZk_Y3l6vF8",
        "outputId": "ebdeeccf-a166-495a-8897-82a3bcea82b0",
        "colab": {
          "base_uri": "https://localhost:8080/"
        }
      },
      "outputs": [
        {
          "output_type": "stream",
          "name": "stdout",
          "text": [
            "320 files found\n",
            "Number of training images: 3200\n"
          ]
        }
      ],
      "source": [
        "data_path = '/content/drive/MyDrive/bioimage-final/train/data/'\n",
        "dataset = net.DataProcess([dir_images, dir_masks], data_path=data_path, create=True, dilate_mask=1, skeletonize=False, \n",
        "                            noise_amp=10, brightness_contrast=(0.15, 0.15), aug_factor=10, invert=True, clip_threshold=(0., 99.8), \n",
        "                            dim_out=(256, 256), shiftscalerotate=(0, 0, 0), rescale=None)"
      ]
    },
    {
      "cell_type": "code",
      "execution_count": null,
      "metadata": {
        "id": "JGybsKPH6vF9"
      },
      "outputs": [],
      "source": [
        "model = net.Unet\n",
        "#dice\n",
        "Trainer = net.Trainer(dataset, num_epochs=20, network=net.Unet, batch_size=16, lr=0.0001, n_filter=32, val_split=0.2, \\\n",
        "             save_dir='/content/drive/MyDrive/bioimage-final/train/results/', save_name='model-10-20-dice.pth', save_iter=False, load_weights=False, loss_function='BCEDice', loss_params=(0.0, 1.0))\n"
      ]
    },
    {
      "cell_type": "code",
      "source": [
        "BCEDice_0_20 = [0.45263,0.44966,0.44792,0.44663,0.44555,0.44447,0.44351,0.44252,0.44146,0.44065,0.43965,0.43892,0.43792,0.43709,0.43629,0.43544,0.43447,0.43361,0.43268,0.43183]\n",
        "BCEDice_10_20 = [0.35965, 0.3456,0.33973, 0.3341, 0.32955, 0.32541, 0.32124, 0.31767, 0.31302, 0.30977, 0.30361, 0.29829, 0.29427, 0.2902, 0.28584, 0.28299, 0.27967, 0.2759, 0.27421, 0.26868]\n"
      ],
      "metadata": {
        "id": "SoBlI94u3hnO"
      },
      "execution_count": null,
      "outputs": []
    },
    {
      "cell_type": "code",
      "execution_count": null,
      "metadata": {
        "id": "BRHhtgCd6vGA",
        "colab": {
          "base_uri": "https://localhost:8080/"
        },
        "outputId": "3da57855-fc83-4876-f83e-6cf105bff9bf"
      },
      "outputs": [
        {
          "output_type": "stream",
          "name": "stdout",
          "text": [
            "\n",
            "Starting training epoch 0 ...\n",
            "2560/2560: [===============================>] - ETA 6.8s\n",
            "\n",
            "Starting validation epoch 0 ...\n",
            "640/640: [===============================>] - ETA 0.1s\n",
            "\n",
            "Validation loss improved from inf to 0.25034 - saving model state\n",
            "Predicting test data...\n",
            "\n",
            "Starting training epoch 1 ...\n",
            "2560/2560: [===============================>] - ETA 0.2s\n",
            "\n",
            "Starting validation epoch 1 ...\n",
            "640/640: [===============================>] - ETA 0.1s\n",
            "\n",
            "Validation loss improved from 0.25034 to 0.24754 - saving model state\n",
            "Predicting test data...\n",
            "\n",
            "Starting training epoch 2 ...\n",
            "2560/2560: [===============================>] - ETA 0.2s\n",
            "\n",
            "Starting validation epoch 2 ...\n",
            "640/640: [===============================>] - ETA 0.1s\n",
            "\n",
            "Validation loss improved from 0.24754 to 0.2443 - saving model state\n",
            "Predicting test data...\n",
            "\n",
            "Starting training epoch 3 ...\n",
            "2560/2560: [===============================>] - ETA 0.2s\n",
            "\n",
            "Starting validation epoch 3 ...\n",
            "640/640: [===============================>] - ETA 0.1s\n",
            "\n",
            "Validation loss improved from 0.2443 to 0.24133 - saving model state\n",
            "Predicting test data...\n",
            "\n",
            "Starting training epoch 4 ...\n",
            "2560/2560: [===============================>] - ETA 0.3s\n",
            "\n",
            "Starting validation epoch 4 ...\n",
            "640/640: [===============================>] - ETA 0.1s\n",
            "\n",
            "Validation loss improved from 0.24133 to 0.23844 - saving model state\n",
            "Predicting test data...\n",
            "\n",
            "Starting training epoch 5 ...\n",
            "2560/2560: [===============================>] - ETA 0.2s\n",
            "\n",
            "Starting validation epoch 5 ...\n",
            "640/640: [===============================>] - ETA 0.1s\n",
            "\n",
            "Validation loss improved from 0.23844 to 0.23546 - saving model state\n",
            "Predicting test data...\n",
            "\n",
            "Starting training epoch 6 ...\n",
            "2560/2560: [===============================>] - ETA 0.2s\n",
            "\n",
            "Starting validation epoch 6 ...\n",
            "640/640: [===============================>] - ETA 0.1s\n",
            "\n",
            "Validation loss improved from 0.23546 to 0.23258 - saving model state\n",
            "Predicting test data...\n",
            "\n",
            "Starting training epoch 7 ...\n",
            "2560/2560: [===============================>] - ETA 0.2s\n",
            "\n",
            "Starting validation epoch 7 ...\n",
            "640/640: [===============================>] - ETA 0.1s\n",
            "\n",
            "Validation loss improved from 0.23258 to 0.22964 - saving model state\n",
            "Predicting test data...\n",
            "\n",
            "Starting training epoch 8 ...\n",
            "2560/2560: [===============================>] - ETA 0.3s\n",
            "\n",
            "Starting validation epoch 8 ...\n",
            "640/640: [===============================>] - ETA 0.1s\n",
            "\n",
            "Validation loss improved from 0.22964 to 0.22661 - saving model state\n",
            "Predicting test data...\n",
            "\n",
            "Starting training epoch 9 ...\n",
            "2560/2560: [===============================>] - ETA 0.2s\n",
            "\n",
            "Starting validation epoch 9 ...\n",
            "640/640: [===============================>] - ETA 0.1s\n",
            "\n",
            "Validation loss improved from 0.22661 to 0.22392 - saving model state\n",
            "Predicting test data...\n",
            "\n",
            "Starting training epoch 10 ...\n",
            "2560/2560: [===============================>] - ETA 0.2s\n",
            "\n",
            "Starting validation epoch 10 ...\n",
            "640/640: [===============================>] - ETA 0.1s\n",
            "\n",
            "Validation loss improved from 0.22392 to 0.22103 - saving model state\n",
            "Predicting test data...\n",
            "\n",
            "Starting training epoch 11 ...\n",
            "2560/2560: [===============================>] - ETA 0.2s\n",
            "\n",
            "Starting validation epoch 11 ...\n",
            "640/640: [===============================>] - ETA 0.1s\n",
            "\n",
            "Validation loss improved from 0.22103 to 0.21817 - saving model state\n",
            "Predicting test data...\n",
            "\n",
            "Starting training epoch 12 ...\n",
            "2560/2560: [===============================>] - ETA 0.2s\n",
            "\n",
            "Starting validation epoch 12 ...\n",
            "640/640: [===============================>] - ETA 0.1s\n",
            "\n",
            "Validation loss improved from 0.21817 to 0.21538 - saving model state\n",
            "Predicting test data...\n",
            "\n",
            "Starting training epoch 13 ...\n",
            "2560/2560: [===============================>] - ETA 0.2s\n",
            "\n",
            "Starting validation epoch 13 ...\n",
            "640/640: [===============================>] - ETA 0.1s\n",
            "\n",
            "Validation loss improved from 0.21538 to 0.21266 - saving model state\n",
            "Predicting test data...\n",
            "\n",
            "Starting training epoch 14 ...\n",
            "2560/2560: [===============================>] - ETA 0.2s\n",
            "\n",
            "Starting validation epoch 14 ...\n",
            "640/640: [===============================>] - ETA 0.1s\n",
            "\n",
            "Validation loss improved from 0.21266 to 0.2097 - saving model state\n",
            "Predicting test data...\n",
            "\n",
            "Starting training epoch 15 ...\n",
            "2560/2560: [===============================>] - ETA 0.3s\n",
            "\n",
            "Starting validation epoch 15 ...\n",
            "640/640: [===============================>] - ETA 0.1s\n",
            "\n",
            "Validation loss improved from 0.2097 to 0.20714 - saving model state\n",
            "Predicting test data...\n",
            "\n",
            "Starting training epoch 16 ...\n",
            "2560/2560: [===============================>] - ETA 0.2s\n",
            "\n",
            "Starting validation epoch 16 ...\n",
            "640/640: [===============================>] - ETA 0.1s\n",
            "\n",
            "Validation loss improved from 0.20714 to 0.20454 - saving model state\n",
            "Predicting test data...\n",
            "\n",
            "Starting training epoch 17 ...\n",
            "2560/2560: [===============================>] - ETA 0.3s\n",
            "\n",
            "Starting validation epoch 17 ...\n",
            "640/640: [===============================>] - ETA 0.8s\n",
            "\n",
            "Validation loss improved from 0.20454 to 0.203 - saving model state\n",
            "Predicting test data...\n",
            "\n",
            "Starting training epoch 18 ...\n",
            "2560/2560: [===============================>] - ETA 2.1s\n",
            "\n",
            "Starting validation epoch 18 ...\n",
            "640/640: [===============================>] - ETA 10.1s\n",
            "\n",
            "Validation loss improved from 0.203 to 0.19946 - saving model state\n",
            "Predicting test data...\n",
            "\n",
            "Starting training epoch 19 ...\n",
            "2560/2560: [===============================>] - ETA 8.8s\n",
            "\n",
            "Starting validation epoch 19 ...\n",
            "640/640: [===============================>] - ETA 0.1s\n",
            "\n",
            "Validation loss improved from 0.19946 to 0.19672 - saving model state\n",
            "Predicting test data...\n"
          ]
        }
      ],
      "source": [
        "test_data_path =  '/content/drive/MyDrive/bioimage-final/test/image/'\n",
        "result_path = '/content/drive/MyDrive/bioimage-final/'\n",
        "             \n",
        "# start training\n",
        "Trainer.start(test_data_path=test_data_path, result_path=result_path)"
      ]
    },
    {
      "cell_type": "code",
      "source": [
        "test_dir = '/content/drive/MyDrive/bioimage-final/test/image/'\n",
        "result_dir = '/content/drive/MyDrive/bioimage-final/test/result_10_20_dice/'\n",
        "model_params = '/content/drive/MyDrive/bioimage-final/train/results/model-10-20-dice.pth'\n",
        "\n",
        "for img in glob.glob(test_dir+'*.tiff'):\n",
        "    file = img.split('/')[-1]\n",
        "    result_file = result_dir + file\n",
        "    prediction = net.Predict(img, result_file, network=net.Unet, model_params=model_params, invert=False, \n",
        "                          resize_dim=(1024, 1024), n_filter=32, clip_threshold=(0., 99.8), normalize_result=True)\n",
        "\n",
        "\n"
      ],
      "metadata": {
        "id": "zWzaXwep93Au",
        "colab": {
          "base_uri": "https://localhost:8080/"
        },
        "outputId": "bd98286a-4256-4b73-e85f-2b2ec69a9341"
      },
      "execution_count": 45,
      "outputs": [
        {
          "output_type": "stream",
          "name": "stdout",
          "text": [
            "Resizing into each 1 patches ...\n",
            "Predicting data ...\n"
          ]
        },
        {
          "output_type": "stream",
          "name": "stderr",
          "text": [
            "100%|██████████| 1/1 [00:00<00:00,  6.23it/s]"
          ]
        },
        {
          "output_type": "stream",
          "name": "stdout",
          "text": [
            "Stitching patches back together ...\n"
          ]
        },
        {
          "output_type": "stream",
          "name": "stderr",
          "text": [
            "\n",
            "/usr/local/lib/python3.8/dist-packages/biu/unet/utils.py:23: RuntimeWarning: invalid value encountered in true_divide\n",
            "  imgs /= np.nanmax(imgs)\n"
          ]
        },
        {
          "output_type": "stream",
          "name": "stdout",
          "text": [
            "Saving prediction results as /content/drive/MyDrive/bioimage-final/test/result_10_20_dice/1157.tiff\n",
            "Resizing into each 1 patches ...\n",
            "Predicting data ...\n"
          ]
        },
        {
          "output_type": "stream",
          "name": "stderr",
          "text": [
            "100%|██████████| 1/1 [00:00<00:00,  8.68it/s]"
          ]
        },
        {
          "output_type": "stream",
          "name": "stdout",
          "text": [
            "Stitching patches back together ...\n",
            "Saving prediction results as /content/drive/MyDrive/bioimage-final/test/result_10_20_dice/1123.tiff\n",
            "Resizing into each 1 patches ...\n"
          ]
        },
        {
          "output_type": "stream",
          "name": "stderr",
          "text": [
            "\n"
          ]
        },
        {
          "output_type": "stream",
          "name": "stdout",
          "text": [
            "Predicting data ...\n"
          ]
        },
        {
          "output_type": "stream",
          "name": "stderr",
          "text": [
            "100%|██████████| 1/1 [00:00<00:00,  8.58it/s]"
          ]
        },
        {
          "output_type": "stream",
          "name": "stdout",
          "text": [
            "Stitching patches back together ...\n"
          ]
        },
        {
          "output_type": "stream",
          "name": "stderr",
          "text": [
            "\n"
          ]
        },
        {
          "output_type": "stream",
          "name": "stdout",
          "text": [
            "Saving prediction results as /content/drive/MyDrive/bioimage-final/test/result_10_20_dice/1184.tiff\n",
            "Resizing into each 1 patches ...\n",
            "Predicting data ...\n"
          ]
        },
        {
          "output_type": "stream",
          "name": "stderr",
          "text": [
            "100%|██████████| 1/1 [00:00<00:00,  9.78it/s]"
          ]
        },
        {
          "output_type": "stream",
          "name": "stdout",
          "text": [
            "Stitching patches back together ...\n"
          ]
        },
        {
          "output_type": "stream",
          "name": "stderr",
          "text": [
            "\n"
          ]
        },
        {
          "output_type": "stream",
          "name": "stdout",
          "text": [
            "Saving prediction results as /content/drive/MyDrive/bioimage-final/test/result_10_20_dice/127.tiff\n",
            "Resizing into each 1 patches ...\n",
            "Predicting data ...\n"
          ]
        },
        {
          "output_type": "stream",
          "name": "stderr",
          "text": [
            "100%|██████████| 1/1 [00:00<00:00,  9.06it/s]"
          ]
        },
        {
          "output_type": "stream",
          "name": "stdout",
          "text": [
            "Stitching patches back together ...\n"
          ]
        },
        {
          "output_type": "stream",
          "name": "stderr",
          "text": [
            "\n"
          ]
        },
        {
          "output_type": "stream",
          "name": "stdout",
          "text": [
            "Saving prediction results as /content/drive/MyDrive/bioimage-final/test/result_10_20_dice/1229.tiff\n",
            "Resizing into each 1 patches ...\n",
            "Predicting data ...\n"
          ]
        },
        {
          "output_type": "stream",
          "name": "stderr",
          "text": [
            "100%|██████████| 1/1 [00:00<00:00,  9.67it/s]"
          ]
        },
        {
          "output_type": "stream",
          "name": "stdout",
          "text": [
            "Stitching patches back together ...\n"
          ]
        },
        {
          "output_type": "stream",
          "name": "stderr",
          "text": [
            "\n"
          ]
        },
        {
          "output_type": "stream",
          "name": "stdout",
          "text": [
            "Saving prediction results as /content/drive/MyDrive/bioimage-final/test/result_10_20_dice/1220.tiff\n",
            "Resizing into each 1 patches ...\n",
            "Predicting data ...\n"
          ]
        },
        {
          "output_type": "stream",
          "name": "stderr",
          "text": [
            "100%|██████████| 1/1 [00:00<00:00,  9.38it/s]"
          ]
        },
        {
          "output_type": "stream",
          "name": "stdout",
          "text": [
            "Stitching patches back together ...\n"
          ]
        },
        {
          "output_type": "stream",
          "name": "stderr",
          "text": [
            "\n"
          ]
        },
        {
          "output_type": "stream",
          "name": "stdout",
          "text": [
            "Saving prediction results as /content/drive/MyDrive/bioimage-final/test/result_10_20_dice/1168.tiff\n",
            "Resizing into each 1 patches ...\n",
            "Predicting data ...\n"
          ]
        },
        {
          "output_type": "stream",
          "name": "stderr",
          "text": [
            "100%|██████████| 1/1 [00:00<00:00,  9.34it/s]"
          ]
        },
        {
          "output_type": "stream",
          "name": "stdout",
          "text": [
            "Stitching patches back together ...\n"
          ]
        },
        {
          "output_type": "stream",
          "name": "stderr",
          "text": [
            "\n"
          ]
        },
        {
          "output_type": "stream",
          "name": "stdout",
          "text": [
            "Saving prediction results as /content/drive/MyDrive/bioimage-final/test/result_10_20_dice/144.tiff\n",
            "Resizing into each 1 patches ...\n",
            "Predicting data ...\n"
          ]
        },
        {
          "output_type": "stream",
          "name": "stderr",
          "text": [
            "100%|██████████| 1/1 [00:00<00:00,  9.61it/s]"
          ]
        },
        {
          "output_type": "stream",
          "name": "stdout",
          "text": [
            "Stitching patches back together ...\n"
          ]
        },
        {
          "output_type": "stream",
          "name": "stderr",
          "text": [
            "\n"
          ]
        },
        {
          "output_type": "stream",
          "name": "stdout",
          "text": [
            "Saving prediction results as /content/drive/MyDrive/bioimage-final/test/result_10_20_dice/1500.tiff\n",
            "Resizing into each 1 patches ...\n",
            "Predicting data ...\n"
          ]
        },
        {
          "output_type": "stream",
          "name": "stderr",
          "text": [
            "100%|██████████| 1/1 [00:00<00:00,  9.14it/s]"
          ]
        },
        {
          "output_type": "stream",
          "name": "stdout",
          "text": [
            "Stitching patches back together ...\n"
          ]
        },
        {
          "output_type": "stream",
          "name": "stderr",
          "text": [
            "\n"
          ]
        },
        {
          "output_type": "stream",
          "name": "stdout",
          "text": [
            "Saving prediction results as /content/drive/MyDrive/bioimage-final/test/result_10_20_dice/164.tiff\n",
            "Resizing into each 1 patches ...\n",
            "Predicting data ...\n"
          ]
        },
        {
          "output_type": "stream",
          "name": "stderr",
          "text": [
            "100%|██████████| 1/1 [00:00<00:00,  9.47it/s]"
          ]
        },
        {
          "output_type": "stream",
          "name": "stdout",
          "text": [
            "Stitching patches back together ...\n"
          ]
        },
        {
          "output_type": "stream",
          "name": "stderr",
          "text": [
            "\n"
          ]
        },
        {
          "output_type": "stream",
          "name": "stdout",
          "text": [
            "Saving prediction results as /content/drive/MyDrive/bioimage-final/test/result_10_20_dice/1690.tiff\n",
            "Resizing into each 1 patches ...\n",
            "Predicting data ...\n"
          ]
        },
        {
          "output_type": "stream",
          "name": "stderr",
          "text": [
            "100%|██████████| 1/1 [00:00<00:00,  9.46it/s]"
          ]
        },
        {
          "output_type": "stream",
          "name": "stdout",
          "text": [
            "Stitching patches back together ...\n"
          ]
        },
        {
          "output_type": "stream",
          "name": "stderr",
          "text": [
            "\n"
          ]
        },
        {
          "output_type": "stream",
          "name": "stdout",
          "text": [
            "Saving prediction results as /content/drive/MyDrive/bioimage-final/test/result_10_20_dice/1878.tiff\n",
            "Resizing into each 1 patches ...\n",
            "Predicting data ...\n"
          ]
        },
        {
          "output_type": "stream",
          "name": "stderr",
          "text": [
            "100%|██████████| 1/1 [00:00<00:00,  9.44it/s]"
          ]
        },
        {
          "output_type": "stream",
          "name": "stdout",
          "text": [
            "Stitching patches back together ...\n"
          ]
        },
        {
          "output_type": "stream",
          "name": "stderr",
          "text": [
            "\n"
          ]
        },
        {
          "output_type": "stream",
          "name": "stdout",
          "text": [
            "Saving prediction results as /content/drive/MyDrive/bioimage-final/test/result_10_20_dice/1731.tiff\n",
            "Resizing into each 1 patches ...\n",
            "Predicting data ...\n"
          ]
        },
        {
          "output_type": "stream",
          "name": "stderr",
          "text": [
            "100%|██████████| 1/1 [00:00<00:00,  9.60it/s]"
          ]
        },
        {
          "output_type": "stream",
          "name": "stdout",
          "text": [
            "Stitching patches back together ...\n"
          ]
        },
        {
          "output_type": "stream",
          "name": "stderr",
          "text": [
            "\n"
          ]
        },
        {
          "output_type": "stream",
          "name": "stdout",
          "text": [
            "Saving prediction results as /content/drive/MyDrive/bioimage-final/test/result_10_20_dice/1850.tiff\n",
            "Resizing into each 1 patches ...\n",
            "Predicting data ...\n"
          ]
        },
        {
          "output_type": "stream",
          "name": "stderr",
          "text": [
            "100%|██████████| 1/1 [00:00<00:00,  9.50it/s]"
          ]
        },
        {
          "output_type": "stream",
          "name": "stdout",
          "text": [
            "Stitching patches back together ...\n"
          ]
        },
        {
          "output_type": "stream",
          "name": "stderr",
          "text": [
            "\n"
          ]
        },
        {
          "output_type": "stream",
          "name": "stdout",
          "text": [
            "Saving prediction results as /content/drive/MyDrive/bioimage-final/test/result_10_20_dice/1955.tiff\n",
            "Resizing into each 1 patches ...\n",
            "Predicting data ...\n"
          ]
        },
        {
          "output_type": "stream",
          "name": "stderr",
          "text": [
            "100%|██████████| 1/1 [00:00<00:00,  9.38it/s]"
          ]
        },
        {
          "output_type": "stream",
          "name": "stdout",
          "text": [
            "Stitching patches back together ...\n"
          ]
        },
        {
          "output_type": "stream",
          "name": "stderr",
          "text": [
            "\n"
          ]
        },
        {
          "output_type": "stream",
          "name": "stdout",
          "text": [
            "Saving prediction results as /content/drive/MyDrive/bioimage-final/test/result_10_20_dice/203.tiff\n",
            "Resizing into each 1 patches ...\n",
            "Predicting data ...\n"
          ]
        },
        {
          "output_type": "stream",
          "name": "stderr",
          "text": [
            "100%|██████████| 1/1 [00:00<00:00,  9.65it/s]"
          ]
        },
        {
          "output_type": "stream",
          "name": "stdout",
          "text": [
            "Stitching patches back together ...\n"
          ]
        },
        {
          "output_type": "stream",
          "name": "stderr",
          "text": [
            "\n"
          ]
        },
        {
          "output_type": "stream",
          "name": "stdout",
          "text": [
            "Saving prediction results as /content/drive/MyDrive/bioimage-final/test/result_10_20_dice/2174.tiff\n",
            "Resizing into each 1 patches ...\n",
            "Predicting data ...\n"
          ]
        },
        {
          "output_type": "stream",
          "name": "stderr",
          "text": [
            "100%|██████████| 1/1 [00:00<00:00,  9.31it/s]"
          ]
        },
        {
          "output_type": "stream",
          "name": "stdout",
          "text": [
            "Stitching patches back together ...\n"
          ]
        },
        {
          "output_type": "stream",
          "name": "stderr",
          "text": [
            "\n"
          ]
        },
        {
          "output_type": "stream",
          "name": "stdout",
          "text": [
            "Saving prediction results as /content/drive/MyDrive/bioimage-final/test/result_10_20_dice/2079.tiff\n",
            "Resizing into each 1 patches ...\n",
            "Predicting data ...\n"
          ]
        },
        {
          "output_type": "stream",
          "name": "stderr",
          "text": [
            "100%|██████████| 1/1 [00:00<00:00,  8.89it/s]"
          ]
        },
        {
          "output_type": "stream",
          "name": "stdout",
          "text": [
            "Stitching patches back together ...\n"
          ]
        },
        {
          "output_type": "stream",
          "name": "stderr",
          "text": [
            "\n"
          ]
        },
        {
          "output_type": "stream",
          "name": "stdout",
          "text": [
            "Saving prediction results as /content/drive/MyDrive/bioimage-final/test/result_10_20_dice/2279.tiff\n",
            "Resizing into each 1 patches ...\n",
            "Predicting data ...\n"
          ]
        },
        {
          "output_type": "stream",
          "name": "stderr",
          "text": [
            "100%|██████████| 1/1 [00:00<00:00,  9.32it/s]"
          ]
        },
        {
          "output_type": "stream",
          "name": "stdout",
          "text": [
            "Stitching patches back together ...\n"
          ]
        },
        {
          "output_type": "stream",
          "name": "stderr",
          "text": [
            "\n"
          ]
        },
        {
          "output_type": "stream",
          "name": "stdout",
          "text": [
            "Saving prediction results as /content/drive/MyDrive/bioimage-final/test/result_10_20_dice/2344.tiff\n",
            "Resizing into each 1 patches ...\n",
            "Predicting data ...\n"
          ]
        },
        {
          "output_type": "stream",
          "name": "stderr",
          "text": [
            "100%|██████████| 1/1 [00:00<00:00,  9.45it/s]"
          ]
        },
        {
          "output_type": "stream",
          "name": "stdout",
          "text": [
            "Stitching patches back together ...\n"
          ]
        },
        {
          "output_type": "stream",
          "name": "stderr",
          "text": [
            "\n"
          ]
        },
        {
          "output_type": "stream",
          "name": "stdout",
          "text": [
            "Saving prediction results as /content/drive/MyDrive/bioimage-final/test/result_10_20_dice/2447.tiff\n",
            "Resizing into each 1 patches ...\n",
            "Predicting data ...\n"
          ]
        },
        {
          "output_type": "stream",
          "name": "stderr",
          "text": [
            "100%|██████████| 1/1 [00:00<00:00,  9.46it/s]"
          ]
        },
        {
          "output_type": "stream",
          "name": "stdout",
          "text": [
            "Stitching patches back together ...\n"
          ]
        },
        {
          "output_type": "stream",
          "name": "stderr",
          "text": [
            "\n"
          ]
        },
        {
          "output_type": "stream",
          "name": "stdout",
          "text": [
            "Saving prediction results as /content/drive/MyDrive/bioimage-final/test/result_10_20_dice/2500.tiff\n",
            "Resizing into each 1 patches ...\n",
            "Predicting data ...\n"
          ]
        },
        {
          "output_type": "stream",
          "name": "stderr",
          "text": [
            "100%|██████████| 1/1 [00:00<00:00,  8.97it/s]"
          ]
        },
        {
          "output_type": "stream",
          "name": "stdout",
          "text": [
            "Stitching patches back together ...\n"
          ]
        },
        {
          "output_type": "stream",
          "name": "stderr",
          "text": [
            "\n"
          ]
        },
        {
          "output_type": "stream",
          "name": "stdout",
          "text": [
            "Saving prediction results as /content/drive/MyDrive/bioimage-final/test/result_10_20_dice/2424.tiff\n",
            "Resizing into each 1 patches ...\n",
            "Predicting data ...\n"
          ]
        },
        {
          "output_type": "stream",
          "name": "stderr",
          "text": [
            "100%|██████████| 1/1 [00:00<00:00,  9.34it/s]"
          ]
        },
        {
          "output_type": "stream",
          "name": "stdout",
          "text": [
            "Stitching patches back together ...\n"
          ]
        },
        {
          "output_type": "stream",
          "name": "stderr",
          "text": [
            "\n"
          ]
        },
        {
          "output_type": "stream",
          "name": "stdout",
          "text": [
            "Saving prediction results as /content/drive/MyDrive/bioimage-final/test/result_10_20_dice/435.tiff\n",
            "Resizing into each 1 patches ...\n",
            "Predicting data ...\n"
          ]
        },
        {
          "output_type": "stream",
          "name": "stderr",
          "text": [
            "100%|██████████| 1/1 [00:00<00:00,  9.39it/s]"
          ]
        },
        {
          "output_type": "stream",
          "name": "stdout",
          "text": [
            "Stitching patches back together ...\n"
          ]
        },
        {
          "output_type": "stream",
          "name": "stderr",
          "text": [
            "\n"
          ]
        },
        {
          "output_type": "stream",
          "name": "stdout",
          "text": [
            "Saving prediction results as /content/drive/MyDrive/bioimage-final/test/result_10_20_dice/351.tiff\n",
            "Resizing into each 1 patches ...\n",
            "Predicting data ...\n"
          ]
        },
        {
          "output_type": "stream",
          "name": "stderr",
          "text": [
            "100%|██████████| 1/1 [00:00<00:00,  9.62it/s]"
          ]
        },
        {
          "output_type": "stream",
          "name": "stdout",
          "text": [
            "Stitching patches back together ...\n"
          ]
        },
        {
          "output_type": "stream",
          "name": "stderr",
          "text": [
            "\n"
          ]
        },
        {
          "output_type": "stream",
          "name": "stdout",
          "text": [
            "Saving prediction results as /content/drive/MyDrive/bioimage-final/test/result_10_20_dice/62.tiff\n",
            "Resizing into each 1 patches ...\n",
            "Predicting data ...\n"
          ]
        },
        {
          "output_type": "stream",
          "name": "stderr",
          "text": [
            "100%|██████████| 1/1 [00:00<00:00,  9.58it/s]"
          ]
        },
        {
          "output_type": "stream",
          "name": "stdout",
          "text": [
            "Stitching patches back together ...\n"
          ]
        },
        {
          "output_type": "stream",
          "name": "stderr",
          "text": [
            "\n"
          ]
        },
        {
          "output_type": "stream",
          "name": "stdout",
          "text": [
            "Saving prediction results as /content/drive/MyDrive/bioimage-final/test/result_10_20_dice/660.tiff\n",
            "Resizing into each 1 patches ...\n",
            "Predicting data ...\n"
          ]
        },
        {
          "output_type": "stream",
          "name": "stderr",
          "text": [
            "100%|██████████| 1/1 [00:00<00:00,  9.44it/s]"
          ]
        },
        {
          "output_type": "stream",
          "name": "stdout",
          "text": [
            "Stitching patches back together ...\n"
          ]
        },
        {
          "output_type": "stream",
          "name": "stderr",
          "text": [
            "\n"
          ]
        },
        {
          "output_type": "stream",
          "name": "stdout",
          "text": [
            "Saving prediction results as /content/drive/MyDrive/bioimage-final/test/result_10_20_dice/676.tiff\n",
            "Resizing into each 1 patches ...\n",
            "Predicting data ...\n"
          ]
        },
        {
          "output_type": "stream",
          "name": "stderr",
          "text": [
            "100%|██████████| 1/1 [00:00<00:00,  9.59it/s]"
          ]
        },
        {
          "output_type": "stream",
          "name": "stdout",
          "text": [
            "Stitching patches back together ...\n"
          ]
        },
        {
          "output_type": "stream",
          "name": "stderr",
          "text": [
            "\n"
          ]
        },
        {
          "output_type": "stream",
          "name": "stdout",
          "text": [
            "Saving prediction results as /content/drive/MyDrive/bioimage-final/test/result_10_20_dice/737.tiff\n",
            "Resizing into each 1 patches ...\n",
            "Predicting data ...\n"
          ]
        },
        {
          "output_type": "stream",
          "name": "stderr",
          "text": [
            "100%|██████████| 1/1 [00:00<00:00,  9.39it/s]"
          ]
        },
        {
          "output_type": "stream",
          "name": "stdout",
          "text": [
            "Stitching patches back together ...\n"
          ]
        },
        {
          "output_type": "stream",
          "name": "stderr",
          "text": [
            "\n"
          ]
        },
        {
          "output_type": "stream",
          "name": "stdout",
          "text": [
            "Saving prediction results as /content/drive/MyDrive/bioimage-final/test/result_10_20_dice/686.tiff\n",
            "Resizing into each 1 patches ...\n",
            "Predicting data ...\n"
          ]
        },
        {
          "output_type": "stream",
          "name": "stderr",
          "text": [
            "100%|██████████| 1/1 [00:00<00:00,  9.18it/s]"
          ]
        },
        {
          "output_type": "stream",
          "name": "stdout",
          "text": [
            "Stitching patches back together ...\n"
          ]
        },
        {
          "output_type": "stream",
          "name": "stderr",
          "text": [
            "\n"
          ]
        },
        {
          "output_type": "stream",
          "name": "stdout",
          "text": [
            "Saving prediction results as /content/drive/MyDrive/bioimage-final/test/result_10_20_dice/928.tiff\n"
          ]
        }
      ]
    },
    {
      "cell_type": "code",
      "source": [
        "import cv2\n",
        "result_directory = '/content/drive/MyDrive/bioimage-final/test/result_10_20_dice/'\n",
        "for img in glob.glob(result_directory+'*.tiff'):\n",
        "  arr = Image.open(img)\n",
        "  inv = ImageOps.invert(arr)\n",
        "  cv2.imwrite(img, np.array(inv))"
      ],
      "metadata": {
        "id": "F9obq7DxDCaf"
      },
      "execution_count": 46,
      "outputs": []
    },
    {
      "cell_type": "code",
      "source": [
        "import keras.backend as K\n",
        "result_dir = '/content/drive/MyDrive/bioimage-final/test/result_10_20_dice/'\n",
        "label_dir ='/content/drive/MyDrive/bioimage-final/test/label/'\n",
        "\n",
        "def dice_coef(im1, im2):\n",
        "    im1 = np.asarray(im1).astype(bool)\n",
        "    im2 = np.asarray(im2).astype(bool)\n",
        "\n",
        "    if im1.shape != im2.shape:\n",
        "        raise ValueError(\"Shape mismatch: im1 and im2 must have the same shape.\")\n",
        "\n",
        "    # Compute Dice coefficient\n",
        "    intersection = np.logical_and(im1, im2)\n",
        "\n",
        "    return 2. * intersection.sum() / (im1.sum() + im2.sum())\n",
        "\n",
        "\n",
        "dice_sum = 0\n",
        "for img in glob.glob(result_dir+'*.tiff'):\n",
        "  filename = img.split('/')[-1]\n",
        "  predicted = np.array(Image.open(img))\n",
        "  predicted = (predicted > 128).astype('uint8')\n",
        "  # print(predicted[100])\n",
        "\n",
        "  label = np.array(Image.open(label_dir+filename))\n",
        "  label = (label > 128).astype('uint8')\n",
        "  # print(label[100])\n",
        "\n",
        "  dice = dice_coef(predicted,label)\n",
        "  print(dice)\n",
        "  dice_sum += dice\n",
        "\n",
        "print(dice_sum/31)\n"
      ],
      "metadata": {
        "colab": {
          "base_uri": "https://localhost:8080/"
        },
        "id": "YkTewSlDVbPv",
        "outputId": "94818832-c2bc-45e9-a50c-940cce90b3d5"
      },
      "execution_count": 47,
      "outputs": [
        {
          "output_type": "stream",
          "name": "stdout",
          "text": [
            "0.613091641490433\n",
            "0.7922700438972703\n",
            "0.00044081992506061276\n",
            "0.7352901023890785\n",
            "0.013970331984787187\n",
            "0.7115273885839315\n",
            "0.24720844087243746\n",
            "0.7864791482351505\n",
            "0.0\n",
            "0.8617550445800094\n",
            "0.0\n",
            "0.020927388304217184\n",
            "0.585901224145209\n",
            "0.782943143812709\n",
            "0.6537497150672441\n",
            "0.8313687755592976\n",
            "0.4164117329494331\n",
            "0.5239294710327456\n",
            "0.1468945723939998\n",
            "0.07190350102971463\n",
            "0.0\n",
            "0.0\n",
            "0.7787693314021399\n",
            "0.7350610664283587\n",
            "0.029140666115329675\n",
            "0.048739821059056464\n",
            "0.5963239714850125\n",
            "0.5140893470790378\n",
            "0.013157495831438533\n",
            "0.6850805607867755\n",
            "0.03678629201366006\n",
            "0.3946197109178561\n"
          ]
        }
      ]
    },
    {
      "cell_type": "code",
      "source": [
        "#test set average dice is = 0.4243453935869926, with max of 0.9015824460262368 + min of 0.0"
      ],
      "metadata": {
        "id": "AGssg8R9ffwu"
      },
      "execution_count": null,
      "outputs": []
    }
  ],
  "metadata": {
    "kernelspec": {
      "display_name": "Python 3.8.0 64-bit",
      "language": "python",
      "name": "python3"
    },
    "language_info": {
      "codemirror_mode": {
        "name": "ipython",
        "version": 3
      },
      "file_extension": ".py",
      "mimetype": "text/x-python",
      "name": "python",
      "nbconvert_exporter": "python",
      "pygments_lexer": "ipython3",
      "version": "3.8.0"
    },
    "orig_nbformat": 4,
    "vscode": {
      "interpreter": {
        "hash": "0adcc2737ebf6a4a119f135174df96668767fca1ef1112612db5ecadf2b6d608"
      }
    },
    "colab": {
      "provenance": []
    },
    "accelerator": "GPU",
    "gpuClass": "standard"
  },
  "nbformat": 4,
  "nbformat_minor": 0
}